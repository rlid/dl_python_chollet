{
 "cells": [
  {
   "cell_type": "code",
   "execution_count": 23,
   "metadata": {},
   "outputs": [],
   "source": [
    "import tensorflow as tf\n",
    "import keras\n",
    "from keras import layers, activations, optimizers, losses, metrics, callbacks"
   ]
  },
  {
   "cell_type": "code",
   "execution_count": 28,
   "metadata": {},
   "outputs": [],
   "source": [
    "class TransformerEncoder(layers.Layer):\n",
    "    def __init__(self, embed_dim, dense_dim, num_heads, **kwargs):\n",
    "        super().__init__(**kwargs)\n",
    "        self.embed_dim = embed_dim\n",
    "        self.dense_dim = dense_dim\n",
    "        self.num_heads = num_heads\n",
    "        self.attention = layers.MultiHeadAttention(num_heads=num_heads, key_dim=embed_dim)\n",
    "        self.dense_proj = keras.Sequential([\n",
    "            layers.Dense(dense_dim, activation=activations.relu),\n",
    "            layers.Dense(embed_dim)\n",
    "        ])\n",
    "        self.layernorm_1 = layers.LayerNormalization()\n",
    "        self.layernorm_2 = layers.LayerNormalization()\n",
    "    \n",
    "    def call(self, inputs, mask=None):\n",
    "        if mask is not None:\n",
    "            mask = mask[:, tf.newaxis, :]\n",
    "        attention_output = self.attention(inputs, inputs, attention_mask=mask)\n",
    "        proj_input = self.layernorm_1(inputs + attention_output)\n",
    "        proj_output = self.dense_proj(proj_input)\n",
    "        return self.layernorm_2(proj_input + proj_output)\n",
    "    \n",
    "    def get_config(self):\n",
    "        config = super().get_config()\n",
    "        config.update({\n",
    "            'embed_dim': self.embed_dim,\n",
    "            'num_heads': self.num_heads,\n",
    "            'dense_dim': self.dense_dim\n",
    "        })\n",
    "        return config"
   ]
  },
  {
   "cell_type": "code",
   "execution_count": 31,
   "metadata": {},
   "outputs": [
    {
     "name": "stdout",
     "output_type": "stream",
     "text": [
      "Model: \"model_1\"\n",
      "_________________________________________________________________\n",
      " Layer (type)                Output Shape              Param #   \n",
      "=================================================================\n",
      " input_5 (InputLayer)        [(None, None)]            0         \n",
      "                                                                 \n",
      " embedding_4 (Embedding)     (None, None, 256)         5120000   \n",
      "                                                                 \n",
      " transformer_encoder_3 (Tra  (None, None, 256)         543776    \n",
      " nsformerEncoder)                                                \n",
      "                                                                 \n",
      " global_max_pooling1d_3 (Gl  (None, 256)               0         \n",
      " obalMaxPooling1D)                                               \n",
      "                                                                 \n",
      " dropout_1 (Dropout)         (None, 256)               0         \n",
      "                                                                 \n",
      " dense_9 (Dense)             (None, 1)                 257       \n",
      "                                                                 \n",
      "=================================================================\n",
      "Total params: 5664033 (21.61 MB)\n",
      "Trainable params: 5664033 (21.61 MB)\n",
      "Non-trainable params: 0 (0.00 Byte)\n",
      "_________________________________________________________________\n"
     ]
    }
   ],
   "source": [
    "vocab_size = 20000\n",
    "embed_dim = 256\n",
    "num_heads = 2\n",
    "dense_dim = 32\n",
    "\n",
    "inputs = layers.Input(shape=(None,), dtype=tf.int64)\n",
    "x = layers.Embedding(vocab_size, embed_dim)(inputs)\n",
    "x = TransformerEncoder(embed_dim=embed_dim, dense_dim=dense_dim, num_heads=2)(x)\n",
    "x = layers.GlobalMaxPool1D()(x)\n",
    "x = layers.Dropout(0.5)(x)\n",
    "outputs = layers.Dense(1, activation=activations.sigmoid)(x)\n",
    "model = keras.Model(inputs, outputs)\n",
    "\n",
    "model.compile(optimizer=optimizers.RMSprop(), loss=losses.BinaryCrossentropy(), metrics=[metrics.BinaryAccuracy()])\n",
    "model.summary()"
   ]
  },
  {
   "cell_type": "code",
   "execution_count": 32,
   "metadata": {},
   "outputs": [
    {
     "name": "stdout",
     "output_type": "stream",
     "text": [
      "Found 20000 files belonging to 2 classes.\n",
      "Found 5000 files belonging to 2 classes.\n",
      "Found 25000 files belonging to 2 classes.\n"
     ]
    }
   ],
   "source": [
    "batch_size = 32\n",
    "\n",
    "train_ds = keras.utils.text_dataset_from_directory(\n",
    "    'aclImdb/train', batch_size=batch_size\n",
    ")\n",
    "\n",
    "val_ds = keras.utils.text_dataset_from_directory(\n",
    "    'aclImdb/val', batch_size=batch_size\n",
    ")\n",
    "\n",
    "test_ds = keras.utils.text_dataset_from_directory(\n",
    "    'aclImdb/test', batch_size=batch_size\n",
    ")\n",
    "\n",
    "max_length = 600\n",
    "max_tokens = 20000\n",
    "\n",
    "text_only_train_ds = train_ds.map(lambda x, y: x)\n",
    "\n",
    "text_vectorization = layers.TextVectorization(max_tokens=max_tokens, output_mode='int', output_sequence_length=max_length)\n",
    "text_vectorization.adapt(text_only_train_ds)\n",
    "\n",
    "int_train_ds = train_ds.map(lambda x, y: (text_vectorization(x), y), num_parallel_calls=16)\n",
    "int_val_ds = val_ds.map(lambda x, y: (text_vectorization(x), y), num_parallel_calls=16)\n",
    "int_test_ds = test_ds.map(lambda x, y: (text_vectorization(x), y), num_parallel_calls=16)"
   ]
  },
  {
   "cell_type": "code",
   "execution_count": 34,
   "metadata": {},
   "outputs": [
    {
     "name": "stdout",
     "output_type": "stream",
     "text": [
      "Epoch 1/20\n",
      "625/625 [==============================] - ETA: 0s - loss: 0.5042 - binary_accuracy: 0.7598INFO:tensorflow:Assets written to: transformer_encoder/assets\n"
     ]
    },
    {
     "name": "stderr",
     "output_type": "stream",
     "text": [
      "INFO:tensorflow:Assets written to: transformer_encoder/assets\n"
     ]
    },
    {
     "name": "stdout",
     "output_type": "stream",
     "text": [
      "625/625 [==============================] - 282s 451ms/step - loss: 0.5042 - binary_accuracy: 0.7598 - val_loss: 0.3555 - val_binary_accuracy: 0.8488\n",
      "Epoch 2/20\n",
      "625/625 [==============================] - ETA: 0s - loss: 0.3425 - binary_accuracy: 0.8500INFO:tensorflow:Assets written to: transformer_encoder/assets\n"
     ]
    },
    {
     "name": "stderr",
     "output_type": "stream",
     "text": [
      "INFO:tensorflow:Assets written to: transformer_encoder/assets\n"
     ]
    },
    {
     "name": "stdout",
     "output_type": "stream",
     "text": [
      "625/625 [==============================] - 281s 450ms/step - loss: 0.3425 - binary_accuracy: 0.8500 - val_loss: 0.3120 - val_binary_accuracy: 0.8686\n",
      "Epoch 3/20\n",
      "625/625 [==============================] - 278s 444ms/step - loss: 0.3038 - binary_accuracy: 0.8723 - val_loss: 0.3136 - val_binary_accuracy: 0.8706\n",
      "Epoch 4/20\n",
      "625/625 [==============================] - ETA: 0s - loss: 0.2738 - binary_accuracy: 0.8867INFO:tensorflow:Assets written to: transformer_encoder/assets\n"
     ]
    },
    {
     "name": "stderr",
     "output_type": "stream",
     "text": [
      "INFO:tensorflow:Assets written to: transformer_encoder/assets\n"
     ]
    },
    {
     "name": "stdout",
     "output_type": "stream",
     "text": [
      "625/625 [==============================] - 279s 447ms/step - loss: 0.2738 - binary_accuracy: 0.8867 - val_loss: 0.2985 - val_binary_accuracy: 0.8726\n",
      "Epoch 5/20\n",
      "625/625 [==============================] - 281s 450ms/step - loss: 0.2447 - binary_accuracy: 0.8996 - val_loss: 0.2993 - val_binary_accuracy: 0.8806\n",
      "Epoch 6/20\n",
      "625/625 [==============================] - 278s 445ms/step - loss: 0.2116 - binary_accuracy: 0.9173 - val_loss: 0.3035 - val_binary_accuracy: 0.8800\n",
      "Epoch 7/20\n",
      "625/625 [==============================] - 282s 451ms/step - loss: 0.1843 - binary_accuracy: 0.9273 - val_loss: 0.2991 - val_binary_accuracy: 0.8860\n",
      "Epoch 8/20\n",
      "625/625 [==============================] - 284s 455ms/step - loss: 0.1519 - binary_accuracy: 0.9413 - val_loss: 0.3146 - val_binary_accuracy: 0.8852\n",
      "Epoch 9/20\n",
      "625/625 [==============================] - 280s 448ms/step - loss: 0.1231 - binary_accuracy: 0.9557 - val_loss: 0.3491 - val_binary_accuracy: 0.8778\n",
      "Epoch 10/20\n",
      "625/625 [==============================] - 279s 447ms/step - loss: 0.0977 - binary_accuracy: 0.9646 - val_loss: 0.3877 - val_binary_accuracy: 0.8782\n",
      "Epoch 11/20\n",
      "625/625 [==============================] - 282s 452ms/step - loss: 0.0763 - binary_accuracy: 0.9736 - val_loss: 0.4089 - val_binary_accuracy: 0.8766\n",
      "Epoch 12/20\n",
      "625/625 [==============================] - 277s 444ms/step - loss: 0.0590 - binary_accuracy: 0.9797 - val_loss: 0.4144 - val_binary_accuracy: 0.8796\n",
      "Epoch 13/20\n",
      "625/625 [==============================] - 276s 442ms/step - loss: 0.0470 - binary_accuracy: 0.9843 - val_loss: 0.4549 - val_binary_accuracy: 0.8778\n",
      "Epoch 14/20\n",
      "625/625 [==============================] - 276s 441ms/step - loss: 0.0388 - binary_accuracy: 0.9858 - val_loss: 0.5058 - val_binary_accuracy: 0.8776\n",
      "Epoch 15/20\n",
      "625/625 [==============================] - 280s 448ms/step - loss: 0.0311 - binary_accuracy: 0.9890 - val_loss: 0.5373 - val_binary_accuracy: 0.8734\n",
      "Epoch 16/20\n",
      "625/625 [==============================] - 283s 452ms/step - loss: 0.0220 - binary_accuracy: 0.9923 - val_loss: 0.5274 - val_binary_accuracy: 0.8752\n",
      "Epoch 17/20\n",
      "625/625 [==============================] - 282s 451ms/step - loss: 0.0194 - binary_accuracy: 0.9921 - val_loss: 0.6464 - val_binary_accuracy: 0.8682\n",
      "Epoch 18/20\n",
      "625/625 [==============================] - 282s 452ms/step - loss: 0.0170 - binary_accuracy: 0.9942 - val_loss: 0.6713 - val_binary_accuracy: 0.8698\n",
      "Epoch 19/20\n",
      "625/625 [==============================] - 281s 449ms/step - loss: 0.0166 - binary_accuracy: 0.9940 - val_loss: 0.7801 - val_binary_accuracy: 0.8634\n",
      "Epoch 20/20\n",
      "625/625 [==============================] - 280s 448ms/step - loss: 0.0172 - binary_accuracy: 0.9948 - val_loss: 0.7901 - val_binary_accuracy: 0.8690\n",
      "782/782 [==============================] - 127s 162ms/step - loss: 0.3464 - binary_accuracy: 0.8474\n",
      "[0.34637850522994995, 0.8474000096321106]\n"
     ]
    }
   ],
   "source": [
    "\n",
    "callback_list = [\n",
    "    callbacks.ModelCheckpoint('transformer_encoder', save_best_only=True)\n",
    "]\n",
    "model.fit(int_train_ds, validation_data=int_val_ds, epochs=20, callbacks=callback_list)\n",
    "\n",
    "model = keras.models.load_model('transformer_encoder', custom_objects={'TransformerEncoder': TransformerEncoder})\n",
    "print(model.evaluate(int_test_ds))"
   ]
  },
  {
   "cell_type": "code",
   "execution_count": 35,
   "metadata": {},
   "outputs": [],
   "source": [
    "class PositionalEmbedding(layers.Layer):\n",
    "    def __init__(self, seq_len, in_dim, out_dim, **kwargs):\n",
    "        super().__init__(**kwargs)\n",
    "        self.token_embeddings = layers.Embedding(input_dim=in_dim, output_dim=out_dim)\n",
    "        self.position_embeddings = layers.Embedding(input_dim=seq_len, output_dim=out_dim)\n",
    "        self.seq_len = seq_len\n",
    "        self.in_dim = in_dim\n",
    "        self.out_dim = out_dim\n",
    "    \n",
    "    def call(self, inputs):\n",
    "        positions = tf.range(start=0, limit=inputs.shape[-1])\n",
    "        embeded_tokens = self.token_embeddings(inputs)\n",
    "        embeded_positions = self.position_embeddings(positions)\n",
    "        return embeded_tokens + embeded_positions\n",
    "    \n",
    "    def compute_mask(self, inputs, mark=None):\n",
    "        return tf.math.not_equal(inputs, 0)\n",
    "    \n",
    "    def get_config(self):\n",
    "        config = super().get_config()\n",
    "        config.update({\n",
    "            'seq_len': self.seq_len,\n",
    "            'in_dim': self.in_dim,\n",
    "            'out_dim': self.out_dim\n",
    "        })\n",
    "        return config"
   ]
  },
  {
   "cell_type": "code",
   "execution_count": 37,
   "metadata": {},
   "outputs": [
    {
     "name": "stdout",
     "output_type": "stream",
     "text": [
      "Model: \"model_2\"\n",
      "_________________________________________________________________\n",
      " Layer (type)                Output Shape              Param #   \n",
      "=================================================================\n",
      " input_7 (InputLayer)        [(None, None)]            0         \n",
      "                                                                 \n",
      " positional_embedding_1 (Po  (None, None, 256)         5273600   \n",
      " sitionalEmbedding)                                              \n",
      "                                                                 \n",
      " transformer_encoder_5 (Tra  (None, None, 256)         543776    \n",
      " nsformerEncoder)                                                \n",
      "                                                                 \n",
      " global_max_pooling1d_5 (Gl  (None, 256)               0         \n",
      " obalMaxPooling1D)                                               \n",
      "                                                                 \n",
      " dropout_2 (Dropout)         (None, 256)               0         \n",
      "                                                                 \n",
      " dense_16 (Dense)            (None, 1)                 257       \n",
      "                                                                 \n",
      "=================================================================\n",
      "Total params: 5817633 (22.19 MB)\n",
      "Trainable params: 5817633 (22.19 MB)\n",
      "Non-trainable params: 0 (0.00 Byte)\n",
      "_________________________________________________________________\n"
     ]
    }
   ],
   "source": [
    "vocab_size = 20000\n",
    "seq_len = 600\n",
    "embed_dim = 256\n",
    "num_heads = 2\n",
    "dense_dim = 32\n",
    "\n",
    "inputs = layers.Input(shape=(None,), dtype=tf.int64)\n",
    "x = PositionalEmbedding(seq_len=seq_len, in_dim=vocab_size, out_dim=embed_dim)(inputs)\n",
    "x = TransformerEncoder(embed_dim=embed_dim, dense_dim=dense_dim, num_heads=num_heads)(x)\n",
    "x = layers.GlobalMaxPooling1D()(x)\n",
    "x = layers.Dropout(0.5)(x)\n",
    "outputs = layers.Dense(1, activation=activations.sigmoid)(x)\n",
    "model = keras.Model(inputs=inputs, outputs=outputs)\n",
    "model.compile(optimizer=optimizers.RMSprop(), loss=losses.BinaryCrossentropy(), metrics=[metrics.BinaryAccuracy()])\n",
    "model.summary()"
   ]
  },
  {
   "cell_type": "code",
   "execution_count": 38,
   "metadata": {},
   "outputs": [
    {
     "name": "stdout",
     "output_type": "stream",
     "text": [
      "Epoch 1/20\n",
      "625/625 [==============================] - ETA: 0s - loss: 0.5334 - binary_accuracy: 0.7369INFO:tensorflow:Assets written to: full_transformer_encoder/assets\n"
     ]
    },
    {
     "name": "stderr",
     "output_type": "stream",
     "text": [
      "INFO:tensorflow:Assets written to: full_transformer_encoder/assets\n"
     ]
    },
    {
     "name": "stdout",
     "output_type": "stream",
     "text": [
      "625/625 [==============================] - 296s 472ms/step - loss: 0.5334 - binary_accuracy: 0.7369 - val_loss: 0.3647 - val_binary_accuracy: 0.8426\n",
      "Epoch 2/20\n",
      "625/625 [==============================] - ETA: 0s - loss: 0.3032 - binary_accuracy: 0.8723INFO:tensorflow:Assets written to: full_transformer_encoder/assets\n"
     ]
    },
    {
     "name": "stderr",
     "output_type": "stream",
     "text": [
      "INFO:tensorflow:Assets written to: full_transformer_encoder/assets\n"
     ]
    },
    {
     "name": "stdout",
     "output_type": "stream",
     "text": [
      "625/625 [==============================] - 297s 475ms/step - loss: 0.3032 - binary_accuracy: 0.8723 - val_loss: 0.2871 - val_binary_accuracy: 0.8790\n",
      "Epoch 3/20\n",
      "625/625 [==============================] - ETA: 0s - loss: 0.2386 - binary_accuracy: 0.9051INFO:tensorflow:Assets written to: full_transformer_encoder/assets\n"
     ]
    },
    {
     "name": "stderr",
     "output_type": "stream",
     "text": [
      "INFO:tensorflow:Assets written to: full_transformer_encoder/assets\n"
     ]
    },
    {
     "name": "stdout",
     "output_type": "stream",
     "text": [
      "625/625 [==============================] - 298s 476ms/step - loss: 0.2386 - binary_accuracy: 0.9051 - val_loss: 0.2830 - val_binary_accuracy: 0.8852\n",
      "Epoch 4/20\n",
      "625/625 [==============================] - 297s 475ms/step - loss: 0.1956 - binary_accuracy: 0.9247 - val_loss: 0.3101 - val_binary_accuracy: 0.8824\n",
      "Epoch 5/20\n",
      "625/625 [==============================] - 297s 476ms/step - loss: 0.1639 - binary_accuracy: 0.9360 - val_loss: 0.3955 - val_binary_accuracy: 0.8758\n",
      "Epoch 6/20\n",
      "625/625 [==============================] - 296s 474ms/step - loss: 0.1398 - binary_accuracy: 0.9470 - val_loss: 0.4381 - val_binary_accuracy: 0.8728\n",
      "Epoch 7/20\n",
      "625/625 [==============================] - 293s 469ms/step - loss: 0.1146 - binary_accuracy: 0.9564 - val_loss: 0.4788 - val_binary_accuracy: 0.8814\n",
      "Epoch 8/20\n",
      "625/625 [==============================] - 295s 471ms/step - loss: 0.0920 - binary_accuracy: 0.9659 - val_loss: 0.6312 - val_binary_accuracy: 0.8832\n",
      "Epoch 9/20\n",
      "625/625 [==============================] - 297s 475ms/step - loss: 0.0713 - binary_accuracy: 0.9740 - val_loss: 0.5234 - val_binary_accuracy: 0.8842\n",
      "Epoch 10/20\n",
      "625/625 [==============================] - 297s 475ms/step - loss: 0.0555 - binary_accuracy: 0.9805 - val_loss: 0.6149 - val_binary_accuracy: 0.8830\n",
      "Epoch 11/20\n",
      "625/625 [==============================] - 297s 476ms/step - loss: 0.0445 - binary_accuracy: 0.9851 - val_loss: 0.7351 - val_binary_accuracy: 0.8838\n",
      "Epoch 12/20\n",
      "625/625 [==============================] - 298s 476ms/step - loss: 0.0312 - binary_accuracy: 0.9893 - val_loss: 1.1030 - val_binary_accuracy: 0.8738\n",
      "Epoch 13/20\n",
      "625/625 [==============================] - 296s 474ms/step - loss: 0.0279 - binary_accuracy: 0.9918 - val_loss: 1.0603 - val_binary_accuracy: 0.8734\n",
      "Epoch 14/20\n",
      "625/625 [==============================] - 295s 472ms/step - loss: 0.0207 - binary_accuracy: 0.9925 - val_loss: 0.9907 - val_binary_accuracy: 0.8698\n",
      "Epoch 15/20\n",
      "625/625 [==============================] - 295s 472ms/step - loss: 0.0206 - binary_accuracy: 0.9936 - val_loss: 0.9075 - val_binary_accuracy: 0.8766\n",
      "Epoch 16/20\n",
      "625/625 [==============================] - 297s 475ms/step - loss: 0.0148 - binary_accuracy: 0.9951 - val_loss: 0.8180 - val_binary_accuracy: 0.8776\n",
      "Epoch 17/20\n",
      "625/625 [==============================] - 296s 473ms/step - loss: 0.0138 - binary_accuracy: 0.9959 - val_loss: 1.0026 - val_binary_accuracy: 0.8774\n",
      "Epoch 18/20\n",
      "625/625 [==============================] - 295s 472ms/step - loss: 0.0122 - binary_accuracy: 0.9960 - val_loss: 1.1918 - val_binary_accuracy: 0.8776\n",
      "Epoch 19/20\n",
      "625/625 [==============================] - 295s 472ms/step - loss: 0.0122 - binary_accuracy: 0.9965 - val_loss: 1.1894 - val_binary_accuracy: 0.8780\n",
      "Epoch 20/20\n",
      "625/625 [==============================] - 294s 470ms/step - loss: 0.0105 - binary_accuracy: 0.9966 - val_loss: 1.0639 - val_binary_accuracy: 0.8712\n",
      "782/782 [==============================] - 136s 174ms/step - loss: 0.5509 - binary_accuracy: 0.7265\n",
      "[0.5508759617805481, 0.7264800071716309]\n"
     ]
    }
   ],
   "source": [
    "callback_list = [\n",
    "    callbacks.ModelCheckpoint('full_transformer_encoder', save_best_only=True)\n",
    "]\n",
    "model.fit(int_train_ds, validation_data=int_val_ds, epochs=20, callbacks=callback_list)\n",
    "\n",
    "model = keras.models.load_model('full_transformer_encoder', custom_objects={\n",
    "    'TransformerEncoder': TransformerEncoder,\n",
    "    'PositionalEmbedding': PositionalEmbedding\n",
    "})\n",
    "print(model.evaluate(int_test_ds))"
   ]
  },
  {
   "cell_type": "code",
   "execution_count": 40,
   "metadata": {},
   "outputs": [
    {
     "name": "stdout",
     "output_type": "stream",
     "text": [
      "Model: \"model_3\"\n",
      "_________________________________________________________________\n",
      " Layer (type)                Output Shape              Param #   \n",
      "=================================================================\n",
      " input_8 (InputLayer)        [(None, None)]            0         \n",
      "                                                                 \n",
      " positional_embedding_2 (Po  (None, None, 256)         5273600   \n",
      " sitionalEmbedding)                                              \n",
      "                                                                 \n",
      " transformer_encoder_6 (Tra  (None, None, 256)         543776    \n",
      " nsformerEncoder)                                                \n",
      "                                                                 \n",
      " global_max_pooling1d_6 (Gl  (None, 256)               0         \n",
      " obalMaxPooling1D)                                               \n",
      "                                                                 \n",
      " dropout_3 (Dropout)         (None, 256)               0         \n",
      "                                                                 \n",
      " dense_21 (Dense)            (None, 1)                 257       \n",
      "                                                                 \n",
      "=================================================================\n",
      "Total params: 5817633 (22.19 MB)\n",
      "Trainable params: 5817633 (22.19 MB)\n",
      "Non-trainable params: 0 (0.00 Byte)\n",
      "_________________________________________________________________\n",
      "Epoch 1/20\n",
      "625/625 [==============================] - ETA: 0s - loss: 0.5371 - accuracy: 0.7372INFO:tensorflow:Assets written to: full_transformer_encoder_0/assets\n"
     ]
    },
    {
     "name": "stderr",
     "output_type": "stream",
     "text": [
      "INFO:tensorflow:Assets written to: full_transformer_encoder_0/assets\n"
     ]
    },
    {
     "name": "stdout",
     "output_type": "stream",
     "text": [
      "625/625 [==============================] - 295s 471ms/step - loss: 0.5371 - accuracy: 0.7372 - val_loss: 0.3388 - val_accuracy: 0.8484\n",
      "Epoch 2/20\n",
      "625/625 [==============================] - ETA: 0s - loss: 0.3040 - accuracy: 0.8719INFO:tensorflow:Assets written to: full_transformer_encoder_0/assets\n"
     ]
    },
    {
     "name": "stderr",
     "output_type": "stream",
     "text": [
      "INFO:tensorflow:Assets written to: full_transformer_encoder_0/assets\n"
     ]
    },
    {
     "name": "stdout",
     "output_type": "stream",
     "text": [
      "625/625 [==============================] - 296s 474ms/step - loss: 0.3040 - accuracy: 0.8719 - val_loss: 0.2961 - val_accuracy: 0.8832\n",
      "Epoch 3/20\n",
      "625/625 [==============================] - 297s 475ms/step - loss: 0.2415 - accuracy: 0.9021 - val_loss: 0.4661 - val_accuracy: 0.8274\n",
      "Epoch 4/20\n",
      "625/625 [==============================] - 294s 471ms/step - loss: 0.1990 - accuracy: 0.9205 - val_loss: 0.3126 - val_accuracy: 0.8828\n",
      "Epoch 5/20\n",
      "625/625 [==============================] - ETA: 0s - loss: 0.1662 - accuracy: 0.9365INFO:tensorflow:Assets written to: full_transformer_encoder_0/assets\n"
     ]
    },
    {
     "name": "stderr",
     "output_type": "stream",
     "text": [
      "INFO:tensorflow:Assets written to: full_transformer_encoder_0/assets\n"
     ]
    },
    {
     "name": "stdout",
     "output_type": "stream",
     "text": [
      "625/625 [==============================] - 295s 473ms/step - loss: 0.1662 - accuracy: 0.9365 - val_loss: 0.2945 - val_accuracy: 0.8896\n",
      "Epoch 6/20\n",
      "625/625 [==============================] - 295s 473ms/step - loss: 0.1397 - accuracy: 0.9474 - val_loss: 0.3706 - val_accuracy: 0.8842\n",
      "Epoch 7/20\n",
      "625/625 [==============================] - 294s 470ms/step - loss: 0.1192 - accuracy: 0.9571 - val_loss: 0.4080 - val_accuracy: 0.8886\n",
      "Epoch 8/20\n",
      "625/625 [==============================] - 295s 471ms/step - loss: 0.0988 - accuracy: 0.9658 - val_loss: 0.5944 - val_accuracy: 0.8634\n",
      "Epoch 9/20\n",
      "625/625 [==============================] - 296s 473ms/step - loss: 0.0767 - accuracy: 0.9725 - val_loss: 1.5398 - val_accuracy: 0.8120\n",
      "Epoch 10/20\n",
      "625/625 [==============================] - 294s 471ms/step - loss: 0.0626 - accuracy: 0.9789 - val_loss: 0.5613 - val_accuracy: 0.8664\n",
      "Epoch 11/20\n",
      "625/625 [==============================] - 295s 472ms/step - loss: 0.0461 - accuracy: 0.9848 - val_loss: 0.9259 - val_accuracy: 0.8780\n",
      "Epoch 12/20\n",
      "625/625 [==============================] - 294s 470ms/step - loss: 0.0385 - accuracy: 0.9871 - val_loss: 1.3313 - val_accuracy: 0.8474\n",
      "Epoch 13/20\n",
      "625/625 [==============================] - 295s 473ms/step - loss: 0.0294 - accuracy: 0.9895 - val_loss: 1.0188 - val_accuracy: 0.8762\n",
      "Epoch 14/20\n",
      "625/625 [==============================] - 299s 479ms/step - loss: 0.0313 - accuracy: 0.9904 - val_loss: 0.6242 - val_accuracy: 0.8820\n",
      "Epoch 15/20\n",
      "625/625 [==============================] - 298s 476ms/step - loss: 0.0225 - accuracy: 0.9930 - val_loss: 0.9930 - val_accuracy: 0.8704\n",
      "Epoch 16/20\n",
      "625/625 [==============================] - 298s 477ms/step - loss: 0.0216 - accuracy: 0.9926 - val_loss: 0.9626 - val_accuracy: 0.8744\n",
      "Epoch 17/20\n",
      "625/625 [==============================] - 296s 474ms/step - loss: 0.0153 - accuracy: 0.9953 - val_loss: 1.1236 - val_accuracy: 0.8696\n",
      "Epoch 18/20\n",
      "625/625 [==============================] - 298s 476ms/step - loss: 0.0171 - accuracy: 0.9951 - val_loss: 1.0739 - val_accuracy: 0.8796\n",
      "Epoch 19/20\n",
      "625/625 [==============================] - 298s 477ms/step - loss: 0.0160 - accuracy: 0.9952 - val_loss: 1.0154 - val_accuracy: 0.8772\n",
      "Epoch 20/20\n",
      "625/625 [==============================] - 298s 477ms/step - loss: 0.0110 - accuracy: 0.9973 - val_loss: 1.1049 - val_accuracy: 0.8784\n",
      "782/782 [==============================] - 155s 198ms/step - loss: 0.5902 - accuracy: 0.6709\n",
      "Test acc: 0.671\n"
     ]
    }
   ],
   "source": [
    "class PositionalEmbedding(layers.Layer):\n",
    "    def __init__(self, sequence_length, input_dim, output_dim, **kwargs):\n",
    "        super().__init__(**kwargs)\n",
    "        self.token_embeddings = layers.Embedding(\n",
    "            input_dim=input_dim, output_dim=output_dim)\n",
    "        self.position_embeddings = layers.Embedding(\n",
    "            input_dim=sequence_length, output_dim=output_dim)\n",
    "        self.sequence_length = sequence_length\n",
    "        self.input_dim = input_dim\n",
    "        self.output_dim = output_dim\n",
    "\n",
    "    def call(self, inputs):\n",
    "        length = tf.shape(inputs)[-1]\n",
    "        positions = tf.range(start=0, limit=length, delta=1)\n",
    "        embedded_tokens = self.token_embeddings(inputs)\n",
    "        embedded_positions = self.position_embeddings(positions)\n",
    "        return embedded_tokens + embedded_positions\n",
    "\n",
    "    def compute_mask(self, inputs, mask=None):\n",
    "        return tf.math.not_equal(inputs, 0)\n",
    "\n",
    "    def get_config(self):\n",
    "        config = super().get_config()\n",
    "        config.update({\n",
    "            \"output_dim\": self.output_dim,\n",
    "            \"sequence_length\": self.sequence_length,\n",
    "            \"input_dim\": self.input_dim,\n",
    "        })\n",
    "        return config\n",
    "    \n",
    "\n",
    "vocab_size = 20000\n",
    "sequence_length = 600\n",
    "embed_dim = 256\n",
    "num_heads = 2\n",
    "dense_dim = 32\n",
    "\n",
    "inputs = keras.Input(shape=(None,), dtype=\"int64\")\n",
    "x = PositionalEmbedding(sequence_length, vocab_size, embed_dim)(inputs)\n",
    "x = TransformerEncoder(embed_dim, dense_dim, num_heads)(x)\n",
    "x = layers.GlobalMaxPooling1D()(x)\n",
    "x = layers.Dropout(0.5)(x)\n",
    "outputs = layers.Dense(1, activation=\"sigmoid\")(x)\n",
    "model = keras.Model(inputs, outputs)\n",
    "model.compile(optimizer=\"rmsprop\",\n",
    "              loss=\"binary_crossentropy\",\n",
    "              metrics=[\"accuracy\"])\n",
    "model.summary()\n",
    "\n",
    "callbacks = [\n",
    "    keras.callbacks.ModelCheckpoint(\"full_transformer_encoder_0\",\n",
    "                                    save_best_only=True)\n",
    "]\n",
    "model.fit(int_train_ds, validation_data=int_val_ds, epochs=20, callbacks=callbacks)\n",
    "model = keras.models.load_model(\n",
    "    \"full_transformer_encoder_0\",\n",
    "    custom_objects={\"TransformerEncoder\": TransformerEncoder,\n",
    "                    \"PositionalEmbedding\": PositionalEmbedding})\n",
    "print(f\"Test acc: {model.evaluate(int_test_ds)[1]:.3f}\")\n"
   ]
  },
  {
   "cell_type": "code",
   "execution_count": null,
   "metadata": {},
   "outputs": [],
   "source": []
  }
 ],
 "metadata": {
  "kernelspec": {
   "display_name": ".venv",
   "language": "python",
   "name": "python3"
  },
  "language_info": {
   "codemirror_mode": {
    "name": "ipython",
    "version": 3
   },
   "file_extension": ".py",
   "mimetype": "text/x-python",
   "name": "python",
   "nbconvert_exporter": "python",
   "pygments_lexer": "ipython3",
   "version": "3.11.5"
  },
  "orig_nbformat": 4
 },
 "nbformat": 4,
 "nbformat_minor": 2
}
