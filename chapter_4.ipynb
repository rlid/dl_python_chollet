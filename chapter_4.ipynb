{
 "cells": [
  {
   "cell_type": "code",
   "execution_count": 39,
   "metadata": {},
   "outputs": [],
   "source": [
    "from keras.datasets import imdb\n",
    "import numpy as np\n",
    "(train_data, train_labels), (test_data, test_label) = imdb.load_data(num_words=10000)"
   ]
  },
  {
   "cell_type": "code",
   "execution_count": 40,
   "metadata": {},
   "outputs": [
    {
     "data": {
      "text/plain": [
       "9999"
      ]
     },
     "execution_count": 40,
     "metadata": {},
     "output_type": "execute_result"
    }
   ],
   "source": [
    "max([max(x) for x in train_data])"
   ]
  },
  {
   "cell_type": "code",
   "execution_count": 41,
   "metadata": {},
   "outputs": [
    {
     "name": "stdout",
     "output_type": "stream",
     "text": [
      "? this film was just brilliant casting location scenery story direction everyone's really suited the part they played and you could just imagine being there robert ? is an amazing actor and now the same being director ? father came from the same scottish island as myself so i loved the fact there was a real connection with this film the witty remarks throughout the film were great it was just brilliant so much that i bought the film as soon as it was released for ? and would recommend it to everyone to watch and the fly fishing was amazing really cried at the end it was so sad and you know what they say if you cry at a film it must have been good and this definitely was also ? to the two little boy's that played the ? of norman and paul they were just brilliant children are often left out of the ? list i think because the stars that play them all grown up are such a big profile for the whole film but these children are amazing and should be praised for what they have done don't you think the whole story was so lovely because it was true and was someone's life after all that was shared with us all\n",
      "1\n"
     ]
    }
   ],
   "source": [
    "word_index = imdb.get_word_index()\n",
    "words = dict([(index, word) for (word, index) in word_index.items()])\n",
    "\n",
    "sel = 0\n",
    "print(' '.join([words.get(i-3, '?') for i in train_data[sel]]))\n",
    "print(train_labels[sel])"
   ]
  },
  {
   "cell_type": "code",
   "execution_count": 42,
   "metadata": {},
   "outputs": [],
   "source": [
    "def encode_onehot(data_indices, num_words=10000):\n",
    "    data_onehot = np.zeros((data_indices.shape[0], num_words))\n",
    "    for i, sample in enumerate(data_indices):\n",
    "        for j in sample:\n",
    "            data_onehot[i, j] = 1\n",
    "    return data_onehot\n",
    "\n",
    "x_train = encode_onehot(train_data)\n",
    "x_test = encode_onehot(test_data)"
   ]
  },
  {
   "cell_type": "code",
   "execution_count": 43,
   "metadata": {},
   "outputs": [],
   "source": [
    "y_train = np.asarray(train_labels).astype(np.float32)\n",
    "y_test = np.asarray(test_label).astype(np.float32)"
   ]
  },
  {
   "cell_type": "code",
   "execution_count": 44,
   "metadata": {},
   "outputs": [],
   "source": [
    "import keras\n",
    "from keras import layers, activations\n",
    "model = keras.Sequential([\n",
    "    layers.Dense(16, activation=activations.relu),\n",
    "    layers.Dense(16, activation=activations.relu),\n",
    "    layers.Dense(1, activation=activations.sigmoid)\n",
    "])"
   ]
  },
  {
   "cell_type": "code",
   "execution_count": 45,
   "metadata": {},
   "outputs": [],
   "source": [
    "from keras import optimizers, losses, metrics\n",
    "model.compile(optimizer=optimizers.RMSprop(),\n",
    "              loss=losses.binary_crossentropy,\n",
    "              metrics=[metrics.binary_accuracy])"
   ]
  },
  {
   "cell_type": "code",
   "execution_count": 46,
   "metadata": {},
   "outputs": [],
   "source": [
    "n_val = 10000\n",
    "x_val = x_train[:n_val]\n",
    "y_val = y_train[:n_val]\n",
    "x_train_partial = x_train[n_val:]\n",
    "y_train_partial = y_train[n_val:]"
   ]
  },
  {
   "cell_type": "code",
   "execution_count": 47,
   "metadata": {},
   "outputs": [
    {
     "name": "stdout",
     "output_type": "stream",
     "text": [
      "Epoch 1/10\n",
      "30/30 [==============================] - 1s 20ms/step - loss: 0.5475 - binary_accuracy: 0.7648 - val_loss: 0.4121 - val_binary_accuracy: 0.8599\n",
      "Epoch 2/10\n",
      "30/30 [==============================] - 0s 6ms/step - loss: 0.3316 - binary_accuracy: 0.8899 - val_loss: 0.3124 - val_binary_accuracy: 0.8838\n",
      "Epoch 3/10\n",
      "30/30 [==============================] - 0s 6ms/step - loss: 0.2447 - binary_accuracy: 0.9186 - val_loss: 0.2852 - val_binary_accuracy: 0.8865\n",
      "Epoch 4/10\n",
      "30/30 [==============================] - 0s 6ms/step - loss: 0.1984 - binary_accuracy: 0.9296 - val_loss: 0.2753 - val_binary_accuracy: 0.8884\n",
      "Epoch 5/10\n",
      "30/30 [==============================] - 0s 6ms/step - loss: 0.1612 - binary_accuracy: 0.9453 - val_loss: 0.2920 - val_binary_accuracy: 0.8816\n",
      "Epoch 6/10\n",
      "30/30 [==============================] - 0s 6ms/step - loss: 0.1369 - binary_accuracy: 0.9537 - val_loss: 0.2925 - val_binary_accuracy: 0.8843\n",
      "Epoch 7/10\n",
      "30/30 [==============================] - 0s 6ms/step - loss: 0.1159 - binary_accuracy: 0.9642 - val_loss: 0.3132 - val_binary_accuracy: 0.8833\n",
      "Epoch 8/10\n",
      "30/30 [==============================] - 0s 6ms/step - loss: 0.1013 - binary_accuracy: 0.9685 - val_loss: 0.3213 - val_binary_accuracy: 0.8840\n",
      "Epoch 9/10\n",
      "30/30 [==============================] - 0s 5ms/step - loss: 0.0861 - binary_accuracy: 0.9739 - val_loss: 0.3442 - val_binary_accuracy: 0.8752\n",
      "Epoch 10/10\n",
      "30/30 [==============================] - 0s 5ms/step - loss: 0.0722 - binary_accuracy: 0.9799 - val_loss: 0.3521 - val_binary_accuracy: 0.8780\n"
     ]
    }
   ],
   "source": [
    "history = model.fit(x_train_partial,\n",
    "                    y_train_partial,\n",
    "                    epochs=10,\n",
    "                    batch_size=512,\n",
    "                    validation_data=(x_val, y_val))"
   ]
  },
  {
   "cell_type": "code",
   "execution_count": 123,
   "metadata": {},
   "outputs": [
    {
     "data": {
      "image/png": "[encoded data removed]",
      "text/plain": [
       "<Figure size 640x480 with 1 Axes>"
      ]
     },
     "metadata": {},
     "output_type": "display_data"
    }
   ],
   "source": [
    "import matplotlib.pyplot as plt\n",
    "plt.clf()\n",
    "history_dict = history.history\n",
    "loss_values = history_dict['loss']\n",
    "val_loss_values = history_dict['val_loss']\n",
    "epochs = range(1, len(loss_values) + 1)\n",
    "plt.plot(epochs, loss_values, 'bo', label='Training loss')\n",
    "plt.plot(epochs, val_loss_values, 'b', label='Validation loss')\n",
    "plt.title('Training and validation loss')\n",
    "plt.xlabel('Epochs')\n",
    "plt.ylabel('Loss')\n",
    "plt.legend()\n",
    "plt.show()"
   ]
  },
  {
   "cell_type": "code",
   "execution_count": 126,
   "metadata": {},
   "outputs": [
    {
     "data": {
      "image/png": "[encoded data removed]",
      "text/plain": [
       "<Figure size 640x480 with 1 Axes>"
      ]
     },
     "metadata": {},
     "output_type": "display_data"
    }
   ],
   "source": [
    "plt.clf()\n",
    "acc = history_dict['categorical_accuracy']\n",
    "val_acc = history_dict['val_categorical_accuracy']\n",
    "plt.plot(epochs, acc, 'bo', label='Training acc')\n",
    "plt.plot(epochs, val_acc, 'b', label='Validation acc')\n",
    "plt.title('Training and validation accuracy')\n",
    "plt.xlabel('Epochs')\n",
    "plt.ylabel('Accuracy')\n",
    "plt.legend()\n",
    "plt.show()"
   ]
  },
  {
   "cell_type": "code",
   "execution_count": 77,
   "metadata": {},
   "outputs": [
    {
     "name": "stdout",
     "output_type": "stream",
     "text": [
      "Epoch 1/4\n",
      "49/49 [==============================] - 0s 4ms/step - loss: 0.1681 - binary_accuracy: 0.7879\n",
      "Epoch 2/4\n",
      "49/49 [==============================] - 0s 3ms/step - loss: 0.0929 - binary_accuracy: 0.8950\n",
      "Epoch 3/4\n",
      "49/49 [==============================] - 0s 3ms/step - loss: 0.0725 - binary_accuracy: 0.9143\n",
      "Epoch 4/4\n",
      "49/49 [==============================] - 0s 3ms/step - loss: 0.0609 - binary_accuracy: 0.9286\n",
      "782/782 [==============================] - 0s 441us/step - loss: 0.0840 - binary_accuracy: 0.8878\n"
     ]
    },
    {
     "data": {
      "text/plain": [
       "[0.08395315706729889, 0.8878399729728699]"
      ]
     },
     "execution_count": 77,
     "metadata": {},
     "output_type": "execute_result"
    }
   ],
   "source": [
    "model = keras.Sequential([\n",
    "    layers.Dense(16, activation=activations.relu),\n",
    "    layers.Dense(16, activation=activations.relu),\n",
    "    layers.Dense(1, activation=activations.sigmoid)\n",
    "])\n",
    "\n",
    "model.compile(optimizer=optimizers.RMSprop(),\n",
    "              loss=losses.mse,\n",
    "              metrics=[metrics.binary_accuracy])\n",
    "\n",
    "model.fit(x_train, y_train, epochs=4, batch_size=512)\n",
    "\n",
    "results = model.evaluate(x_test, y_test)\n",
    "results"
   ]
  },
  {
   "cell_type": "code",
   "execution_count": 79,
   "metadata": {},
   "outputs": [
    {
     "name": "stdout",
     "output_type": "stream",
     "text": [
      "782/782 [==============================] - 0s 397us/step\n"
     ]
    },
    {
     "data": {
      "text/plain": [
       "array([[0.19618832],\n",
       "       [0.99913734],\n",
       "       [0.6930771 ],\n",
       "       [0.6926562 ],\n",
       "       [0.93408626],\n",
       "       [0.6931646 ],\n",
       "       [0.9935043 ],\n",
       "       [0.03447024],\n",
       "       [0.94769055],\n",
       "       [0.96592724],\n",
       "       [0.8447597 ],\n",
       "       [0.0140048 ],\n",
       "       [0.00237432],\n",
       "       [0.03880995],\n",
       "       [0.99342316],\n",
       "       [0.00670355],\n",
       "       [0.91348207],\n",
       "       [0.6834202 ],\n",
       "       [0.03092749],\n",
       "       [0.11396961],\n",
       "       [0.9871882 ],\n",
       "       [0.9815751 ],\n",
       "       [0.37275195],\n",
       "       [0.88173735],\n",
       "       [0.8249614 ],\n",
       "       [0.93770885],\n",
       "       [0.12085488],\n",
       "       [0.83013093],\n",
       "       [0.96857107],\n",
       "       [0.00932463]], dtype=float32)"
      ]
     },
     "execution_count": 79,
     "metadata": {},
     "output_type": "execute_result"
    }
   ],
   "source": [
    "model.predict(x_test)[:30]"
   ]
  },
  {
   "cell_type": "code",
   "execution_count": 94,
   "metadata": {},
   "outputs": [],
   "source": [
    "from keras.datasets import reuters\n",
    "(train_data, train_labels), (test_data, test_labels) = reuters.load_data(num_words=10000)"
   ]
  },
  {
   "cell_type": "code",
   "execution_count": 95,
   "metadata": {},
   "outputs": [
    {
     "data": {
      "text/plain": [
       "'? ? ? said as a result of its december acquisition of space co it expects earnings per share in 1987 of 1 15 to 1 30 dlrs per share up from 70 cts in 1986 the company said pretax net should rise to nine to 10 mln dlrs from six mln dlrs in 1986 and rental operation revenues to 19 to 22 mln dlrs from 12 5 mln dlrs it said cash flow per share this year should be 2 50 to three dlrs reuter 3'"
      ]
     },
     "execution_count": 95,
     "metadata": {},
     "output_type": "execute_result"
    }
   ],
   "source": [
    "word_index = reuters.get_word_index()\n",
    "\n",
    "words = dict([(index, word) for (word, index) in word_index.items()])\n",
    "\n",
    "' '.join([words.get(i - 3, '?') for i in train_data[0]])"
   ]
  },
  {
   "cell_type": "code",
   "execution_count": 96,
   "metadata": {},
   "outputs": [],
   "source": [
    "x_train = encode_onehot(train_data)\n",
    "x_test = encode_onehot(test_data)"
   ]
  },
  {
   "cell_type": "code",
   "execution_count": 151,
   "metadata": {},
   "outputs": [
    {
     "data": {
      "text/plain": [
       "0.0"
      ]
     },
     "execution_count": 151,
     "metadata": {},
     "output_type": "execute_result"
    }
   ],
   "source": [
    "y_train = encode_onehot(np.array([[i] for i in train_labels]), num_words=46)\n",
    "y_test =  encode_onehot(np.array([[i] for i in test_labels]), num_words=46)\n",
    "\n",
    "y_train_verify = keras.utils.to_categorical(train_labels)\n",
    "y_test_verify = keras.utils.to_categorical(test_labels)\n",
    "\n",
    "np.sum(np.abs(y_train - y_train_verify)) + np.sum(np.abs(y_test - y_test_verify))"
   ]
  },
  {
   "cell_type": "code",
   "execution_count": 177,
   "metadata": {},
   "outputs": [],
   "source": [
    "model = keras.Sequential([\n",
    "    layers.Dense(64, activation=activations.relu),\n",
    "    layers.Dense(64, activation=activations.relu),\n",
    "    layers.Dense(46, activation=activations.softmax)\n",
    "])\n",
    "\n",
    "model.compile(optimizer=optimizers.RMSprop(),\n",
    "              loss=losses.categorical_crossentropy,\n",
    "              metrics=[metrics.categorical_accuracy])\n",
    "\n",
    "n_val = 1000\n",
    "x_val = x_train[:n_val]\n",
    "y_val = y_train[:n_val]\n",
    "x_train_partial = x_train[n_val:]\n",
    "y_train_partial = y_train[n_val:]"
   ]
  },
  {
   "cell_type": "code",
   "execution_count": 178,
   "metadata": {},
   "outputs": [
    {
     "name": "stdout",
     "output_type": "stream",
     "text": [
      "Epoch 1/20\n",
      "16/16 [==============================] - 0s 16ms/step - loss: 2.6518 - categorical_accuracy: 0.5115 - val_loss: 1.8348 - val_categorical_accuracy: 0.6090\n",
      "Epoch 2/20\n",
      "16/16 [==============================] - 0s 7ms/step - loss: 1.5352 - categorical_accuracy: 0.6798 - val_loss: 1.4211 - val_categorical_accuracy: 0.6840\n",
      "Epoch 3/20\n",
      "16/16 [==============================] - 0s 7ms/step - loss: 1.2052 - categorical_accuracy: 0.7323 - val_loss: 1.2291 - val_categorical_accuracy: 0.7210\n",
      "Epoch 4/20\n",
      "16/16 [==============================] - 0s 7ms/step - loss: 0.9952 - categorical_accuracy: 0.7726 - val_loss: 1.1271 - val_categorical_accuracy: 0.7500\n",
      "Epoch 5/20\n",
      "16/16 [==============================] - 0s 7ms/step - loss: 0.8325 - categorical_accuracy: 0.8106 - val_loss: 1.0377 - val_categorical_accuracy: 0.7770\n",
      "Epoch 6/20\n",
      "16/16 [==============================] - 0s 7ms/step - loss: 0.6950 - categorical_accuracy: 0.8467 - val_loss: 0.9817 - val_categorical_accuracy: 0.7870\n",
      "Epoch 7/20\n",
      "16/16 [==============================] - 0s 10ms/step - loss: 0.5746 - categorical_accuracy: 0.8768 - val_loss: 0.9264 - val_categorical_accuracy: 0.8060\n",
      "Epoch 8/20\n",
      "16/16 [==============================] - 0s 7ms/step - loss: 0.4815 - categorical_accuracy: 0.8955 - val_loss: 0.9046 - val_categorical_accuracy: 0.8180\n",
      "Epoch 9/20\n",
      "16/16 [==============================] - 0s 8ms/step - loss: 0.4006 - categorical_accuracy: 0.9144 - val_loss: 0.9330 - val_categorical_accuracy: 0.8020\n",
      "Epoch 10/20\n",
      "16/16 [==============================] - 0s 7ms/step - loss: 0.3437 - categorical_accuracy: 0.9272 - val_loss: 0.9029 - val_categorical_accuracy: 0.8090\n",
      "Epoch 11/20\n",
      "16/16 [==============================] - 0s 9ms/step - loss: 0.2973 - categorical_accuracy: 0.9339 - val_loss: 0.8929 - val_categorical_accuracy: 0.8220\n",
      "Epoch 12/20\n",
      "16/16 [==============================] - 0s 8ms/step - loss: 0.2610 - categorical_accuracy: 0.9407 - val_loss: 0.8796 - val_categorical_accuracy: 0.8210\n",
      "Epoch 13/20\n",
      "16/16 [==============================] - 0s 7ms/step - loss: 0.2292 - categorical_accuracy: 0.9468 - val_loss: 0.8924 - val_categorical_accuracy: 0.8220\n",
      "Epoch 14/20\n",
      "16/16 [==============================] - 0s 8ms/step - loss: 0.2067 - categorical_accuracy: 0.9493 - val_loss: 0.8970 - val_categorical_accuracy: 0.8250\n",
      "Epoch 15/20\n",
      "16/16 [==============================] - 0s 8ms/step - loss: 0.1861 - categorical_accuracy: 0.9525 - val_loss: 0.9400 - val_categorical_accuracy: 0.8150\n",
      "Epoch 16/20\n",
      "16/16 [==============================] - 0s 7ms/step - loss: 0.1700 - categorical_accuracy: 0.9528 - val_loss: 0.9428 - val_categorical_accuracy: 0.8210\n",
      "Epoch 17/20\n",
      "16/16 [==============================] - 0s 7ms/step - loss: 0.1627 - categorical_accuracy: 0.9525 - val_loss: 0.9238 - val_categorical_accuracy: 0.8270\n",
      "Epoch 18/20\n",
      "16/16 [==============================] - 0s 8ms/step - loss: 0.1520 - categorical_accuracy: 0.9546 - val_loss: 0.9403 - val_categorical_accuracy: 0.8190\n",
      "Epoch 19/20\n",
      "16/16 [==============================] - 0s 8ms/step - loss: 0.1395 - categorical_accuracy: 0.9568 - val_loss: 0.9595 - val_categorical_accuracy: 0.8180\n",
      "Epoch 20/20\n",
      "16/16 [==============================] - 0s 6ms/step - loss: 0.1347 - categorical_accuracy: 0.9584 - val_loss: 1.0146 - val_categorical_accuracy: 0.8000\n"
     ]
    }
   ],
   "source": [
    "history = model.fit(x_train_partial, y_train_partial, epochs=20, batch_size=512, validation_data=(x_val, y_val))"
   ]
  },
  {
   "cell_type": "code",
   "execution_count": 153,
   "metadata": {},
   "outputs": [
    {
     "name": "stdout",
     "output_type": "stream",
     "text": [
      "Epoch 1/10\n",
      "18/18 [==============================] - 0s 6ms/step - loss: 3.1825 - categorical_accuracy: 0.2560\n",
      "Epoch 2/10\n",
      "18/18 [==============================] - 0s 5ms/step - loss: 2.2459 - categorical_accuracy: 0.5261\n",
      "Epoch 3/10\n",
      "18/18 [==============================] - 0s 5ms/step - loss: 1.8592 - categorical_accuracy: 0.5356\n",
      "Epoch 4/10\n",
      "18/18 [==============================] - 0s 6ms/step - loss: 1.6839 - categorical_accuracy: 0.5446\n",
      "Epoch 5/10\n",
      "18/18 [==============================] - 0s 5ms/step - loss: 1.5781 - categorical_accuracy: 0.5636\n",
      "Epoch 6/10\n",
      "18/18 [==============================] - 0s 5ms/step - loss: 1.5035 - categorical_accuracy: 0.5783\n",
      "Epoch 7/10\n",
      "18/18 [==============================] - 0s 5ms/step - loss: 1.4435 - categorical_accuracy: 0.5853\n",
      "Epoch 8/10\n",
      "18/18 [==============================] - 0s 6ms/step - loss: 1.3948 - categorical_accuracy: 0.5911\n",
      "Epoch 9/10\n",
      "18/18 [==============================] - 0s 5ms/step - loss: 1.3548 - categorical_accuracy: 0.6092\n",
      "Epoch 10/10\n",
      "18/18 [==============================] - 0s 8ms/step - loss: 1.3153 - categorical_accuracy: 0.6283\n",
      "281/281 [==============================] - 0s 591us/step - loss: 1.3065 - categorical_accuracy: 0.6069\n",
      "71/71 [==============================] - 0s 576us/step - loss: 1.5331 - categorical_accuracy: 0.5864\n"
     ]
    },
    {
     "data": {
      "text/plain": [
       "[1.5331127643585205, 0.5863757729530334]"
      ]
     },
     "execution_count": 153,
     "metadata": {},
     "output_type": "execute_result"
    }
   ],
   "source": [
    "model = keras.Sequential([\n",
    "    layers.Dense(64, activation=activations.relu),\n",
    "    layers.Dense(64, activation=activations.relu),\n",
    "    layers.Dense(46, activation=activations.softmax)\n",
    "])\n",
    "\n",
    "model.compile(optimizer=optimizers.RMSprop(),\n",
    "              loss=losses.categorical_crossentropy,\n",
    "              metrics=[metrics.categorical_accuracy])\n",
    "\n",
    "model.fit(x_train, y_train, epochs=10, batch_size=512)\n",
    "\n",
    "model.evaluate(x_train, y_train)\n",
    "model.evaluate(x_test, y_test)"
   ]
  },
  {
   "cell_type": "code",
   "execution_count": 138,
   "metadata": {},
   "outputs": [
    {
     "data": {
      "text/plain": [
       "0.1892252894033838"
      ]
     },
     "execution_count": 138,
     "metadata": {},
     "output_type": "execute_result"
    }
   ],
   "source": [
    "import copy\n",
    "test_labels_copy = copy.copy(test_labels)\n",
    "np.random.shuffle(test_labels_copy) # random classifier that respects the emprical distribution of classes in test_labels\n",
    "\n",
    "#test_labels_copy = np.random.randint(0, 46) # random classifier that assigns equal probability to each class\n",
    "\n",
    "hits_array = np.array(test_labels) == np.array(test_labels_copy)\n",
    "hits_array.mean()"
   ]
  },
  {
   "cell_type": "code",
   "execution_count": 139,
   "metadata": {},
   "outputs": [
    {
     "name": "stdout",
     "output_type": "stream",
     "text": [
      "71/71 [==============================] - 0s 610us/step\n"
     ]
    }
   ],
   "source": [
    "predictions = model.predict(x_test)"
   ]
  },
  {
   "cell_type": "code",
   "execution_count": 140,
   "metadata": {},
   "outputs": [
    {
     "data": {
      "text/plain": [
       "array([[1.1744573e-05, 1.2900515e-05, 1.7392815e-05, ..., 8.8696161e-06,\n",
       "        1.2746639e-06, 1.7760482e-07],\n",
       "       [1.0251825e-03, 7.8803830e-02, 3.6554199e-02, ..., 5.4380198e-06,\n",
       "        6.7625056e-06, 6.3090345e-05],\n",
       "       [7.4778721e-03, 8.9178193e-01, 5.9301723e-03, ..., 9.3387999e-04,\n",
       "        6.9281034e-04, 6.3571730e-04],\n",
       "       ...,\n",
       "       [4.8985275e-05, 1.8072265e-04, 6.8066023e-05, ..., 1.1880428e-04,\n",
       "        5.1423001e-05, 5.3370763e-06],\n",
       "       [5.1353574e-03, 1.2284884e-02, 6.5997615e-03, ..., 1.1916783e-03,\n",
       "        5.4935133e-04, 7.7197119e-04],\n",
       "       [5.8461404e-03, 2.3627183e-01, 2.3553144e-02, ..., 3.4126791e-03,\n",
       "        7.0487906e-04, 1.2631224e-03]], dtype=float32)"
      ]
     },
     "execution_count": 140,
     "metadata": {},
     "output_type": "execute_result"
    }
   ],
   "source": [
    "predictions"
   ]
  },
  {
   "cell_type": "code",
   "execution_count": 141,
   "metadata": {},
   "outputs": [
    {
     "data": {
      "text/plain": [
       "array([0.9999999 , 1.        , 1.0000001 , ..., 1.0000001 , 0.99999994,\n",
       "       1.        ], dtype=float32)"
      ]
     },
     "execution_count": 141,
     "metadata": {},
     "output_type": "execute_result"
    }
   ],
   "source": [
    "np.sum(predictions, axis=1)"
   ]
  },
  {
   "cell_type": "code",
   "execution_count": 148,
   "metadata": {},
   "outputs": [
    {
     "name": "stdout",
     "output_type": "stream",
     "text": [
      "Epoch 1/10\n",
      "18/18 [==============================] - 0s 6ms/step - loss: 0.2821 - sparse_categorical_accuracy: 0.9367\n",
      "Epoch 2/10\n",
      "18/18 [==============================] - 0s 5ms/step - loss: 0.2421 - sparse_categorical_accuracy: 0.9418\n",
      "Epoch 3/10\n",
      "18/18 [==============================] - 0s 5ms/step - loss: 0.2123 - sparse_categorical_accuracy: 0.9468\n",
      "Epoch 4/10\n",
      "18/18 [==============================] - 0s 5ms/step - loss: 0.1926 - sparse_categorical_accuracy: 0.9479\n",
      "Epoch 5/10\n",
      "18/18 [==============================] - 0s 6ms/step - loss: 0.1838 - sparse_categorical_accuracy: 0.9503\n",
      "Epoch 6/10\n",
      "18/18 [==============================] - 0s 5ms/step - loss: 0.1643 - sparse_categorical_accuracy: 0.9517\n",
      "Epoch 7/10\n",
      "18/18 [==============================] - 0s 6ms/step - loss: 0.1558 - sparse_categorical_accuracy: 0.9545\n",
      "Epoch 8/10\n",
      "18/18 [==============================] - 0s 5ms/step - loss: 0.1460 - sparse_categorical_accuracy: 0.9541\n",
      "Epoch 9/10\n",
      "18/18 [==============================] - 0s 5ms/step - loss: 0.1407 - sparse_categorical_accuracy: 0.9542\n",
      "Epoch 10/10\n",
      "18/18 [==============================] - 0s 8ms/step - loss: 0.1322 - sparse_categorical_accuracy: 0.9552\n"
     ]
    },
    {
     "data": {
      "text/plain": [
       "<keras.src.callbacks.History at 0x7f735624a090>"
      ]
     },
     "execution_count": 148,
     "metadata": {},
     "output_type": "execute_result"
    }
   ],
   "source": [
    "y_train = np.array(train_labels)\n",
    "y_test = np.array(test_labels)\n",
    "\n",
    "model.compile(optimizer=optimizers.RMSprop(),\n",
    "              loss=losses.sparse_categorical_crossentropy,\n",
    "              metrics=[metrics.sparse_categorical_accuracy])\n",
    "\n",
    "model.fit(x_train, y_train, epochs=10, batch_size=512)"
   ]
  },
  {
   "cell_type": "code",
   "execution_count": 246,
   "metadata": {},
   "outputs": [],
   "source": [
    "from keras.datasets import boston_housing\n",
    "(train_data, train_targets), (test_data, test_targets) = boston_housing.load_data()"
   ]
  },
  {
   "cell_type": "code",
   "execution_count": 247,
   "metadata": {},
   "outputs": [
    {
     "data": {
      "text/plain": [
       "(404,)"
      ]
     },
     "execution_count": 247,
     "metadata": {},
     "output_type": "execute_result"
    }
   ],
   "source": [
    "mean = train_data.mean(axis=0)\n",
    "std = train_data.std(axis=0)\n",
    "\n",
    "x_train = (train_data - mean) / std\n",
    "x_test = (test_data - mean) / std\n",
    "\n",
    "y_train = train_targets\n",
    "y_test = test_targets\n",
    "\n",
    "y_train.shape"
   ]
  },
  {
   "cell_type": "code",
   "execution_count": 248,
   "metadata": {},
   "outputs": [],
   "source": [
    "def build_model():\n",
    "    model = keras.Sequential([\n",
    "        layers.Dense(64, activation=activations.relu),\n",
    "        layers.Dense(64, activation=activations.relu),\n",
    "        layers.Dense(1)\n",
    "    ])\n",
    "    model.compile(optimizer=optimizers.RMSprop(),\n",
    "                  loss=losses.mse,\n",
    "                  metrics=[metrics.mae])\n",
    "    return model"
   ]
  },
  {
   "cell_type": "code",
   "execution_count": 249,
   "metadata": {},
   "outputs": [
    {
     "name": "stdout",
     "output_type": "stream",
     "text": [
      "Processing fold #0\n",
      "Processing fold #1\n",
      "Processing fold #2\n",
      "Processing fold #3\n"
     ]
    }
   ],
   "source": [
    "k = 4\n",
    "\n",
    "num_val_samples = len(train_data) // k\n",
    "\n",
    "num_epochs = 500\n",
    "\n",
    "all_mae_histories = []\n",
    "\n",
    "for i in range(k):\n",
    "    print(f'Processing fold #{i}')\n",
    "    x_val = x_train[i * num_val_samples:(i + 1) * num_val_samples]\n",
    "    y_val = y_train[i * num_val_samples:(i + 1) * num_val_samples]\n",
    "    x_train_partial = np.concatenate((x_train[:i * num_val_samples], x_train[(i + 1) * num_val_samples:]), axis=0)\n",
    "    y_train_partial = np.concatenate((y_train[:i * num_val_samples], y_train[(i + 1) * num_val_samples:]), axis=0)\n",
    "\n",
    "    model = build_model()\n",
    "\n",
    "    history = model.fit(x_train_partial, y_train_partial, epochs=num_epochs, batch_size=16, validation_data=(x_val, y_val), verbose=0)\n",
    "\n",
    "    mae_history = history.history['val_mean_absolute_error']\n",
    "\n",
    "    all_mae_histories.append(mae_history)"
   ]
  },
  {
   "cell_type": "code",
   "execution_count": 250,
   "metadata": {},
   "outputs": [],
   "source": [
    "average_mae_history = [np.mean([x[i] for x in all_mae_histories]) for i in range(num_epochs)]"
   ]
  },
  {
   "cell_type": "code",
   "execution_count": 253,
   "metadata": {},
   "outputs": [
    {
     "data": {
      "image/png": "[encoded data removed]",
      "text/plain": [
       "<Figure size 640x480 with 1 Axes>"
      ]
     },
     "metadata": {},
     "output_type": "display_data"
    }
   ],
   "source": [
    "plt.plot(range(1, len(average_mae_history)+1), average_mae_history)\n",
    "plt.xlabel('Epochs')\n",
    "plt.ylabel('Validation MAE')\n",
    "plt.show()"
   ]
  },
  {
   "cell_type": "code",
   "execution_count": 254,
   "metadata": {},
   "outputs": [
    {
     "data": {
      "image/png": "[encoded data removed]",
      "text/plain": [
       "<Figure size 640x480 with 1 Axes>"
      ]
     },
     "metadata": {},
     "output_type": "display_data"
    }
   ],
   "source": [
    "truncated_mae_history = average_mae_history[10:]\n",
    "plt.plot(range(1, len(truncated_mae_history) + 1), truncated_mae_history)\n",
    "plt.xlabel('Epochs')\n",
    "plt.ylabel('Validation MAE')\n",
    "plt.show()"
   ]
  },
  {
   "cell_type": "code",
   "execution_count": 255,
   "metadata": {},
   "outputs": [
    {
     "name": "stdout",
     "output_type": "stream",
     "text": [
      "4/4 [==============================] - 0s 811us/step - loss: 13.4990 - mean_absolute_error: 2.3966\n"
     ]
    },
    {
     "data": {
      "text/plain": [
       "(13.49897575378418, 2.3966064453125)"
      ]
     },
     "execution_count": 255,
     "metadata": {},
     "output_type": "execute_result"
    }
   ],
   "source": [
    "model = build_model()\n",
    "\n",
    "model.fit(x_train, y_train, epochs=130, batch_size=16, verbose=0)\n",
    "\n",
    "test_mse_score, test_mae_score = model.evaluate(x_test, y_test)\n",
    "test_mse_score, test_mae_score"
   ]
  },
  {
   "cell_type": "code",
   "execution_count": null,
   "metadata": {},
   "outputs": [],
   "source": []
  }
 ],
 "metadata": {
  "kernelspec": {
   "display_name": ".venv",
   "language": "python",
   "name": "python3"
  },
  "language_info": {
   "codemirror_mode": {
    "name": "ipython",
    "version": 3
   },
   "file_extension": ".py",
   "mimetype": "text/x-python",
   "name": "python",
   "nbconvert_exporter": "python",
   "pygments_lexer": "ipython3",
   "version": "3.11.4"
  },
  "orig_nbformat": 4
 },
 "nbformat": 4,
 "nbformat_minor": 2
}
