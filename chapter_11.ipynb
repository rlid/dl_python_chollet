{
 "cells": [
  {
   "cell_type": "code",
   "execution_count": 6,
   "metadata": {},
   "outputs": [],
   "source": [
    "import string\n",
    "\n",
    "class Vectorizer:\n",
    "    def standarize(self, text):\n",
    "        text = text.lower()\n",
    "        return ''.join(char for char in text if char not in string.punctuation)\n",
    "    \n",
    "    def tokenize(self, text):\n",
    "        text = self.standarize(text)\n",
    "        return text.split()\n",
    "    \n",
    "    def make_vocabulary(self, dataset):\n",
    "        self.vocabulary = {'': [0, 0], '[UNK]': [1, 0]}\n",
    "        for text in dataset:\n",
    "            text = self.standarize(text)\n",
    "            tokens = self.tokenize(text)\n",
    "            for token in tokens:\n",
    "                if token not in self.vocabulary:\n",
    "                    self.vocabulary[token] = [len(self.vocabulary), 1]\n",
    "                else:\n",
    "                    self.vocabulary[token][1] += 1\n",
    "        self.inverse_vocabulary = dict((index_count[0], token) for token, index_count in self.vocabulary.items())\n",
    "    \n",
    "    def encode(self, text):\n",
    "        text = self.standarize(text)\n",
    "        tokens = self.tokenize(text)\n",
    "        return [self.vocabulary.get(token, [1, 0])[0] for token in tokens]\n",
    "    \n",
    "    def decode(self, index_seq):\n",
    "        return ' '.join(self.inverse_vocabulary.get(i, '[UNK]') for i in index_seq)"
   ]
  },
  {
   "cell_type": "code",
   "execution_count": 10,
   "metadata": {},
   "outputs": [
    {
     "data": {
      "text/plain": [
       "({'': [0, 0],\n",
       "  '[UNK]': [1, 0],\n",
       "  'i': [2, 1],\n",
       "  'write': [3, 1],\n",
       "  'erase': [4, 2],\n",
       "  'rewrite': [5, 1],\n",
       "  'again': [6, 1],\n",
       "  'and': [7, 1],\n",
       "  'then': [8, 1],\n",
       "  'a': [9, 1],\n",
       "  'poppy': [10, 1],\n",
       "  'blooms': [11, 1]},\n",
       " {0: '',\n",
       "  1: '[UNK]',\n",
       "  2: 'i',\n",
       "  3: 'write',\n",
       "  4: 'erase',\n",
       "  5: 'rewrite',\n",
       "  6: 'again',\n",
       "  7: 'and',\n",
       "  8: 'then',\n",
       "  9: 'a',\n",
       "  10: 'poppy',\n",
       "  11: 'blooms'})"
      ]
     },
     "execution_count": 10,
     "metadata": {},
     "output_type": "execute_result"
    }
   ],
   "source": [
    "vectorizer = Vectorizer()\n",
    "\n",
    "dataset = ['I write, erase, rewrite',\n",
    "           'Erase again, and then',\n",
    "           'A poppy blooms.']\n",
    "\n",
    "vectorizer.make_vocabulary(dataset)\n",
    "vectorizer.vocabulary, vectorizer.inverse_vocabulary"
   ]
  },
  {
   "cell_type": "code",
   "execution_count": 20,
   "metadata": {},
   "outputs": [
    {
     "name": "stdout",
     "output_type": "stream",
     "text": [
      "[2, 3, 5, 7, 1, 5, 6]\n"
     ]
    },
    {
     "data": {
      "text/plain": [
       "'i write rewrite and [UNK] rewrite again'"
      ]
     },
     "execution_count": 20,
     "metadata": {},
     "output_type": "execute_result"
    }
   ],
   "source": [
    "test_sentence = 'I write, rewrite and still rewrite again'\n",
    "encoded_sentence = vectorizer.encode(test_sentence)\n",
    "print(encoded_sentence)\n",
    "decoded_sentence = vectorizer.decode(encoded_sentence)\n",
    "decoded_sentence"
   ]
  },
  {
   "cell_type": "code",
   "execution_count": 15,
   "metadata": {},
   "outputs": [
    {
     "name": "stderr",
     "output_type": "stream",
     "text": [
      "2023-09-20 15:34:30.527570: I tensorflow/compiler/xla/stream_executor/cuda/cuda_gpu_executor.cc:995] successful NUMA node read from SysFS had negative value (-1), but there must be at least one NUMA node, so returning NUMA node zero. See more at https://github.com/torvalds/linux/blob/v6.0/Documentation/ABI/testing/sysfs-bus-pci#L344-L355\n",
      "2023-09-20 15:34:30.527883: W tensorflow/core/common_runtime/gpu/gpu_device.cc:1960] Cannot dlopen some GPU libraries. Please make sure the missing libraries mentioned above are installed properly if you would like to use GPU. Follow the guide at https://www.tensorflow.org/install/gpu for how to download and setup the required libraries for your platform.\n",
      "Skipping registering GPU devices...\n"
     ]
    }
   ],
   "source": [
    "import re\n",
    "import string\n",
    "import tensorflow as tf\n",
    "from tensorflow.keras.layers import TextVectorization\n",
    "\n",
    "def custom_standardization_fn(string_tensor):\n",
    "    lowercase_string = tf.strings.lower(string_tensor)\n",
    "    return tf.strings.regex_replace(lowercase_string, f'[{re.escape(string.punctuation)}]', '')\n",
    "\n",
    "def custom_split_fn(string_tensor):\n",
    "    return tf.strings.split(string_tensor)\n",
    "\n",
    "text_vectorization = TextVectorization(output_mode='int', standardize=custom_standardization_fn, split=custom_split_fn)"
   ]
  },
  {
   "cell_type": "code",
   "execution_count": 27,
   "metadata": {},
   "outputs": [
    {
     "data": {
      "text/plain": [
       "(array([ 7,  3,  5,  9,  1,  5, 10]),\n",
       " 'i write rewrite and [UNK] rewrite again')"
      ]
     },
     "execution_count": 27,
     "metadata": {},
     "output_type": "execute_result"
    }
   ],
   "source": [
    "text_vectorization.adapt(dataset)\n",
    "vocabulary = text_vectorization.get_vocabulary()\n",
    "encoded_sentence = text_vectorization(test_sentence)\n",
    "inverse_vocabulary = dict(enumerate(vocabulary))\n",
    "decoded_sentence = ' '.join(inverse_vocabulary[int(i)] for i in encoded_sentence)\n",
    "encoded_sentence.numpy(), decoded_sentence\n"
   ]
  },
  {
   "cell_type": "code",
   "execution_count": null,
   "metadata": {},
   "outputs": [],
   "source": []
  }
 ],
 "metadata": {
  "kernelspec": {
   "display_name": ".venv",
   "language": "python",
   "name": "python3"
  },
  "language_info": {
   "codemirror_mode": {
    "name": "ipython",
    "version": 3
   },
   "file_extension": ".py",
   "mimetype": "text/x-python",
   "name": "python",
   "nbconvert_exporter": "python",
   "pygments_lexer": "ipython3",
   "version": "3.11.5"
  },
  "orig_nbformat": 4
 },
 "nbformat": 4,
 "nbformat_minor": 2
}
