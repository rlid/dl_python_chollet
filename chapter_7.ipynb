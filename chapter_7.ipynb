{
 "cells": [
  {
   "cell_type": "code",
   "execution_count": 1,
   "metadata": {},
   "outputs": [
    {
     "name": "stderr",
     "output_type": "stream",
     "text": [
      "2023-08-26 19:50:03.236212: I tensorflow/tsl/cuda/cudart_stub.cc:28] Could not find cuda drivers on your machine, GPU will not be used.\n",
      "2023-08-26 19:50:03.257500: I tensorflow/tsl/cuda/cudart_stub.cc:28] Could not find cuda drivers on your machine, GPU will not be used.\n",
      "2023-08-26 19:50:03.257897: I tensorflow/core/platform/cpu_feature_guard.cc:182] This TensorFlow binary is optimized to use available CPU instructions in performance-critical operations.\n",
      "To enable the following instructions: AVX2 FMA, in other operations, rebuild TensorFlow with the appropriate compiler flags.\n",
      "2023-08-26 19:50:03.680649: W tensorflow/compiler/tf2tensorrt/utils/py_utils.cc:38] TF-TRT Warning: Could not find TensorRT\n"
     ]
    }
   ],
   "source": [
    "from keras import models, layers, activations"
   ]
  },
  {
   "cell_type": "code",
   "execution_count": 2,
   "metadata": {},
   "outputs": [
    {
     "name": "stderr",
     "output_type": "stream",
     "text": [
      "2023-08-26 19:50:09.742180: I tensorflow/compiler/xla/stream_executor/cuda/cuda_gpu_executor.cc:995] successful NUMA node read from SysFS had negative value (-1), but there must be at least one NUMA node, so returning NUMA node zero. See more at https://github.com/torvalds/linux/blob/v6.0/Documentation/ABI/testing/sysfs-bus-pci#L344-L355\n",
      "2023-08-26 19:50:09.742467: W tensorflow/core/common_runtime/gpu/gpu_device.cc:1960] Cannot dlopen some GPU libraries. Please make sure the missing libraries mentioned above are installed properly if you would like to use GPU. Follow the guide at https://www.tensorflow.org/install/gpu for how to download and setup the required libraries for your platform.\n",
      "Skipping registering GPU devices...\n"
     ]
    },
    {
     "ename": "ValueError",
     "evalue": "Weights for model 'sequential_1' have not yet been created. Weights are created when the model is first called on inputs or `build()` is called with an `input_shape`.",
     "output_type": "error",
     "traceback": [
      "\u001b[0;31m---------------------------------------------------------------------------\u001b[0m",
      "\u001b[0;31mValueError\u001b[0m                                Traceback (most recent call last)",
      "Cell \u001b[0;32mIn[2], line 10\u001b[0m\n\u001b[1;32m      7\u001b[0m model\u001b[39m.\u001b[39madd(layers\u001b[39m.\u001b[39mDense(\u001b[39m64\u001b[39m, activation\u001b[39m=\u001b[39mactivations\u001b[39m.\u001b[39mrelu))\n\u001b[1;32m      8\u001b[0m model\u001b[39m.\u001b[39madd(layers\u001b[39m.\u001b[39mDense(\u001b[39m10\u001b[39m, activation\u001b[39m=\u001b[39mactivations\u001b[39m.\u001b[39msoftmax))\n\u001b[0;32m---> 10\u001b[0m model\u001b[39m.\u001b[39;49mweights\n",
      "File \u001b[0;32m~/src/dl_python_chollet/.venv/lib/python3.11/site-packages/keras/src/engine/training.py:3351\u001b[0m, in \u001b[0;36mModel.weights\u001b[0;34m(self)\u001b[0m\n\u001b[1;32m   3341\u001b[0m \u001b[39m@property\u001b[39m\n\u001b[1;32m   3342\u001b[0m \u001b[39mdef\u001b[39;00m \u001b[39mweights\u001b[39m(\u001b[39mself\u001b[39m):\n\u001b[1;32m   3343\u001b[0m \u001b[39m    \u001b[39m\u001b[39m\"\"\"Returns the list of all layer variables/weights.\u001b[39;00m\n\u001b[1;32m   3344\u001b[0m \n\u001b[1;32m   3345\u001b[0m \u001b[39m    Note: This will not track the weights of nested `tf.Modules` that are\u001b[39;00m\n\u001b[0;32m   (...)\u001b[0m\n\u001b[1;32m   3349\u001b[0m \u001b[39m      A list of variables.\u001b[39;00m\n\u001b[1;32m   3350\u001b[0m \u001b[39m    \"\"\"\u001b[39;00m\n\u001b[0;32m-> 3351\u001b[0m     \u001b[39mreturn\u001b[39;00m \u001b[39mself\u001b[39m\u001b[39m.\u001b[39m_dedup_weights(\u001b[39mself\u001b[39;49m\u001b[39m.\u001b[39;49m_undeduplicated_weights)\n",
      "File \u001b[0;32m~/src/dl_python_chollet/.venv/lib/python3.11/site-packages/keras/src/engine/training.py:3356\u001b[0m, in \u001b[0;36mModel._undeduplicated_weights\u001b[0;34m(self)\u001b[0m\n\u001b[1;32m   3353\u001b[0m \u001b[39m@property\u001b[39m\n\u001b[1;32m   3354\u001b[0m \u001b[39mdef\u001b[39;00m \u001b[39m_undeduplicated_weights\u001b[39m(\u001b[39mself\u001b[39m):\n\u001b[1;32m   3355\u001b[0m \u001b[39m    \u001b[39m\u001b[39m\"\"\"Returns the undeduplicated list of all layer variables/weights.\"\"\"\u001b[39;00m\n\u001b[0;32m-> 3356\u001b[0m     \u001b[39mself\u001b[39;49m\u001b[39m.\u001b[39;49m_assert_weights_created()\n\u001b[1;32m   3357\u001b[0m     weights \u001b[39m=\u001b[39m []\n\u001b[1;32m   3358\u001b[0m     \u001b[39mfor\u001b[39;00m layer \u001b[39min\u001b[39;00m \u001b[39mself\u001b[39m\u001b[39m.\u001b[39m_self_tracked_trackables:\n",
      "File \u001b[0;32m~/src/dl_python_chollet/.venv/lib/python3.11/site-packages/keras/src/engine/sequential.py:516\u001b[0m, in \u001b[0;36mSequential._assert_weights_created\u001b[0;34m(self)\u001b[0m\n\u001b[1;32m    513\u001b[0m     \u001b[39mreturn\u001b[39;00m\n\u001b[1;32m    514\u001b[0m \u001b[39m# When the graph has not been initialized, use the Model's\u001b[39;00m\n\u001b[1;32m    515\u001b[0m \u001b[39m# implementation to to check if the weights has been created.\u001b[39;00m\n\u001b[0;32m--> 516\u001b[0m \u001b[39msuper\u001b[39;49m(functional\u001b[39m.\u001b[39;49mFunctional, \u001b[39mself\u001b[39;49m)\u001b[39m.\u001b[39;49m_assert_weights_created()\n",
      "File \u001b[0;32m~/src/dl_python_chollet/.venv/lib/python3.11/site-packages/keras/src/engine/training.py:3730\u001b[0m, in \u001b[0;36mModel._assert_weights_created\u001b[0;34m(self)\u001b[0m\n\u001b[1;32m   3719\u001b[0m     \u001b[39mreturn\u001b[39;00m\n\u001b[1;32m   3721\u001b[0m \u001b[39mif\u001b[39;00m (\n\u001b[1;32m   3722\u001b[0m     \u001b[39m\"\u001b[39m\u001b[39mbuild\u001b[39m\u001b[39m\"\u001b[39m \u001b[39min\u001b[39;00m \u001b[39mself\u001b[39m\u001b[39m.\u001b[39m\u001b[39m__class__\u001b[39m\u001b[39m.\u001b[39m\u001b[39m__dict__\u001b[39m\n\u001b[1;32m   3723\u001b[0m     \u001b[39mand\u001b[39;00m \u001b[39mself\u001b[39m\u001b[39m.\u001b[39m\u001b[39m__class__\u001b[39m \u001b[39m!=\u001b[39m Model\n\u001b[0;32m   (...)\u001b[0m\n\u001b[1;32m   3728\u001b[0m     \u001b[39m# Also make sure to exclude Model class itself which has build()\u001b[39;00m\n\u001b[1;32m   3729\u001b[0m     \u001b[39m# defined.\u001b[39;00m\n\u001b[0;32m-> 3730\u001b[0m     \u001b[39mraise\u001b[39;00m \u001b[39mValueError\u001b[39;00m(\n\u001b[1;32m   3731\u001b[0m         \u001b[39mf\u001b[39m\u001b[39m\"\u001b[39m\u001b[39mWeights for model \u001b[39m\u001b[39m'\u001b[39m\u001b[39m{\u001b[39;00m\u001b[39mself\u001b[39m\u001b[39m.\u001b[39mname\u001b[39m}\u001b[39;00m\u001b[39m'\u001b[39m\u001b[39m have not yet been \u001b[39m\u001b[39m\"\u001b[39m\n\u001b[1;32m   3732\u001b[0m         \u001b[39m\"\u001b[39m\u001b[39mcreated. \u001b[39m\u001b[39m\"\u001b[39m\n\u001b[1;32m   3733\u001b[0m         \u001b[39m\"\u001b[39m\u001b[39mWeights are created when the model is first called on \u001b[39m\u001b[39m\"\u001b[39m\n\u001b[1;32m   3734\u001b[0m         \u001b[39m\"\u001b[39m\u001b[39minputs or `build()` is called with an `input_shape`.\u001b[39m\u001b[39m\"\u001b[39m\n\u001b[1;32m   3735\u001b[0m     )\n",
      "\u001b[0;31mValueError\u001b[0m: Weights for model 'sequential_1' have not yet been created. Weights are created when the model is first called on inputs or `build()` is called with an `input_shape`."
     ]
    }
   ],
   "source": [
    "model = models.Sequential([\n",
    "    layers.Dense(64, activation=activations.relu),\n",
    "    layers.Dense(10, activation=activations.softmax)\n",
    "])\n",
    "\n",
    "model = models.Sequential()\n",
    "model.add(layers.Dense(64, activation=activations.relu))\n",
    "model.add(layers.Dense(10, activation=activations.softmax))\n",
    "\n",
    "#model.weights"
   ]
  },
  {
   "cell_type": "code",
   "execution_count": null,
   "metadata": {},
   "outputs": [
    {
     "data": {
      "text/plain": [
       "[<tf.Variable 'dense_8/kernel:0' shape=(3, 64) dtype=float32, numpy=\n",
       " array([[-0.06853613, -0.19964331, -0.19022259, -0.0958679 , -0.100677  ,\n",
       "         -0.19111016, -0.08696446,  0.29518038, -0.0306946 ,  0.05985948,\n",
       "         -0.04799128,  0.07367143, -0.02546111,  0.04841107, -0.27585477,\n",
       "          0.2439059 ,  0.26672417,  0.20863938, -0.07007259,  0.17882106,\n",
       "          0.07612634, -0.08419575,  0.09473819,  0.07246581,  0.20134956,\n",
       "          0.09882769, -0.00246662, -0.18879008,  0.0137817 , -0.1452503 ,\n",
       "         -0.15108281, -0.20231847, -0.24312228, -0.0776982 ,  0.2508272 ,\n",
       "         -0.13415721,  0.17615002,  0.25267333,  0.16388547, -0.15220626,\n",
       "         -0.09695916, -0.2812363 , -0.21870649, -0.19161844, -0.00476766,\n",
       "         -0.18824127,  0.12677184,  0.04528287, -0.29093835, -0.17779972,\n",
       "          0.11963835,  0.06079093, -0.1370943 ,  0.0775595 ,  0.07141992,\n",
       "          0.20571661, -0.08762085,  0.03582212, -0.20015751, -0.08612113,\n",
       "          0.15578726, -0.21161483,  0.23672485, -0.18634358],\n",
       "        [-0.15430109,  0.03592929, -0.0274719 , -0.17600633,  0.08717129,\n",
       "          0.0172635 ,  0.17807105,  0.11284831, -0.01387915, -0.27044958,\n",
       "          0.08987728, -0.10480452, -0.20576134, -0.24294856, -0.25238582,\n",
       "         -0.21867937, -0.10450436, -0.08375175,  0.17557433,  0.15846714,\n",
       "          0.23153883,  0.27195913,  0.29809237, -0.11251262, -0.25416988,\n",
       "         -0.05905005, -0.18294829, -0.05606623, -0.29055768,  0.01741198,\n",
       "         -0.12748116,  0.20199764, -0.24239519,  0.14969796,  0.19906062,\n",
       "         -0.06385617,  0.1690636 ,  0.03040585,  0.02054501,  0.286797  ,\n",
       "          0.18520701, -0.2026132 , -0.21278629,  0.13066605,  0.09661311,\n",
       "          0.01063412,  0.04048574,  0.21804821, -0.23597449,  0.2922026 ,\n",
       "         -0.04072297,  0.19868952, -0.04435319,  0.293976  , -0.25836653,\n",
       "         -0.27376935, -0.09739159, -0.01835114,  0.24344903, -0.22982526,\n",
       "          0.2617821 ,  0.29766202, -0.11523566,  0.25948316],\n",
       "        [ 0.15463391, -0.13305132,  0.14113799, -0.07294282,  0.21518242,\n",
       "         -0.10083111, -0.25548232,  0.11865142,  0.29296088, -0.01669794,\n",
       "          0.2535345 , -0.13015048,  0.29472923, -0.07219811,  0.03864169,\n",
       "          0.00672421,  0.06783819, -0.27371907,  0.06439948, -0.23610955,\n",
       "         -0.1549303 ,  0.16352838,  0.01605096,  0.04602045,  0.10533348,\n",
       "         -0.03671324, -0.01201555, -0.04909909,  0.21355414, -0.08877453,\n",
       "          0.19937754,  0.14606246, -0.22654557,  0.29673618,  0.16700506,\n",
       "          0.03822532, -0.14638944,  0.08503887, -0.26183715,  0.06427363,\n",
       "          0.28132635,  0.22463632,  0.12757912, -0.06223166,  0.24086207,\n",
       "         -0.08942501,  0.01894715, -0.2827273 ,  0.01884043, -0.18418331,\n",
       "         -0.02020937,  0.09507608, -0.29217556, -0.27574375,  0.09727901,\n",
       "          0.2371223 , -0.263912  , -0.20410445,  0.0025723 , -0.25326768,\n",
       "          0.2915933 , -0.01574609, -0.08174075,  0.14132008]],\n",
       "       dtype=float32)>,\n",
       " <tf.Variable 'dense_8/bias:0' shape=(64,) dtype=float32, numpy=\n",
       " array([0., 0., 0., 0., 0., 0., 0., 0., 0., 0., 0., 0., 0., 0., 0., 0., 0.,\n",
       "        0., 0., 0., 0., 0., 0., 0., 0., 0., 0., 0., 0., 0., 0., 0., 0., 0.,\n",
       "        0., 0., 0., 0., 0., 0., 0., 0., 0., 0., 0., 0., 0., 0., 0., 0., 0.,\n",
       "        0., 0., 0., 0., 0., 0., 0., 0., 0., 0., 0., 0., 0.], dtype=float32)>,\n",
       " <tf.Variable 'dense_9/kernel:0' shape=(64, 10) dtype=float32, numpy=\n",
       " array([[ 0.22695461,  0.06779864,  0.13347426,  0.00401524, -0.17201602,\n",
       "         -0.04680714, -0.15829986,  0.18255046,  0.05119297, -0.2762703 ],\n",
       "        [-0.04267275, -0.2348454 , -0.03191018, -0.23687589,  0.00861132,\n",
       "          0.10311249, -0.15696876, -0.02578822, -0.13952595,  0.01972115],\n",
       "        [ 0.02715543, -0.25788125, -0.07404178,  0.01436201,  0.2497231 ,\n",
       "          0.1582903 , -0.17102268, -0.18672651, -0.09756535,  0.02439654],\n",
       "        [-0.16642238,  0.14788255,  0.2113893 ,  0.27683058, -0.03858909,\n",
       "         -0.07747521, -0.22812125, -0.09365161,  0.23971358,  0.04239592],\n",
       "        [ 0.03036189, -0.03977464,  0.1085777 ,  0.27094916, -0.13077098,\n",
       "          0.14657113, -0.10933657, -0.00146294, -0.20542505, -0.22034532],\n",
       "        [-0.14413393, -0.13292095,  0.17946884,  0.04786193,  0.26265916,\n",
       "          0.13602728, -0.02797335, -0.1366757 ,  0.06558871,  0.16325665],\n",
       "        [ 0.22602662,  0.21009582,  0.17907915, -0.02058941, -0.12858488,\n",
       "          0.22407678, -0.19506648,  0.07503909,  0.21528044, -0.19035593],\n",
       "        [-0.2103788 ,  0.23986843,  0.26125506, -0.1592736 ,  0.07792673,\n",
       "         -0.03897926,  0.01243308, -0.04885012,  0.18009776,  0.14008951],\n",
       "        [-0.11221248,  0.24261108, -0.15682653, -0.22473243,  0.12624204,\n",
       "          0.2466391 , -0.15166323, -0.14976844, -0.00081113,  0.14800963],\n",
       "        [-0.04281472, -0.19923195, -0.09186186, -0.06287865, -0.24426126,\n",
       "         -0.17715225,  0.18411577, -0.04516667,  0.15975568,  0.09488848],\n",
       "        [ 0.10776582, -0.10891871,  0.27046964,  0.15306431,  0.00077888,\n",
       "         -0.04550841, -0.20208302, -0.04799017,  0.24837956, -0.0302304 ],\n",
       "        [ 0.25230518,  0.14820522,  0.07216036, -0.18855761,  0.02761787,\n",
       "          0.00034353,  0.23165128, -0.2585794 , -0.27588183, -0.12109095],\n",
       "        [ 0.28340474,  0.26926908, -0.2540705 ,  0.17120871,  0.0141075 ,\n",
       "         -0.04655643, -0.00327924, -0.12559003, -0.02663144,  0.14939791],\n",
       "        [ 0.2810153 , -0.19958422,  0.02230856,  0.10415176,  0.09947771,\n",
       "         -0.23140186,  0.24325994,  0.23114124, -0.09596819,  0.06614861],\n",
       "        [ 0.24934813, -0.22545491,  0.20025912,  0.21836302, -0.20038089,\n",
       "          0.23992118, -0.10692094, -0.1394601 , -0.05576307, -0.11809765],\n",
       "        [-0.14200152, -0.23678139, -0.07787243, -0.00946862, -0.09642631,\n",
       "          0.2812784 ,  0.01173395,  0.07067469, -0.10689555, -0.07852383],\n",
       "        [-0.19009244, -0.16082065, -0.06886776, -0.03526369, -0.12233685,\n",
       "         -0.1866779 , -0.0745312 , -0.01106185,  0.23104325,  0.09024778],\n",
       "        [-0.06799573, -0.21506456,  0.224798  ,  0.02276075,  0.06444031,\n",
       "         -0.0946631 , -0.07840271,  0.19924444,  0.03146407, -0.26614708],\n",
       "        [ 0.03693965,  0.19173557, -0.03129637,  0.26175436, -0.14733781,\n",
       "         -0.21828699,  0.0542126 , -0.20450291, -0.2402134 , -0.21959051],\n",
       "        [ 0.02003163, -0.24851154,  0.04898515,  0.05251878,  0.05228233,\n",
       "         -0.23990266,  0.02192268, -0.07027863,  0.00835347,  0.02895597],\n",
       "        [ 0.28289267,  0.03201824, -0.23043512, -0.2603957 , -0.02928892,\n",
       "         -0.08876781, -0.22020268, -0.02163252,  0.18314114,  0.21351764],\n",
       "        [-0.05608295,  0.01020312,  0.01506656,  0.01148784,  0.02652332,\n",
       "         -0.15085447,  0.2588378 , -0.1865705 , -0.04617366,  0.25447693],\n",
       "        [ 0.18101242,  0.15846801, -0.10776657, -0.02833399, -0.28381902,\n",
       "          0.19726568, -0.15097986, -0.22887483, -0.14071897,  0.15509272],\n",
       "        [-0.20016216, -0.11791918,  0.16579446,  0.19141337,  0.04263338,\n",
       "         -0.07972214, -0.06577995,  0.15729448,  0.12884429, -0.1604123 ],\n",
       "        [-0.19966325, -0.18059966,  0.16378182,  0.01743397, -0.2539722 ,\n",
       "          0.27207407, -0.24111515, -0.1195031 , -0.18391019,  0.06414071],\n",
       "        [-0.02559921,  0.00251263,  0.12697387, -0.1430052 , -0.08525965,\n",
       "          0.27126548,  0.14398295,  0.19700912,  0.21370718,  0.22381535],\n",
       "        [ 0.24914339,  0.22400317,  0.13934001,  0.15151155,  0.27340177,\n",
       "          0.0927825 , -0.26335913,  0.05109534,  0.13835236, -0.05393521],\n",
       "        [ 0.01915497,  0.2154626 ,  0.00735843, -0.1850307 ,  0.2584571 ,\n",
       "          0.15063363,  0.2457138 ,  0.12439436, -0.18626234, -0.27252907],\n",
       "        [-0.08115873,  0.05410779, -0.19737056, -0.06395388,  0.23428473,\n",
       "          0.03185979,  0.04349178, -0.01007235,  0.06249827,  0.16474131],\n",
       "        [-0.2286696 , -0.1425551 , -0.15193322,  0.081884  ,  0.13188028,\n",
       "         -0.07565258,  0.1882737 , -0.0269379 , -0.21348757,  0.05542755],\n",
       "        [-0.26793766,  0.01857072, -0.06591153, -0.2040167 ,  0.24754235,\n",
       "          0.08349189,  0.1564978 ,  0.04474196,  0.0236696 ,  0.01517451],\n",
       "        [ 0.11238411,  0.22063974, -0.06343785, -0.12844054, -0.06466386,\n",
       "          0.0675607 , -0.23617949, -0.02772039, -0.17408895,  0.08227009],\n",
       "        [-0.0682207 , -0.10513559, -0.27486417, -0.13845202,  0.04150799,\n",
       "         -0.07806829,  0.13080975, -0.14915045,  0.12749344, -0.19803065],\n",
       "        [ 0.11298716,  0.11359572, -0.17626467, -0.1545591 , -0.28461474,\n",
       "         -0.23468918,  0.11214146, -0.24685402,  0.11158043, -0.07825933],\n",
       "        [-0.18233165,  0.01590452,  0.03690803, -0.18763065,  0.10727674,\n",
       "         -0.02355194,  0.1590127 , -0.22184953,  0.15808764,  0.07722804],\n",
       "        [-0.08331354,  0.02763799, -0.12753709, -0.14140119, -0.03755569,\n",
       "          0.1528252 ,  0.17120883,  0.15265632, -0.03283155, -0.05137947],\n",
       "        [-0.1180187 ,  0.12106985, -0.15018407, -0.18591714, -0.07819062,\n",
       "          0.09645671,  0.24843416, -0.05424309,  0.18117005,  0.23362157],\n",
       "        [ 0.17921948,  0.21372077, -0.0962927 , -0.20319864, -0.25500125,\n",
       "         -0.17492324,  0.1444968 ,  0.23836282, -0.07385258,  0.20192686],\n",
       "        [ 0.05736145,  0.26993433, -0.02350026,  0.16324782, -0.20303774,\n",
       "          0.04557693,  0.13668093, -0.06695037, -0.12479816,  0.19665399],\n",
       "        [-0.19421291,  0.24495879, -0.03708251,  0.03184873,  0.25342026,\n",
       "         -0.11355987, -0.06301592,  0.08854786,  0.20641106,  0.20055178],\n",
       "        [-0.11383443, -0.23647039, -0.15477309,  0.02159911, -0.27598515,\n",
       "         -0.22287907,  0.09131277, -0.09365073,  0.18236578, -0.14410093],\n",
       "        [ 0.10995477, -0.08571878,  0.01858136, -0.1742003 ,  0.02414671,\n",
       "          0.0234831 , -0.12369367,  0.10578108, -0.11505106, -0.13245477],\n",
       "        [-0.01324067, -0.0309841 ,  0.12920749, -0.20766968, -0.09488767,\n",
       "         -0.12918468, -0.06138611, -0.15047178, -0.00568563, -0.0144946 ],\n",
       "        [ 0.23620322,  0.09743994, -0.05550909, -0.03202048, -0.09228365,\n",
       "          0.1569733 , -0.05241124, -0.12601528,  0.14051855, -0.04344913],\n",
       "        [ 0.22442898,  0.14603162, -0.06616889,  0.28035906, -0.05362856,\n",
       "         -0.11270128,  0.01647946, -0.00341475,  0.2327657 , -0.17499208],\n",
       "        [-0.22881067,  0.1189301 ,  0.10118824,  0.20288065, -0.26617423,\n",
       "         -0.18539187,  0.01790214, -0.05902466,  0.21089897,  0.21641138],\n",
       "        [ 0.04450244, -0.20183209,  0.00274435,  0.07681859, -0.1797733 ,\n",
       "         -0.10029204,  0.03122395, -0.21067601,  0.27224252,  0.07703128],\n",
       "        [-0.15209249, -0.12479803, -0.28298894, -0.26490918,  0.25536177,\n",
       "         -0.24447444, -0.15489407,  0.01263762, -0.12701888, -0.02619419],\n",
       "        [-0.0340175 , -0.16395454, -0.0656473 ,  0.22489288, -0.12920973,\n",
       "         -0.17717221,  0.1480886 ,  0.21388817, -0.15441138,  0.2104494 ],\n",
       "        [ 0.14100832,  0.00271896,  0.16830087, -0.2569889 ,  0.27682868,\n",
       "         -0.22703843,  0.00577995,  0.2553467 , -0.2212633 ,  0.20100465],\n",
       "        [-0.05551507,  0.24973628,  0.20431289, -0.18938756,  0.06453398,\n",
       "         -0.04516564, -0.11721367, -0.21737245,  0.07073322, -0.1928114 ],\n",
       "        [ 0.2622194 , -0.2031799 ,  0.09614354, -0.2718668 , -0.21556145,\n",
       "         -0.18092804, -0.0642716 ,  0.23668125, -0.1399339 , -0.2596769 ],\n",
       "        [-0.27252072,  0.17902374,  0.24832138,  0.03252259,  0.2079184 ,\n",
       "          0.10679528, -0.19258608,  0.02247649,  0.02445039,  0.2552792 ],\n",
       "        [-0.2680114 , -0.25572157, -0.18393518,  0.17480275, -0.08177395,\n",
       "         -0.03468642,  0.01267692, -0.204081  ,  0.20041749,  0.06558254],\n",
       "        [ 0.1066578 , -0.0430672 ,  0.24184403, -0.25785714,  0.0659323 ,\n",
       "         -0.22079718,  0.21895239,  0.25347003, -0.07231143,  0.14312816],\n",
       "        [-0.19285417, -0.24793841, -0.16354993, -0.18448053, -0.14570712,\n",
       "         -0.04802555, -0.20814592,  0.25817946, -0.06140749,  0.2771717 ],\n",
       "        [ 0.08614084,  0.25155172,  0.13907939,  0.21168539, -0.26664695,\n",
       "          0.00653291,  0.14888766,  0.14255396, -0.1913031 , -0.1031144 ],\n",
       "        [-0.1422665 , -0.19616947,  0.0207012 , -0.24241373,  0.13144302,\n",
       "         -0.12334785,  0.23649302, -0.25478393, -0.02196965, -0.22647066],\n",
       "        [ 0.16616705, -0.03156379,  0.17965594, -0.14678778, -0.07746917,\n",
       "         -0.09001493,  0.2698575 , -0.09005152, -0.21506912, -0.19934851],\n",
       "        [ 0.11575738, -0.17215037, -0.23235591,  0.10292336, -0.25848   ,\n",
       "          0.05532688, -0.17147781, -0.21906573, -0.01710662,  0.19589844],\n",
       "        [ 0.08652252,  0.00511047, -0.28141838,  0.1786761 , -0.1690535 ,\n",
       "          0.2515138 , -0.01845294,  0.2211326 , -0.19064276, -0.2533127 ],\n",
       "        [-0.06771432, -0.14440963,  0.12738508, -0.19393307,  0.02203503,\n",
       "         -0.27603456,  0.1698694 , -0.26914248, -0.18310916,  0.255725  ],\n",
       "        [ 0.08466521,  0.10990107, -0.05728297,  0.20149142,  0.24232146,\n",
       "         -0.12594005, -0.21128109,  0.26549974,  0.14960593, -0.0932512 ],\n",
       "        [-0.07537661, -0.18783486, -0.23772219,  0.16900527, -0.12458079,\n",
       "         -0.19022238,  0.27656946,  0.26343396, -0.2670942 ,  0.0060657 ]],\n",
       "       dtype=float32)>,\n",
       " <tf.Variable 'dense_9/bias:0' shape=(10,) dtype=float32, numpy=array([0., 0., 0., 0., 0., 0., 0., 0., 0., 0.], dtype=float32)>]"
      ]
     },
     "execution_count": 7,
     "metadata": {},
     "output_type": "execute_result"
    }
   ],
   "source": [
    "model.build(input_shape=(None, 3))\n",
    "model.weights"
   ]
  },
  {
   "cell_type": "code",
   "execution_count": null,
   "metadata": {},
   "outputs": [
    {
     "name": "stdout",
     "output_type": "stream",
     "text": [
      "Model: \"sequential_4\"\n",
      "_________________________________________________________________\n",
      " Layer (type)                Output Shape              Param #   \n",
      "=================================================================\n",
      " dense_8 (Dense)             (None, 64)                256       \n",
      "                                                                 \n",
      " dense_9 (Dense)             (None, 10)                650       \n",
      "                                                                 \n",
      "=================================================================\n",
      "Total params: 906 (3.54 KB)\n",
      "Trainable params: 906 (3.54 KB)\n",
      "Non-trainable params: 0 (0.00 Byte)\n",
      "_________________________________________________________________\n"
     ]
    }
   ],
   "source": [
    "model.summary()"
   ]
  },
  {
   "cell_type": "code",
   "execution_count": null,
   "metadata": {},
   "outputs": [
    {
     "name": "stdout",
     "output_type": "stream",
     "text": [
      "Model: \"model1\"\n",
      "_________________________________________________________________\n",
      " Layer (type)                Output Shape              Param #   \n",
      "=================================================================\n",
      " layer1 (Dense)              (None, 64)                256       \n",
      "                                                                 \n",
      " layer2 (Dense)              (None, 10)                650       \n",
      "                                                                 \n",
      "=================================================================\n",
      "Total params: 906 (3.54 KB)\n",
      "Trainable params: 906 (3.54 KB)\n",
      "Non-trainable params: 0 (0.00 Byte)\n",
      "_________________________________________________________________\n"
     ]
    }
   ],
   "source": [
    "model = keras.Sequential(name='model1')\n",
    "model.add(layers.Dense(64, activation=activations.relu, name='layer1'))\n",
    "model.add(layers.Dense(10, activation=activations.softmax, name='layer2'))\n",
    "model.build((None, 3))\n",
    "model.summary()"
   ]
  },
  {
   "cell_type": "code",
   "execution_count": null,
   "metadata": {},
   "outputs": [
    {
     "name": "stdout",
     "output_type": "stream",
     "text": [
      "Model: \"sequential_6\"\n",
      "_________________________________________________________________\n",
      " Layer (type)                Output Shape              Param #   \n",
      "=================================================================\n",
      " dense_10 (Dense)            (None, 64)                256       \n",
      "                                                                 \n",
      " dense_11 (Dense)            (None, 10)                650       \n",
      "                                                                 \n",
      "=================================================================\n",
      "Total params: 906 (3.54 KB)\n",
      "Trainable params: 906 (3.54 KB)\n",
      "Non-trainable params: 0 (0.00 Byte)\n",
      "_________________________________________________________________\n"
     ]
    }
   ],
   "source": [
    "model = models.Sequential()\n",
    "model.add(layers.Input(shape=(3,)))\n",
    "model.add(layers.Dense(64, activation=activations.relu))\n",
    "model.add(layers.Dense(10, activation=activations.softmax))\n",
    "model.summary()"
   ]
  },
  {
   "cell_type": "code",
   "execution_count": null,
   "metadata": {},
   "outputs": [
    {
     "name": "stdout",
     "output_type": "stream",
     "text": [
      "Model: \"model\"\n",
      "_________________________________________________________________\n",
      " Layer (type)                Output Shape              Param #   \n",
      "=================================================================\n",
      " my_inputs (InputLayer)      [(None, 3)]               0         \n",
      "                                                                 \n",
      " my_features (Dense)         (None, 64)                256       \n",
      "                                                                 \n",
      " my_outputs (Dense)          (None, 10)                650       \n",
      "                                                                 \n",
      "=================================================================\n",
      "Total params: 906 (3.54 KB)\n",
      "Trainable params: 906 (3.54 KB)\n",
      "Non-trainable params: 0 (0.00 Byte)\n",
      "_________________________________________________________________\n"
     ]
    }
   ],
   "source": [
    "inputs = layers.Input(shape=(3,), name='my_inputs')\n",
    "features = layers.Dense(64, activation=activations.relu, name='my_features')(inputs)\n",
    "outputs = layers.Dense(10, activation=activations.softmax, name='my_outputs')(features)\n",
    "model = keras.Model(inputs=inputs, outputs=outputs)\n",
    "model.summary()"
   ]
  },
  {
   "cell_type": "code",
   "execution_count": null,
   "metadata": {},
   "outputs": [
    {
     "name": "stdout",
     "output_type": "stream",
     "text": [
      "Model: \"model_2\"\n",
      "__________________________________________________________________________________________________\n",
      " Layer (type)                Output Shape                 Param #   Connected to                  \n",
      "==================================================================================================\n",
      " title (InputLayer)          [(None, 10000)]              0         []                            \n",
      "                                                                                                  \n",
      " body (InputLayer)           [(None, 10000)]              0         []                            \n",
      "                                                                                                  \n",
      " tags (InputLayer)           [(None, 100)]                0         []                            \n",
      "                                                                                                  \n",
      " concatenation (Concatenate  (None, 20100)                0         ['title[0][0]',               \n",
      " )                                                                   'body[0][0]',                \n",
      "                                                                     'tags[0][0]']                \n",
      "                                                                                                  \n",
      " my_dense (Dense)            (None, 64)                   1286464   ['concatenation[0][0]']       \n",
      "                                                                                                  \n",
      " priority (Dense)            (None, 1)                    65        ['my_dense[0][0]']            \n",
      "                                                                                                  \n",
      " department (Dense)          (None, 4)                    260       ['my_dense[0][0]']            \n",
      "                                                                                                  \n",
      "==================================================================================================\n",
      "Total params: 1286789 (4.91 MB)\n",
      "Trainable params: 1286789 (4.91 MB)\n",
      "Non-trainable params: 0 (0.00 Byte)\n",
      "__________________________________________________________________________________________________\n"
     ]
    }
   ],
   "source": [
    "vocabulary_size = 10000\n",
    "num_tags = 100\n",
    "num_departments = 4\n",
    "\n",
    "title = layers.Input(shape=(vocabulary_size,), name='title')\n",
    "body = layers.Input(shape=(vocabulary_size,), name='body')\n",
    "tags = layers.Input(shape=(num_tags,), name='tags')\n",
    "\n",
    "features = layers.Concatenate(name='concatenation')([title, body, tags])\n",
    "features = layers.Dense(64, activation=activations.relu, name='my_dense')(features)\n",
    "\n",
    "priority = layers.Dense(1, activation=activations.sigmoid, name='priority')(features)\n",
    "department = layers.Dense(num_departments, activation=activations.softmax, name='department')(features)\n",
    "\n",
    "model = keras.Model(inputs=[title, body, tags], outputs=[priority, department])\n",
    "model.summary()"
   ]
  },
  {
   "cell_type": "code",
   "execution_count": null,
   "metadata": {},
   "outputs": [
    {
     "name": "stdout",
     "output_type": "stream",
     "text": [
      "40/40 [==============================] - 0s 5ms/step - loss: 79.6756 - priority_loss: 0.3327 - department_loss: 79.3429 - priority_mean_absolute_error: 0.4991 - department_categorical_accuracy: 0.2531\n",
      "40/40 [==============================] - 0s 1ms/step - loss: 44.9555 - priority_loss: 0.3327 - department_loss: 44.6228 - priority_mean_absolute_error: 0.4991 - department_categorical_accuracy: 0.0867\n",
      "40/40 [==============================] - 0s 1ms/step\n"
     ]
    }
   ],
   "source": [
    "import numpy as np\n",
    "from keras import losses, optimizers, metrics\n",
    "\n",
    "num_samples = 1280\n",
    "\n",
    "title_data = np.random.randint(0, 2, size=(num_samples, vocabulary_size))\n",
    "body_data = np.random.randint(0, 2, size=(num_samples, vocabulary_size))\n",
    "tags_data = np.random.randint(0, 2, size=(num_samples, num_tags))\n",
    "\n",
    "priority_data = np.random.uniform(0, 1, size=(num_samples, 1))\n",
    "department_data = np.random.randint(0, 2, size=(num_samples, num_departments))\n",
    "\n",
    "model.compile(optimizer=optimizers.RMSprop(),\n",
    "              loss=[losses.mean_squared_error, losses.categorical_crossentropy],\n",
    "              metrics=[[metrics.mean_absolute_error], [metrics.categorical_accuracy]])\n",
    "\n",
    "model.fit([title_data, body_data, tags_data], [priority_data, department_data], epochs=1)\n",
    "model.evaluate([title_data, body_data, tags_data], [priority_data, department_data])\n",
    "priority_predicts, department_predicts = model.predict([title_data, body_data, tags_data])"
   ]
  },
  {
   "cell_type": "code",
   "execution_count": null,
   "metadata": {},
   "outputs": [
    {
     "name": "stdout",
     "output_type": "stream",
     "text": [
      "40/40 [==============================] - 0s 5ms/step - loss: 111.8139 - priority_loss: 0.3327 - department_loss: 111.4812 - priority_mean_absolute_error: 0.4991 - department_categorical_accuracy: 0.2617\n",
      "40/40 [==============================] - 0s 1ms/step - loss: 56.6530 - priority_loss: 0.3327 - department_loss: 56.3203 - priority_mean_absolute_error: 0.4991 - department_categorical_accuracy: 0.0867\n",
      "40/40 [==============================] - 0s 1ms/step\n"
     ]
    }
   ],
   "source": [
    "model.compile(optimizer=optimizers.RMSprop(),\n",
    "              loss={'priority': losses.mean_squared_error, 'department': losses.categorical_crossentropy},\n",
    "              metrics={'priority': metrics.mean_absolute_error, 'department': metrics.categorical_accuracy})\n",
    "\n",
    "model.fit({'title': title_data, 'body': body_data, 'tags': tags_data},\n",
    "          {'priority': priority_data, 'department': department_data},\n",
    "          epochs=1)\n",
    "\n",
    "model.evaluate({'title': title_data, 'body': body_data, 'tags': tags_data},\n",
    "               {'priority': priority_data, 'department': department_data})\n",
    "\n",
    "priority_predicts, department_predicts = model.predict({'title': title_data, 'body': body_data, 'tags': tags_data})"
   ]
  },
  {
   "cell_type": "code",
   "execution_count": null,
   "metadata": {},
   "outputs": [
    {
     "name": "stdout",
     "output_type": "stream",
     "text": [
      "You must install pydot (`pip install pydot`) and install graphviz (see instructions at https://graphviz.gitlab.io/download/) for plot_model to work.\n"
     ]
    }
   ],
   "source": [
    "from keras import utils\n",
    "\n",
    "utils.plot_model(model, 'ticket_classifier.png')"
   ]
  },
  {
   "cell_type": "code",
   "execution_count": null,
   "metadata": {},
   "outputs": [],
   "source": []
  }
 ],
 "metadata": {
  "kernelspec": {
   "display_name": ".venv",
   "language": "python",
   "name": "python3"
  },
  "language_info": {
   "codemirror_mode": {
    "name": "ipython",
    "version": 3
   },
   "file_extension": ".py",
   "mimetype": "text/x-python",
   "name": "python",
   "nbconvert_exporter": "python",
   "pygments_lexer": "ipython3",
   "version": "3.11.5"
  },
  "orig_nbformat": 4
 },
 "nbformat": 4,
 "nbformat_minor": 2
}
