{
 "cells": [
  {
   "cell_type": "code",
   "execution_count": 86,
   "metadata": {},
   "outputs": [],
   "source": [
    "import keras\n",
    "import numpy as np\n",
    "import tensorflow as tf\n",
    "from keras import models, layers, activations, losses, optimizers, metrics, utils\n"
   ]
  },
  {
   "cell_type": "code",
   "execution_count": null,
   "metadata": {},
   "outputs": [],
   "source": [
    "model = models.Sequential([\n",
    "    layers.Dense(64, activation=activations.relu),\n",
    "    layers.Dense(10, activation=activations.softmax)\n",
    "])\n",
    "\n",
    "model = models.Sequential()\n",
    "model.add(layers.Dense(64, activation=activations.relu))\n",
    "model.add(layers.Dense(10, activation=activations.softmax))\n",
    "\n",
    "#model.weights"
   ]
  },
  {
   "cell_type": "code",
   "execution_count": null,
   "metadata": {},
   "outputs": [],
   "source": [
    "model.build(input_shape=(None, 3))\n",
    "model.weights"
   ]
  },
  {
   "cell_type": "code",
   "execution_count": null,
   "metadata": {},
   "outputs": [],
   "source": [
    "model.summary()"
   ]
  },
  {
   "cell_type": "code",
   "execution_count": null,
   "metadata": {},
   "outputs": [],
   "source": [
    "model = keras.Sequential(name='model1')\n",
    "model.add(layers.Dense(64, activation=activations.relu, name='layer1'))\n",
    "model.add(layers.Dense(10, activation=activations.softmax, name='layer2'))\n",
    "model.build((None, 3))\n",
    "model.summary()"
   ]
  },
  {
   "cell_type": "code",
   "execution_count": null,
   "metadata": {},
   "outputs": [],
   "source": [
    "model = models.Sequential()\n",
    "model.add(layers.Input(shape=(3,)))\n",
    "model.add(layers.Dense(64, activation=activations.relu))\n",
    "model.add(layers.Dense(10, activation=activations.softmax))\n",
    "model.summary()"
   ]
  },
  {
   "cell_type": "code",
   "execution_count": null,
   "metadata": {},
   "outputs": [],
   "source": [
    "inputs = layers.Input(shape=(3,), name='my_inputs')\n",
    "features = layers.Dense(64, activation=activations.relu, name='my_features')(inputs)\n",
    "outputs = layers.Dense(10, activation=activations.softmax, name='my_outputs')(features)\n",
    "model = keras.Model(inputs=inputs, outputs=outputs)\n",
    "model.summary()"
   ]
  },
  {
   "cell_type": "code",
   "execution_count": null,
   "metadata": {},
   "outputs": [],
   "source": [
    "vocabulary_size = 10000\n",
    "num_tags = 100\n",
    "num_departments = 4\n",
    "\n",
    "title = layers.Input(shape=(vocabulary_size,), name='title')\n",
    "body = layers.Input(shape=(vocabulary_size,), name='body')\n",
    "tags = layers.Input(shape=(num_tags,), name='tags')\n",
    "\n",
    "features = layers.Concatenate(name='concatenation')([title, body, tags])\n",
    "features = layers.Dense(64, activation=activations.relu, name='my_dense')(features)\n",
    "\n",
    "priority = layers.Dense(1, activation=activations.sigmoid, name='priority')(features)\n",
    "department = layers.Dense(num_departments, activation=activations.softmax, name='department')(features)\n",
    "\n",
    "model = keras.Model(inputs=[title, body, tags], outputs=[priority, department])\n",
    "model.summary()"
   ]
  },
  {
   "cell_type": "code",
   "execution_count": null,
   "metadata": {},
   "outputs": [],
   "source": [
    "num_samples = 1280\n",
    "\n",
    "title_data = np.random.randint(0, 2, size=(num_samples, vocabulary_size))\n",
    "body_data = np.random.randint(0, 2, size=(num_samples, vocabulary_size))\n",
    "tags_data = np.random.randint(0, 2, size=(num_samples, num_tags))\n",
    "\n",
    "priority_data = np.random.uniform(0, 1, size=(num_samples, 1))\n",
    "department_data = np.random.randint(0, 2, size=(num_samples, num_departments))\n",
    "\n",
    "model.compile(optimizer=optimizers.RMSprop(),\n",
    "              loss=[losses.mean_squared_error, losses.categorical_crossentropy],\n",
    "              metrics=[[metrics.mean_absolute_error], [metrics.categorical_accuracy]])\n",
    "\n",
    "model.fit([title_data, body_data, tags_data], [priority_data, department_data], epochs=1)\n",
    "model.evaluate([title_data, body_data, tags_data], [priority_data, department_data])\n",
    "priority_predicts, department_predicts = model.predict([title_data, body_data, tags_data])"
   ]
  },
  {
   "cell_type": "code",
   "execution_count": null,
   "metadata": {},
   "outputs": [],
   "source": [
    "model.compile(optimizer=optimizers.RMSprop(),\n",
    "              loss={'priority': losses.mean_squared_error, 'department': losses.categorical_crossentropy},\n",
    "              metrics={'priority': metrics.mean_absolute_error, 'department': metrics.categorical_accuracy})\n",
    "\n",
    "model.fit({'title': title_data, 'body': body_data, 'tags': tags_data},\n",
    "          {'priority': priority_data, 'department': department_data},\n",
    "          epochs=1)\n",
    "\n",
    "model.evaluate({'title': title_data, 'body': body_data, 'tags': tags_data},\n",
    "               {'priority': priority_data, 'department': department_data})\n",
    "\n",
    "priority_predicts, department_predicts = model.predict({'title': title_data, 'body': body_data, 'tags': tags_data})"
   ]
  },
  {
   "cell_type": "code",
   "execution_count": null,
   "metadata": {},
   "outputs": [],
   "source": [
    "utils.plot_model(model, 'ticket_classifier.png')"
   ]
  },
  {
   "cell_type": "code",
   "execution_count": null,
   "metadata": {},
   "outputs": [],
   "source": [
    "utils.plot_model(model, 'ticket_classifier.png', show_shapes=True)"
   ]
  },
  {
   "cell_type": "code",
   "execution_count": null,
   "metadata": {},
   "outputs": [],
   "source": [
    "[layer.name for layer in model.layers]"
   ]
  },
  {
   "cell_type": "code",
   "execution_count": null,
   "metadata": {},
   "outputs": [],
   "source": [
    "model.layers[3].input"
   ]
  },
  {
   "cell_type": "code",
   "execution_count": null,
   "metadata": {},
   "outputs": [],
   "source": [
    "model.layers[3].output"
   ]
  },
  {
   "cell_type": "code",
   "execution_count": null,
   "metadata": {},
   "outputs": [],
   "source": [
    "features = model.layers[4].output\n",
    "\n",
    "difficulty = layers.Dense(3, activation=activations.softmax, name='difficulty')(features)\n",
    "\n",
    "new_model = keras.Model(inputs=[title, body, tags], outputs=[priority, department, difficulty])\n",
    "\n",
    "keras.utils.plot_model(new_model, show_shapes=True)"
   ]
  },
  {
   "cell_type": "code",
   "execution_count": null,
   "metadata": {},
   "outputs": [],
   "source": [
    "class TicketModel(keras.Model):\n",
    "    def __init__(self, num_departments):\n",
    "        super().__init__()\n",
    "        self.concat_layer = layers.Concatenate()\n",
    "        self.mixing_layer = layers.Dense(64, activation=activations.relu)\n",
    "        self.priority_scorer = layers.Dense(1, activation=activations.sigmoid)\n",
    "        self.department_classifier = layers.Dense(num_departments, activation=activations.softmax)\n",
    "    \n",
    "    def call(self, inputs):\n",
    "        title = inputs['title']\n",
    "        body = inputs['body']\n",
    "        tags = inputs['tags']\n",
    "\n",
    "        features = self.concat_layer([title, body, tags])\n",
    "        features = self.mixing_layer(features)\n",
    "        priority = self.priority_scorer(features)\n",
    "        department = self.department_classifier(features)\n",
    "        return {'priority': priority, 'department': department}\n"
   ]
  },
  {
   "cell_type": "code",
   "execution_count": null,
   "metadata": {},
   "outputs": [],
   "source": [
    "model = TicketModel(num_departments=4)\n",
    "\n",
    "model({'title': title_data, 'body': body_data, 'tags': tags_data})"
   ]
  },
  {
   "cell_type": "code",
   "execution_count": null,
   "metadata": {},
   "outputs": [],
   "source": [
    "model.compile(optimizer=optimizers.RMSprop(),\n",
    "              loss={'priority': losses.mean_squared_error, 'department': losses.categorical_crossentropy},\n",
    "              metrics={'priority': metrics.mean_absolute_error, 'department': metrics.categorical_accuracy})\n",
    "\n",
    "model.fit({'title': title_data, 'body': body_data, 'tags': tags_data},\n",
    "          {'priority': priority_data, 'department': department_data},\n",
    "          epochs=1)\n",
    "\n",
    "model.evaluate({'title': title_data, 'body': body_data, 'tags': tags_data},\n",
    "               {'priority': priority_data, 'department': department_data})\n",
    "\n",
    "model.predict({'title': title_data, 'body': body_data, 'tags': tags_data})"
   ]
  },
  {
   "cell_type": "code",
   "execution_count": null,
   "metadata": {},
   "outputs": [],
   "source": [
    "model.summary()"
   ]
  },
  {
   "cell_type": "code",
   "execution_count": null,
   "metadata": {},
   "outputs": [],
   "source": [
    "keras.utils.plot_model(model, show_shapes=True)"
   ]
  },
  {
   "cell_type": "code",
   "execution_count": null,
   "metadata": {},
   "outputs": [],
   "source": [
    "class Classifier(keras.Model):\n",
    "    def __init__(self, num_classes=2):\n",
    "        super().__init__()\n",
    "        if num_classes == 2:\n",
    "            num_units = 1\n",
    "            activation = activations.sigmoid\n",
    "        else:\n",
    "            num_units = num_classes\n",
    "            activation = activations.softmax\n",
    "        self.dense = layers.Dense(num_units, activation=activation)\n",
    "    \n",
    "    def call(self, inputs):\n",
    "        return self.dense(inputs)\n",
    "\n",
    "inputs = layers.Input(shape=(3,))\n",
    "features = layers.Dense(64, activation=activations.relu)(inputs)\n",
    "outputs = Classifier(num_classes=10)(features)\n",
    "model = keras.Model(inputs=inputs, outputs=outputs)\n",
    "\n",
    "model.summary()\n"
   ]
  },
  {
   "cell_type": "code",
   "execution_count": null,
   "metadata": {},
   "outputs": [],
   "source": [
    "utils.plot_model(model, show_shapes=True)"
   ]
  },
  {
   "cell_type": "code",
   "execution_count": null,
   "metadata": {},
   "outputs": [],
   "source": [
    "inputs = layers.Input(shape=(64,))\n",
    "outputs = layers.Dense(1, activation=activations.sigmoid)(inputs)\n",
    "binary_classifier = keras.Model(inputs=inputs, outputs=outputs)\n",
    "\n",
    "class MyModel(keras.Model):\n",
    "    def __init__(self):\n",
    "        super().__init__()\n",
    "        self.dense = layers.Dense(64, activation=activations.relu)\n",
    "        self.classifier = binary_classifier\n",
    "    \n",
    "    def call(self, inputs):\n",
    "        features = self.dense(inputs)\n",
    "        return self.classifier(features)\n",
    "    \n",
    "model = MyModel()\n",
    "\n",
    "model.build(input_shape=(0, 3))\n",
    "model.summary()"
   ]
  },
  {
   "cell_type": "code",
   "execution_count": null,
   "metadata": {},
   "outputs": [],
   "source": [
    "utils.plot_model(model)"
   ]
  },
  {
   "cell_type": "code",
   "execution_count": null,
   "metadata": {},
   "outputs": [],
   "source": [
    "import numpy as np\n",
    "import keras\n",
    "from keras.datasets import mnist\n",
    "\n",
    "def get_mnist_model():\n",
    "    inputs = layers.Input(shape=(28 * 28,))\n",
    "    features = layers.Dense(512, activation=activations.relu)(inputs)\n",
    "    features = layers.Dropout(0.5)(features)\n",
    "    outputs = layers.Dense(10, activation=activations.softmax)(features)\n",
    "    model = keras.Model(inputs=inputs, outputs=outputs)\n",
    "    return model\n",
    "\n",
    "(images, labels), (test_images, test_labels) = mnist.load_data()\n",
    "images = images.reshape((60000, 28 * 28)).astype(np.float32) / 255\n",
    "test_images = test_images.reshape((10000, 28 * 28)).astype(np.float32) / 255\n",
    "train_images, val_images = images[10000:], images[:10000]\n",
    "train_labels, val_labels = labels[10000:], labels[:10000]\n",
    "\n",
    "model = get_mnist_model()\n",
    "model.compile(optimizer=optimizers.RMSprop(),\n",
    "              loss=losses.sparse_categorical_crossentropy,\n",
    "              metrics=[metrics.sparse_categorical_accuracy])\n",
    "model.fit(train_images, train_labels, epochs=3, validation_data=[val_images, val_labels])\n",
    "test_metrics = model.evaluate(test_images, test_labels)\n",
    "predictions = model.predict(test_images)"
   ]
  },
  {
   "cell_type": "code",
   "execution_count": null,
   "metadata": {},
   "outputs": [],
   "source": [
    "class RMSE(metrics.Metric):\n",
    "    def __init__(self, name='rmse', **kwargs):\n",
    "        super().__init__(name, **kwargs)\n",
    "        self.mse_sum = self.add_weight(name='mse_sum', initializer='zeros')\n",
    "        self.total_samples = self.add_weight(name='total_samples', initializer='zeros', dtype=tf.int32)\n",
    "    \n",
    "    def update_state(self, y_true, y_pred, sample_weight=None):\n",
    "        #print('y_pred', y_pred)\n",
    "        #rint('y_pred.shape', y_pred.shape)\n",
    "        #print('tf.shape(y_pred)[0]', tf.shape(y_pred)[0])\n",
    "        y_true = tf.one_hot(y_true, depth=tf.shape(y_pred)[1])\n",
    "        mse = tf.reduce_sum(tf.square(y_true - y_pred))\n",
    "        self.mse_sum.assign_add(mse)\n",
    "        self.total_samples.assign_add(tf.shape(y_pred)[0])\n",
    "\n",
    "    def result(self):\n",
    "        return tf.sqrt(self.mse_sum / tf.cast(self.total_samples, tf.float32))\n",
    "    \n",
    "    def reset_state(self):\n",
    "        self.mse_sum.assign(0)\n",
    "        self.total_samples.assign(0)\n",
    "    \n",
    "model = get_mnist_model()\n",
    "model.compile(optimizer=optimizers.RMSprop(),\n",
    "              loss=losses.sparse_categorical_crossentropy,\n",
    "              metrics=[metrics.sparse_categorical_accuracy, RMSE()])\n",
    "\n",
    "model.fit(train_images, train_labels, epochs=3, validation_data=(val_images, val_labels))\n",
    "test_metrics = model.evaluate(test_images, test_labels)"
   ]
  },
  {
   "cell_type": "code",
   "execution_count": null,
   "metadata": {},
   "outputs": [],
   "source": [
    "from keras import callbacks\n",
    "\n",
    "callbacks_list = [\n",
    "    callbacks.EarlyStopping(\n",
    "        monitor='val_sparse_categorical_accuracy',\n",
    "        patience=2\n",
    "    ),\n",
    "    callbacks.ModelCheckpoint(\n",
    "        filepath='tmp/',\n",
    "        monitor='val_loss',\n",
    "        save_best_only=True\n",
    "    )\n",
    "]\n",
    "\n",
    "model = get_mnist_model()\n",
    "model.compile(optimizer=optimizers.RMSprop(),\n",
    "              loss=losses.sparse_categorical_crossentropy,\n",
    "              metrics=[metrics.sparse_categorical_accuracy])\n",
    "model.fit(train_images, train_labels, epochs=3, validation_data=(val_images, val_labels), callbacks=callbacks_list)"
   ]
  },
  {
   "cell_type": "code",
   "execution_count": null,
   "metadata": {},
   "outputs": [],
   "source": [
    "model = keras.models.load_model('tmp/')"
   ]
  },
  {
   "cell_type": "code",
   "execution_count": 77,
   "metadata": {},
   "outputs": [
    {
     "name": "stdout",
     "output_type": "stream",
     "text": [
      "Epoch 1/10\n",
      "1563/1563 [==============================] - 3s 2ms/step - loss: 0.2969 - sparse_categorical_accuracy: 0.9118 - val_loss: 0.1452 - val_sparse_categorical_accuracy: 0.9580\n",
      "Epoch 2/10\n",
      "1563/1563 [==============================] - 2s 2ms/step - loss: 0.1613 - sparse_categorical_accuracy: 0.9531 - val_loss: 0.1188 - val_sparse_categorical_accuracy: 0.9675\n",
      "Epoch 3/10\n",
      "1563/1563 [==============================] - 2s 2ms/step - loss: 0.1291 - sparse_categorical_accuracy: 0.9634 - val_loss: 0.1079 - val_sparse_categorical_accuracy: 0.9731\n",
      "Epoch 4/10\n",
      "1563/1563 [==============================] - 2s 2ms/step - loss: 0.1139 - sparse_categorical_accuracy: 0.9679 - val_loss: 0.0969 - val_sparse_categorical_accuracy: 0.9744\n",
      "Epoch 5/10\n",
      "1563/1563 [==============================] - 2s 2ms/step - loss: 0.1049 - sparse_categorical_accuracy: 0.9711 - val_loss: 0.0987 - val_sparse_categorical_accuracy: 0.9746\n",
      "Epoch 6/10\n",
      "1563/1563 [==============================] - 2s 2ms/step - loss: 0.0947 - sparse_categorical_accuracy: 0.9744 - val_loss: 0.0976 - val_sparse_categorical_accuracy: 0.9774\n",
      "Epoch 7/10\n",
      "1563/1563 [==============================] - 2s 2ms/step - loss: 0.0899 - sparse_categorical_accuracy: 0.9759 - val_loss: 0.0991 - val_sparse_categorical_accuracy: 0.9775\n",
      "Epoch 8/10\n",
      "1563/1563 [==============================] - 2s 2ms/step - loss: 0.0792 - sparse_categorical_accuracy: 0.9780 - val_loss: 0.0939 - val_sparse_categorical_accuracy: 0.9784\n",
      "Epoch 9/10\n",
      "1563/1563 [==============================] - 2s 2ms/step - loss: 0.0753 - sparse_categorical_accuracy: 0.9798 - val_loss: 0.0925 - val_sparse_categorical_accuracy: 0.9793\n",
      "Epoch 10/10\n",
      "1563/1563 [==============================] - 2s 2ms/step - loss: 0.0745 - sparse_categorical_accuracy: 0.9797 - val_loss: 0.0943 - val_sparse_categorical_accuracy: 0.9795\n"
     ]
    },
    {
     "data": {
      "text/plain": [
       "<keras.src.callbacks.History at 0x7fa775ccaa90>"
      ]
     },
     "execution_count": 77,
     "metadata": {},
     "output_type": "execute_result"
    },
    {
     "data": {
      "image/png": "[encoded data removed]",
      "text/plain": [
       "<Figure size 640x480 with 1 Axes>"
      ]
     },
     "metadata": {},
     "output_type": "display_data"
    }
   ],
   "source": [
    "from matplotlib import pyplot as plt\n",
    "\n",
    "class LossHistory(callbacks.Callback):\n",
    "    def on_batch_end(self, batch, logs):\n",
    "        self.per_batch_losses.append(logs.get('loss'))\n",
    "    \n",
    "    def on_epoch_begin(self, epoch, logs):\n",
    "        self.per_batch_losses = []\n",
    "\n",
    "\n",
    "    def on_epoch_end(self, epoch, logs):\n",
    "        plt.clf()\n",
    "        plt.plot(range(len(self.per_batch_losses)), self.per_batch_losses, label='Training loss for each batch')\n",
    "        plt.xlabel(f'Batch (epoch {epoch})')\n",
    "        plt.ylabel('Loss')\n",
    "        plt.legend()\n",
    "        plt.savefig(f'plot_at_epoch_{epoch}')\n",
    "\n",
    "model = get_mnist_model()\n",
    "model.compile(optimizer=optimizers.RMSprop(),\n",
    "              loss=losses.sparse_categorical_crossentropy,\n",
    "              metrics=[metrics.sparse_categorical_accuracy])\n",
    "model.fit(train_images, train_labels, epochs=10, callbacks=[LossHistory()], validation_data=(val_images, val_labels))"
   ]
  },
  {
   "cell_type": "code",
   "execution_count": 78,
   "metadata": {},
   "outputs": [
    {
     "name": "stdout",
     "output_type": "stream",
     "text": [
      "Epoch 1/10\n",
      "1563/1563 [==============================] - 3s 2ms/step - loss: 0.2946 - sparse_categorical_accuracy: 0.9119 - val_loss: 0.1477 - val_sparse_categorical_accuracy: 0.9584\n",
      "Epoch 2/10\n",
      "1563/1563 [==============================] - 2s 2ms/step - loss: 0.1577 - sparse_categorical_accuracy: 0.9552 - val_loss: 0.1105 - val_sparse_categorical_accuracy: 0.9696\n",
      "Epoch 3/10\n",
      "1563/1563 [==============================] - 2s 2ms/step - loss: 0.1282 - sparse_categorical_accuracy: 0.9637 - val_loss: 0.1083 - val_sparse_categorical_accuracy: 0.9729\n",
      "Epoch 4/10\n",
      "1563/1563 [==============================] - 2s 2ms/step - loss: 0.1129 - sparse_categorical_accuracy: 0.9686 - val_loss: 0.1008 - val_sparse_categorical_accuracy: 0.9743\n",
      "Epoch 5/10\n",
      "1563/1563 [==============================] - 2s 2ms/step - loss: 0.1012 - sparse_categorical_accuracy: 0.9719 - val_loss: 0.0918 - val_sparse_categorical_accuracy: 0.9766\n",
      "Epoch 6/10\n",
      "1563/1563 [==============================] - 2s 2ms/step - loss: 0.0941 - sparse_categorical_accuracy: 0.9741 - val_loss: 0.0911 - val_sparse_categorical_accuracy: 0.9785\n",
      "Epoch 7/10\n",
      "1563/1563 [==============================] - 2s 2ms/step - loss: 0.0880 - sparse_categorical_accuracy: 0.9760 - val_loss: 0.0898 - val_sparse_categorical_accuracy: 0.9778\n",
      "Epoch 8/10\n",
      "1563/1563 [==============================] - 3s 2ms/step - loss: 0.0824 - sparse_categorical_accuracy: 0.9776 - val_loss: 0.0902 - val_sparse_categorical_accuracy: 0.9784\n",
      "Epoch 9/10\n",
      "1563/1563 [==============================] - 2s 2ms/step - loss: 0.0769 - sparse_categorical_accuracy: 0.9799 - val_loss: 0.0929 - val_sparse_categorical_accuracy: 0.9786\n",
      "Epoch 10/10\n",
      "1563/1563 [==============================] - 2s 2ms/step - loss: 0.0747 - sparse_categorical_accuracy: 0.9796 - val_loss: 0.0921 - val_sparse_categorical_accuracy: 0.9796\n"
     ]
    },
    {
     "data": {
      "text/plain": [
       "<keras.src.callbacks.History at 0x7fa774671f50>"
      ]
     },
     "execution_count": 78,
     "metadata": {},
     "output_type": "execute_result"
    }
   ],
   "source": [
    "model = get_mnist_model()\n",
    "model.compile(optimizer=optimizers.RMSprop(),\n",
    "              loss=losses.sparse_categorical_crossentropy,\n",
    "              metrics=[metrics.sparse_categorical_accuracy])\n",
    "\n",
    "tensorboard = callbacks.TensorBoard(log_dir='tmp_log_dir')\n",
    "model.fit(train_images, train_labels, epochs=10, validation_data=(val_images, val_labels), callbacks=[tensorboard])"
   ]
  },
  {
   "cell_type": "code",
   "execution_count": 79,
   "metadata": {},
   "outputs": [],
   "source": [
    "%load_ext tensorboard"
   ]
  },
  {
   "cell_type": "code",
   "execution_count": 80,
   "metadata": {},
   "outputs": [
    {
     "data": {
      "text/plain": [
       "Reusing TensorBoard on port 6006 (pid 31087), started 0:05:01 ago. (Use '!kill 31087' to kill it.)"
      ]
     },
     "metadata": {},
     "output_type": "display_data"
    },
    {
     "data": {
      "text/html": [
       "\n",
       "      <iframe id=\"tensorboard-frame-46b0d2a87cac82d2\" width=\"100%\" height=\"800\" frameborder=\"0\">\n",
       "      </iframe>\n",
       "      <script>\n",
       "        (function() {\n",
       "          const frame = document.getElementById(\"tensorboard-frame-46b0d2a87cac82d2\");\n",
       "          const url = new URL(\"http://localhost\");\n",
       "          const port = 6006;\n",
       "          if (port) {\n",
       "            url.port = port;\n",
       "          }\n",
       "          frame.src = url;\n",
       "        })();\n",
       "      </script>\n",
       "    "
      ],
      "text/plain": [
       "<IPython.core.display.HTML object>"
      ]
     },
     "metadata": {},
     "output_type": "display_data"
    }
   ],
   "source": [
    "%tensorboard --logdir tmp_log_dir"
   ]
  },
  {
   "cell_type": "code",
   "execution_count": 81,
   "metadata": {},
   "outputs": [
    {
     "name": "stdout",
     "output_type": "stream",
     "text": [
      "tf.Tensor(1.0, shape=(), dtype=float32)\n"
     ]
    }
   ],
   "source": [
    "metric = metrics.SparseCategoricalAccuracy()\n",
    "targets = [0, 1, 2]\n",
    "predicts = [[1, 0, 0],\n",
    "           [0, 1, 0],\n",
    "           [0, 0, 1]]\n",
    "metric.update_state(targets, predicts)\n",
    "current_result = metric.result()\n",
    "print(current_result)"
   ]
  },
  {
   "cell_type": "code",
   "execution_count": 83,
   "metadata": {},
   "outputs": [
    {
     "name": "stdout",
     "output_type": "stream",
     "text": [
      "tf.Tensor(2.0, shape=(), dtype=float32)\n"
     ]
    }
   ],
   "source": [
    "values = [0, 1, 2, 3, 4]\n",
    "mean_tracker = metrics.Mean()\n",
    "for value in values:\n",
    "    mean_tracker.update_state(value)\n",
    "print(mean_tracker.result())"
   ]
  },
  {
   "cell_type": "code",
   "execution_count": 93,
   "metadata": {},
   "outputs": [],
   "source": [
    "model = get_mnist_model()\n",
    "\n",
    "loss_fn = losses.SparseCategoricalCrossentropy()\n",
    "optimizer = optimizers.RMSprop()\n",
    "my_metrics = [metrics.SparseCategoricalAccuracy()]\n",
    "loss_tracking_metric = keras.metrics.Mean()\n",
    "\n",
    "def train_step(inputs, targets):\n",
    "    with tf.GradientTape() as tape:\n",
    "        predictions = model(inputs, training=True)\n",
    "        loss = loss_fn(targets, predictions)\n",
    "    gradients = tape.gradient(loss, model.trainable_weights)\n",
    "    optimizer.apply_gradients(zip(gradients, model.trainable_weights))\n",
    "\n",
    "    logs = {}\n",
    "    for metric in my_metrics:\n",
    "        metric.update_state(targets, predictions)\n",
    "        logs[metric.name] = metric.result()\n",
    "\n",
    "    loss_tracking_metric.update_state(loss)\n",
    "    logs['loss'] = loss_tracking_metric.result()\n",
    "    return logs\n",
    "\n",
    "def reset_metrics():\n",
    "    for metric in my_metrics:\n",
    "        metric.reset_state()\n",
    "    loss_tracking_metric.reset_state()"
   ]
  },
  {
   "cell_type": "code",
   "execution_count": 97,
   "metadata": {},
   "outputs": [
    {
     "name": "stdout",
     "output_type": "stream",
     "text": [
      "Results at the end of epoch 0\n",
      "...sparse_categorical_accuracy: 0.9759\n",
      "...loss: 0.0932\n",
      "Results at the end of epoch 1\n",
      "...sparse_categorical_accuracy: 0.9766\n",
      "...loss: 0.0888\n",
      "Results at the end of epoch 2\n",
      "...sparse_categorical_accuracy: 0.9767\n",
      "...loss: 0.0841\n"
     ]
    }
   ],
   "source": [
    "training_dataset = tf.data.Dataset.from_tensor_slices((train_images, train_labels))\n",
    "training_dataset = training_dataset.batch(32)\n",
    "epochs = 3\n",
    "for epoch in range(epochs):\n",
    "    reset_metrics()\n",
    "    for inputs_batch, targets_batch in training_dataset:\n",
    "        logs = train_step(inputs_batch, targets_batch)\n",
    "    print(f'Results at the end of epoch {epoch}')\n",
    "    for key, value in logs.items():\n",
    "        print(f'...{key}: {value:.4f}')"
   ]
  },
  {
   "cell_type": "code",
   "execution_count": 99,
   "metadata": {},
   "outputs": [
    {
     "name": "stdout",
     "output_type": "stream",
     "text": [
      "Evaluation results:\n",
      "val_sparse_categorical_accuracy: 0.9763\n",
      "val_loss: 0.1015\n"
     ]
    }
   ],
   "source": [
    "@tf.function\n",
    "def test_step(inputs, targets):\n",
    "    predictions = model(inputs, training=False)\n",
    "    loss = loss_fn(targets, predictions)\n",
    "\n",
    "    logs = {}\n",
    "    for metric in my_metrics:\n",
    "        metric.update_state(targets, predictions)\n",
    "        logs['val_' + metric.name] = metric.result()\n",
    "        loss_tracking_metric.update_state(loss)\n",
    "        logs['val_loss'] = loss_tracking_metric.result()\n",
    "        return logs\n",
    "\n",
    "val_dataset = tf.data.Dataset.from_tensor_slices((val_images, val_labels))\n",
    "val_dataset = val_dataset.batch(32)\n",
    "reset_metrics()\n",
    "for inputs_batch, targets_batch in val_dataset:\n",
    "    logs = test_step(inputs_batch, targets_batch)\n",
    "print('Evaluation results:')\n",
    "for key, value in logs.items():\n",
    "    print(f'{key}: {value:.4f}')"
   ]
  },
  {
   "cell_type": "code",
   "execution_count": 102,
   "metadata": {},
   "outputs": [],
   "source": [
    "loss_fn = losses.SparseCategoricalCrossentropy()\n",
    "loss_tracker = metrics.Mean(name='loss')\n",
    "\n",
    "class MyModel(keras.Model):\n",
    "    def train_step(self, data):\n",
    "        inputs, targets = data\n",
    "        with tf.GradientTape() as tape:\n",
    "            predictions = self(inputs, training=True)\n",
    "            loss = loss_fn(targets, predictions)\n",
    "        gradients = tape.gradient(loss, self.trainable_weights)\n",
    "        optimizer.apply_gradients(zip(gradients, self.trainable_weights))\n",
    "\n",
    "        loss_tracker.update_state(loss)\n",
    "        return {'loss': loss_tracker.result()}\n",
    "    \n",
    "    @property\n",
    "    def metrics(self):\n",
    "        return [loss_tracker]"
   ]
  },
  {
   "cell_type": "code",
   "execution_count": 103,
   "metadata": {},
   "outputs": [
    {
     "name": "stdout",
     "output_type": "stream",
     "text": [
      "Epoch 1/3\n"
     ]
    },
    {
     "ename": "KeyError",
     "evalue": "in user code:\n\n    File \"/home/rli/src/dl_python_chollet/.venv/lib/python3.11/site-packages/keras/src/engine/training.py\", line 1338, in train_function  *\n        return step_function(self, iterator)\n    File \"/home/rli/src/dl_python_chollet/.venv/lib/python3.11/site-packages/keras/src/engine/training.py\", line 1322, in step_function  **\n        outputs = model.distribute_strategy.run(run_step, args=(data,))\n    File \"/home/rli/src/dl_python_chollet/.venv/lib/python3.11/site-packages/keras/src/engine/training.py\", line 1303, in run_step  **\n        outputs = model.train_step(data)\n    File \"/tmp/ipykernel_4400/3108172899.py\", line 11, in train_step\n        optimizer.apply_gradients(zip(gradients, model.trainable_weights))\n    File \"/home/rli/src/dl_python_chollet/.venv/lib/python3.11/site-packages/keras/src/optimizers/optimizer.py\", line 1230, in apply_gradients\n        return super().apply_gradients(grads_and_vars, name=name)\n    File \"/home/rli/src/dl_python_chollet/.venv/lib/python3.11/site-packages/keras/src/optimizers/optimizer.py\", line 652, in apply_gradients\n        iteration = self._internal_apply_gradients(grads_and_vars)\n    File \"/home/rli/src/dl_python_chollet/.venv/lib/python3.11/site-packages/keras/src/optimizers/optimizer.py\", line 1260, in _internal_apply_gradients\n        return tf.__internal__.distribute.interim.maybe_merge_call(\n    File \"/home/rli/src/dl_python_chollet/.venv/lib/python3.11/site-packages/keras/src/optimizers/optimizer.py\", line 1352, in _distributed_apply_gradients_fn\n        distribution.extended.update(\n    File \"/home/rli/src/dl_python_chollet/.venv/lib/python3.11/site-packages/keras/src/optimizers/optimizer.py\", line 1349, in apply_grad_to_update_var  **\n        return self._update_step(grad, var)\n    File \"/home/rli/src/dl_python_chollet/.venv/lib/python3.11/site-packages/keras/src/optimizers/optimizer.py\", line 233, in _update_step\n        raise KeyError(\n\n    KeyError: 'The optimizer cannot recognize variable dense_90/kernel:0. This usually means you are trying to call the optimizer to update different parts of the model separately. Please call `optimizer.build(variables)` with the full list of trainable variables before the training loop or use legacy optimizer `tf.keras.optimizers.legacy.RMSprop.'\n",
     "output_type": "error",
     "traceback": [
      "\u001b[0;31m---------------------------------------------------------------------------\u001b[0m",
      "\u001b[0;31mKeyError\u001b[0m                                  Traceback (most recent call last)",
      "Cell \u001b[0;32mIn[103], line 8\u001b[0m\n\u001b[1;32m      5\u001b[0m model \u001b[39m=\u001b[39m MyModel(inputs\u001b[39m=\u001b[39minputs, outputs\u001b[39m=\u001b[39moutputs)\n\u001b[1;32m      7\u001b[0m model\u001b[39m.\u001b[39mcompile(optimizer\u001b[39m=\u001b[39moptimizers\u001b[39m.\u001b[39mRMSprop())\n\u001b[0;32m----> 8\u001b[0m model\u001b[39m.\u001b[39;49mfit(train_images, train_labels, epochs\u001b[39m=\u001b[39;49m\u001b[39m3\u001b[39;49m)\n",
      "File \u001b[0;32m~/src/dl_python_chollet/.venv/lib/python3.11/site-packages/keras/src/utils/traceback_utils.py:70\u001b[0m, in \u001b[0;36mfilter_traceback.<locals>.error_handler\u001b[0;34m(*args, **kwargs)\u001b[0m\n\u001b[1;32m     67\u001b[0m     filtered_tb \u001b[39m=\u001b[39m _process_traceback_frames(e\u001b[39m.\u001b[39m__traceback__)\n\u001b[1;32m     68\u001b[0m     \u001b[39m# To get the full stack trace, call:\u001b[39;00m\n\u001b[1;32m     69\u001b[0m     \u001b[39m# `tf.debugging.disable_traceback_filtering()`\u001b[39;00m\n\u001b[0;32m---> 70\u001b[0m     \u001b[39mraise\u001b[39;00m e\u001b[39m.\u001b[39mwith_traceback(filtered_tb) \u001b[39mfrom\u001b[39;00m \u001b[39mNone\u001b[39;00m\n\u001b[1;32m     71\u001b[0m \u001b[39mfinally\u001b[39;00m:\n\u001b[1;32m     72\u001b[0m     \u001b[39mdel\u001b[39;00m filtered_tb\n",
      "File \u001b[0;32m/tmp/__autograph_generated_file35_fqlqf.py:15\u001b[0m, in \u001b[0;36mouter_factory.<locals>.inner_factory.<locals>.tf__train_function\u001b[0;34m(iterator)\u001b[0m\n\u001b[1;32m     13\u001b[0m \u001b[39mtry\u001b[39;00m:\n\u001b[1;32m     14\u001b[0m     do_return \u001b[39m=\u001b[39m \u001b[39mTrue\u001b[39;00m\n\u001b[0;32m---> 15\u001b[0m     retval_ \u001b[39m=\u001b[39m ag__\u001b[39m.\u001b[39mconverted_call(ag__\u001b[39m.\u001b[39mld(step_function), (ag__\u001b[39m.\u001b[39mld(\u001b[39mself\u001b[39m), ag__\u001b[39m.\u001b[39mld(iterator)), \u001b[39mNone\u001b[39;00m, fscope)\n\u001b[1;32m     16\u001b[0m \u001b[39mexcept\u001b[39;00m:\n\u001b[1;32m     17\u001b[0m     do_return \u001b[39m=\u001b[39m \u001b[39mFalse\u001b[39;00m\n",
      "Cell \u001b[0;32mIn[102], line 11\u001b[0m, in \u001b[0;36mMyModel.train_step\u001b[0;34m(self, data)\u001b[0m\n\u001b[1;32m      9\u001b[0m     loss \u001b[39m=\u001b[39m loss_fn(targets, predictions)\n\u001b[1;32m     10\u001b[0m gradients \u001b[39m=\u001b[39m tape\u001b[39m.\u001b[39mgradient(loss, model\u001b[39m.\u001b[39mtrainable_weights)\n\u001b[0;32m---> 11\u001b[0m optimizer\u001b[39m.\u001b[39;49mapply_gradients(\u001b[39mzip\u001b[39;49m(gradients, model\u001b[39m.\u001b[39;49mtrainable_weights))\n\u001b[1;32m     13\u001b[0m loss_tracker\u001b[39m.\u001b[39mupdate_state(loss)\n\u001b[1;32m     14\u001b[0m \u001b[39mreturn\u001b[39;00m {\u001b[39m'\u001b[39m\u001b[39mloss\u001b[39m\u001b[39m'\u001b[39m: loss_tracker\u001b[39m.\u001b[39mresult()}\n",
      "\u001b[0;31mKeyError\u001b[0m: in user code:\n\n    File \"/home/rli/src/dl_python_chollet/.venv/lib/python3.11/site-packages/keras/src/engine/training.py\", line 1338, in train_function  *\n        return step_function(self, iterator)\n    File \"/home/rli/src/dl_python_chollet/.venv/lib/python3.11/site-packages/keras/src/engine/training.py\", line 1322, in step_function  **\n        outputs = model.distribute_strategy.run(run_step, args=(data,))\n    File \"/home/rli/src/dl_python_chollet/.venv/lib/python3.11/site-packages/keras/src/engine/training.py\", line 1303, in run_step  **\n        outputs = model.train_step(data)\n    File \"/tmp/ipykernel_4400/3108172899.py\", line 11, in train_step\n        optimizer.apply_gradients(zip(gradients, model.trainable_weights))\n    File \"/home/rli/src/dl_python_chollet/.venv/lib/python3.11/site-packages/keras/src/optimizers/optimizer.py\", line 1230, in apply_gradients\n        return super().apply_gradients(grads_and_vars, name=name)\n    File \"/home/rli/src/dl_python_chollet/.venv/lib/python3.11/site-packages/keras/src/optimizers/optimizer.py\", line 652, in apply_gradients\n        iteration = self._internal_apply_gradients(grads_and_vars)\n    File \"/home/rli/src/dl_python_chollet/.venv/lib/python3.11/site-packages/keras/src/optimizers/optimizer.py\", line 1260, in _internal_apply_gradients\n        return tf.__internal__.distribute.interim.maybe_merge_call(\n    File \"/home/rli/src/dl_python_chollet/.venv/lib/python3.11/site-packages/keras/src/optimizers/optimizer.py\", line 1352, in _distributed_apply_gradients_fn\n        distribution.extended.update(\n    File \"/home/rli/src/dl_python_chollet/.venv/lib/python3.11/site-packages/keras/src/optimizers/optimizer.py\", line 1349, in apply_grad_to_update_var  **\n        return self._update_step(grad, var)\n    File \"/home/rli/src/dl_python_chollet/.venv/lib/python3.11/site-packages/keras/src/optimizers/optimizer.py\", line 233, in _update_step\n        raise KeyError(\n\n    KeyError: 'The optimizer cannot recognize variable dense_90/kernel:0. This usually means you are trying to call the optimizer to update different parts of the model separately. Please call `optimizer.build(variables)` with the full list of trainable variables before the training loop or use legacy optimizer `tf.keras.optimizers.legacy.RMSprop.'\n"
     ]
    }
   ],
   "source": [
    "inputs = layers.Input(shape=(28 * 28,))\n",
    "features = layers.Dense(512, activation=activations.relu)(inputs)\n",
    "features = layers.Dropout(0.5)(features)\n",
    "outputs = layers.Dense(10, activation=activations.softmax)(features)\n",
    "model = MyModel(inputs=inputs, outputs=outputs)\n",
    "\n",
    "model.compile(optimizer=optimizers.RMSprop())\n",
    "model.fit(train_images, train_labels, epochs=3)"
   ]
  },
  {
   "cell_type": "code",
   "execution_count": null,
   "metadata": {},
   "outputs": [],
   "source": []
  }
 ],
 "metadata": {
  "kernelspec": {
   "display_name": ".venv",
   "language": "python",
   "name": "python3"
  },
  "language_info": {
   "codemirror_mode": {
    "name": "ipython",
    "version": 3
   },
   "file_extension": ".py",
   "mimetype": "text/x-python",
   "name": "python",
   "nbconvert_exporter": "python",
   "pygments_lexer": "ipython3",
   "version": "3.11.5"
  },
  "orig_nbformat": 4
 },
 "nbformat": 4,
 "nbformat_minor": 2
}
