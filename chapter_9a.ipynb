{
 "cells": [
  {
   "cell_type": "code",
   "execution_count": 58,
   "metadata": {},
   "outputs": [],
   "source": [
    "import os\n",
    "import random\n",
    "import numpy as np\n",
    "import matplotlib.pyplot as plt\n",
    "from keras.utils import load_img, img_to_array\n",
    "from tensorflow import keras\n",
    "from keras import layers, activations, losses, optimizers, metrics, callbacks, utils"
   ]
  },
  {
   "cell_type": "code",
   "execution_count": 4,
   "metadata": {},
   "outputs": [],
   "source": [
    "input_dir = 'ch9/images/'\n",
    "target_dir = 'ch9/annotations/trimaps/'\n",
    "\n",
    "def get_paths(dir, ext):\n",
    "    return sorted([os.path.join(dir, filename) for filename in os.listdir(dir) if filename.endswith(ext) and not filename.startswith('.')])\n",
    "\n",
    "input_img_paths = get_paths(input_dir, '.jpg')\n",
    "target_paths = get_paths(target_dir, '.png')"
   ]
  },
  {
   "cell_type": "code",
   "execution_count": 5,
   "metadata": {},
   "outputs": [
    {
     "ename": "ImportError",
     "evalue": "Could not import PIL.Image. The use of `load_img` requires PIL.",
     "output_type": "error",
     "traceback": [
      "\u001b[0;31m---------------------------------------------------------------------------\u001b[0m",
      "\u001b[0;31mImportError\u001b[0m                               Traceback (most recent call last)",
      "\u001b[0;32m<ipython-input-5-60808f41f236>\u001b[0m in \u001b[0;36m<module>\u001b[0;34m\u001b[0m\n\u001b[1;32m      1\u001b[0m \u001b[0mplt\u001b[0m\u001b[0;34m.\u001b[0m\u001b[0maxis\u001b[0m\u001b[0;34m(\u001b[0m\u001b[0;34m'off'\u001b[0m\u001b[0;34m)\u001b[0m\u001b[0;34m\u001b[0m\u001b[0;34m\u001b[0m\u001b[0m\n\u001b[0;32m----> 2\u001b[0;31m \u001b[0mplt\u001b[0m\u001b[0;34m.\u001b[0m\u001b[0mimshow\u001b[0m\u001b[0;34m(\u001b[0m\u001b[0mload_img\u001b[0m\u001b[0;34m(\u001b[0m\u001b[0minput_img_paths\u001b[0m\u001b[0;34m[\u001b[0m\u001b[0;36m9\u001b[0m\u001b[0;34m]\u001b[0m\u001b[0;34m)\u001b[0m\u001b[0;34m)\u001b[0m\u001b[0;34m\u001b[0m\u001b[0;34m\u001b[0m\u001b[0m\n\u001b[0m\u001b[1;32m      3\u001b[0m \u001b[0;34m\u001b[0m\u001b[0m\n\u001b[1;32m      4\u001b[0m \u001b[0;32mdef\u001b[0m \u001b[0mdisplay_target\u001b[0m\u001b[0;34m(\u001b[0m\u001b[0mtarget_array\u001b[0m\u001b[0;34m)\u001b[0m\u001b[0;34m:\u001b[0m\u001b[0;34m\u001b[0m\u001b[0;34m\u001b[0m\u001b[0m\n\u001b[1;32m      5\u001b[0m     \u001b[0mnormalized_array\u001b[0m \u001b[0;34m=\u001b[0m \u001b[0mtarget_array\u001b[0m\u001b[0;34m.\u001b[0m\u001b[0mastype\u001b[0m\u001b[0;34m(\u001b[0m\u001b[0mnp\u001b[0m\u001b[0;34m.\u001b[0m\u001b[0mint8\u001b[0m\u001b[0;34m)\u001b[0m \u001b[0;34m*\u001b[0m \u001b[0;36m85\u001b[0m\u001b[0;34m\u001b[0m\u001b[0;34m\u001b[0m\u001b[0m\n",
      "\u001b[0;32m/usr/local/lib/python3.6/dist-packages/keras_preprocessing/image/utils.py\u001b[0m in \u001b[0;36mload_img\u001b[0;34m(path, grayscale, color_mode, target_size, interpolation)\u001b[0m\n\u001b[1;32m    106\u001b[0m         \u001b[0mcolor_mode\u001b[0m \u001b[0;34m=\u001b[0m \u001b[0;34m'grayscale'\u001b[0m\u001b[0;34m\u001b[0m\u001b[0;34m\u001b[0m\u001b[0m\n\u001b[1;32m    107\u001b[0m     \u001b[0;32mif\u001b[0m \u001b[0mpil_image\u001b[0m \u001b[0;32mis\u001b[0m \u001b[0;32mNone\u001b[0m\u001b[0;34m:\u001b[0m\u001b[0;34m\u001b[0m\u001b[0;34m\u001b[0m\u001b[0m\n\u001b[0;32m--> 108\u001b[0;31m         raise ImportError('Could not import PIL.Image. '\n\u001b[0m\u001b[1;32m    109\u001b[0m                           'The use of `load_img` requires PIL.')\n\u001b[1;32m    110\u001b[0m     \u001b[0mimg\u001b[0m \u001b[0;34m=\u001b[0m \u001b[0mpil_image\u001b[0m\u001b[0;34m.\u001b[0m\u001b[0mopen\u001b[0m\u001b[0;34m(\u001b[0m\u001b[0mpath\u001b[0m\u001b[0;34m)\u001b[0m\u001b[0;34m\u001b[0m\u001b[0;34m\u001b[0m\u001b[0m\n",
      "\u001b[0;31mImportError\u001b[0m: Could not import PIL.Image. The use of `load_img` requires PIL."
     ]
    },
    {
     "data": {
      "image/png": "[encoded data removed]",
      "text/plain": [
       "<Figure size 432x288 with 1 Axes>"
      ]
     },
     "metadata": {
      "needs_background": "light"
     },
     "output_type": "display_data"
    }
   ],
   "source": [
    "plt.axis('off')\n",
    "plt.imshow(load_img(input_img_paths[9]))\n",
    "\n",
    "def display_target(target_array):\n",
    "    normalized_array = target_array.astype(np.int8) * 85\n",
    "    plt.axis('off')\n",
    "    plt.imshow(normalized_array)\n",
    "\n",
    "a = load_img(target_paths[9], color_mode='grayscale')\n",
    "b = img_to_array(a)\n",
    "display_target(b)"
   ]
  },
  {
   "cell_type": "code",
   "execution_count": 6,
   "metadata": {},
   "outputs": [
    {
     "ename": "ImportError",
     "evalue": "Could not import PIL.Image. The use of `load_img` requires PIL.",
     "output_type": "error",
     "traceback": [
      "\u001b[0;31m---------------------------------------------------------------------------\u001b[0m",
      "\u001b[0;31mImportError\u001b[0m                               Traceback (most recent call last)",
      "\u001b[0;32m<ipython-input-6-d880057d632b>\u001b[0m in \u001b[0;36m<module>\u001b[0;34m\u001b[0m\n\u001b[1;32m     16\u001b[0m \u001b[0mtargets\u001b[0m \u001b[0;34m=\u001b[0m \u001b[0mnp\u001b[0m\u001b[0;34m.\u001b[0m\u001b[0mzeros\u001b[0m\u001b[0;34m(\u001b[0m\u001b[0;34m(\u001b[0m\u001b[0mnum_imgs\u001b[0m\u001b[0;34m,\u001b[0m\u001b[0;34m)\u001b[0m \u001b[0;34m+\u001b[0m \u001b[0mimg_size\u001b[0m \u001b[0;34m+\u001b[0m \u001b[0;34m(\u001b[0m\u001b[0;36m1\u001b[0m\u001b[0;34m,\u001b[0m\u001b[0;34m)\u001b[0m\u001b[0;34m,\u001b[0m \u001b[0mdtype\u001b[0m\u001b[0;34m=\u001b[0m\u001b[0mnp\u001b[0m\u001b[0;34m.\u001b[0m\u001b[0muint8\u001b[0m\u001b[0;34m)\u001b[0m\u001b[0;34m\u001b[0m\u001b[0;34m\u001b[0m\u001b[0m\n\u001b[1;32m     17\u001b[0m \u001b[0;32mfor\u001b[0m \u001b[0mi\u001b[0m \u001b[0;32min\u001b[0m \u001b[0mrange\u001b[0m\u001b[0;34m(\u001b[0m\u001b[0mnum_imgs\u001b[0m\u001b[0;34m)\u001b[0m\u001b[0;34m:\u001b[0m\u001b[0;34m\u001b[0m\u001b[0;34m\u001b[0m\u001b[0m\n\u001b[0;32m---> 18\u001b[0;31m     \u001b[0minput_imgs\u001b[0m\u001b[0;34m[\u001b[0m\u001b[0mi\u001b[0m\u001b[0;34m]\u001b[0m \u001b[0;34m=\u001b[0m \u001b[0mpath_to_input_img\u001b[0m\u001b[0;34m(\u001b[0m\u001b[0minput_img_paths\u001b[0m\u001b[0;34m[\u001b[0m\u001b[0mi\u001b[0m\u001b[0;34m]\u001b[0m\u001b[0;34m)\u001b[0m\u001b[0;34m\u001b[0m\u001b[0;34m\u001b[0m\u001b[0m\n\u001b[0m\u001b[1;32m     19\u001b[0m     \u001b[0mtargets\u001b[0m\u001b[0;34m[\u001b[0m\u001b[0mi\u001b[0m\u001b[0;34m]\u001b[0m \u001b[0;34m=\u001b[0m \u001b[0mpath_to_target\u001b[0m\u001b[0;34m(\u001b[0m\u001b[0mtarget_paths\u001b[0m\u001b[0;34m[\u001b[0m\u001b[0mi\u001b[0m\u001b[0;34m]\u001b[0m\u001b[0;34m)\u001b[0m\u001b[0;34m\u001b[0m\u001b[0;34m\u001b[0m\u001b[0m\n",
      "\u001b[0;32m<ipython-input-6-d880057d632b>\u001b[0m in \u001b[0;36mpath_to_input_img\u001b[0;34m(path)\u001b[0m\n\u001b[1;32m      6\u001b[0m \u001b[0;34m\u001b[0m\u001b[0m\n\u001b[1;32m      7\u001b[0m \u001b[0;32mdef\u001b[0m \u001b[0mpath_to_input_img\u001b[0m\u001b[0;34m(\u001b[0m\u001b[0mpath\u001b[0m\u001b[0;34m)\u001b[0m\u001b[0;34m:\u001b[0m\u001b[0;34m\u001b[0m\u001b[0;34m\u001b[0m\u001b[0m\n\u001b[0;32m----> 8\u001b[0;31m     \u001b[0;32mreturn\u001b[0m \u001b[0mimg_to_array\u001b[0m\u001b[0;34m(\u001b[0m\u001b[0mload_img\u001b[0m\u001b[0;34m(\u001b[0m\u001b[0mpath\u001b[0m\u001b[0;34m,\u001b[0m \u001b[0mtarget_size\u001b[0m\u001b[0;34m=\u001b[0m\u001b[0mimg_size\u001b[0m\u001b[0;34m)\u001b[0m\u001b[0;34m)\u001b[0m\u001b[0;34m\u001b[0m\u001b[0;34m\u001b[0m\u001b[0m\n\u001b[0m\u001b[1;32m      9\u001b[0m \u001b[0;34m\u001b[0m\u001b[0m\n\u001b[1;32m     10\u001b[0m \u001b[0;32mdef\u001b[0m \u001b[0mpath_to_target\u001b[0m\u001b[0;34m(\u001b[0m\u001b[0mpath\u001b[0m\u001b[0;34m)\u001b[0m\u001b[0;34m:\u001b[0m\u001b[0;34m\u001b[0m\u001b[0;34m\u001b[0m\u001b[0m\n",
      "\u001b[0;32m/usr/local/lib/python3.6/dist-packages/keras_preprocessing/image/utils.py\u001b[0m in \u001b[0;36mload_img\u001b[0;34m(path, grayscale, color_mode, target_size, interpolation)\u001b[0m\n\u001b[1;32m    106\u001b[0m         \u001b[0mcolor_mode\u001b[0m \u001b[0;34m=\u001b[0m \u001b[0;34m'grayscale'\u001b[0m\u001b[0;34m\u001b[0m\u001b[0;34m\u001b[0m\u001b[0m\n\u001b[1;32m    107\u001b[0m     \u001b[0;32mif\u001b[0m \u001b[0mpil_image\u001b[0m \u001b[0;32mis\u001b[0m \u001b[0;32mNone\u001b[0m\u001b[0;34m:\u001b[0m\u001b[0;34m\u001b[0m\u001b[0;34m\u001b[0m\u001b[0m\n\u001b[0;32m--> 108\u001b[0;31m         raise ImportError('Could not import PIL.Image. '\n\u001b[0m\u001b[1;32m    109\u001b[0m                           'The use of `load_img` requires PIL.')\n\u001b[1;32m    110\u001b[0m     \u001b[0mimg\u001b[0m \u001b[0;34m=\u001b[0m \u001b[0mpil_image\u001b[0m\u001b[0;34m.\u001b[0m\u001b[0mopen\u001b[0m\u001b[0;34m(\u001b[0m\u001b[0mpath\u001b[0m\u001b[0;34m)\u001b[0m\u001b[0;34m\u001b[0m\u001b[0;34m\u001b[0m\u001b[0m\n",
      "\u001b[0;31mImportError\u001b[0m: Could not import PIL.Image. The use of `load_img` requires PIL."
     ]
    }
   ],
   "source": [
    "img_size = (200, 200)\n",
    "num_imgs = len(input_img_paths)\n",
    "\n",
    "random.Random(1337).shuffle(input_img_paths)\n",
    "random.Random(1337).shuffle(target_paths)\n",
    "\n",
    "def path_to_input_img(path):\n",
    "    return img_to_array(load_img(path, target_size=img_size))\n",
    "\n",
    "def path_to_target(path):\n",
    "    img = img_to_array(load_img(path, target_size=img_size, color_mode='grayscale'))\n",
    "    img = img.astype(np.uint8) - 1\n",
    "    return img\n",
    "\n",
    "input_imgs = np.zeros((num_imgs,) + img_size + (3,), dtype=np.float32)\n",
    "targets = np.zeros((num_imgs,) + img_size + (1,), dtype=np.uint8)\n",
    "for i in range(num_imgs):\n",
    "    input_imgs[i] = path_to_input_img(input_img_paths[i])\n",
    "    targets[i] = path_to_target(target_paths[i])"
   ]
  },
  {
   "cell_type": "code",
   "execution_count": 50,
   "metadata": {},
   "outputs": [],
   "source": [
    "num_val_samples = 1000\n",
    "\n",
    "train_input_imgs = input_imgs[:-num_val_samples]\n",
    "train_targets = targets[:-num_val_samples]\n",
    "val_input_imgs = input_imgs[-num_val_samples:]\n",
    "val_targets = targets[-num_val_samples:]"
   ]
  },
  {
   "cell_type": "code",
   "execution_count": 60,
   "metadata": {},
   "outputs": [
    {
     "name": "stdout",
     "output_type": "stream",
     "text": [
      "Model: \"model_1\"\n",
      "_________________________________________________________________\n",
      " Layer (type)                Output Shape              Param #   \n",
      "=================================================================\n",
      " input_2 (InputLayer)        [(None, 200, 200, 3)]     0         \n",
      "                                                                 \n",
      " rescaling_1 (Rescaling)     (None, 200, 200, 3)       0         \n",
      "                                                                 \n",
      " conv2d_7 (Conv2D)           (None, 100, 100, 64)      1792      \n",
      "                                                                 \n",
      " conv2d_8 (Conv2D)           (None, 100, 100, 64)      36928     \n",
      "                                                                 \n",
      " conv2d_9 (Conv2D)           (None, 50, 50, 128)       73856     \n",
      "                                                                 \n",
      " conv2d_10 (Conv2D)          (None, 50, 50, 128)       147584    \n",
      "                                                                 \n",
      " conv2d_11 (Conv2D)          (None, 25, 25, 256)       295168    \n",
      "                                                                 \n",
      " conv2d_12 (Conv2D)          (None, 25, 25, 256)       590080    \n",
      "                                                                 \n",
      " conv2d_transpose_6 (Conv2D  (None, 25, 25, 256)       590080    \n",
      " Transpose)                                                      \n",
      "                                                                 \n",
      " conv2d_transpose_7 (Conv2D  (None, 50, 50, 256)       590080    \n",
      " Transpose)                                                      \n",
      "                                                                 \n",
      " conv2d_transpose_8 (Conv2D  (None, 50, 50, 128)       295040    \n",
      " Transpose)                                                      \n",
      "                                                                 \n",
      " conv2d_transpose_9 (Conv2D  (None, 100, 100, 128)     147584    \n",
      " Transpose)                                                      \n",
      "                                                                 \n",
      " conv2d_transpose_10 (Conv2  (None, 100, 100, 64)      73792     \n",
      " DTranspose)                                                     \n",
      "                                                                 \n",
      " conv2d_transpose_11 (Conv2  (None, 200, 200, 64)      36928     \n",
      " DTranspose)                                                     \n",
      "                                                                 \n",
      " conv2d_13 (Conv2D)          (None, 200, 200, 3)       1731      \n",
      "                                                                 \n",
      "=================================================================\n",
      "Total params: 2880643 (10.99 MB)\n",
      "Trainable params: 2880643 (10.99 MB)\n",
      "Non-trainable params: 0 (0.00 Byte)\n",
      "_________________________________________________________________\n"
     ]
    }
   ],
   "source": [
    "def get_model(img_size, num_classes):\n",
    "    inputs = layers.Input(img_size + (3,))\n",
    "    x = layers.Rescaling(1/255)(inputs)\n",
    "\n",
    "    x = layers.Conv2D(filters=64, kernel_size=3, strides=2, activation=activations.relu, padding='same')(x)\n",
    "    x = layers.Conv2D(filters=64, kernel_size=3, activation=activations.relu, padding='same')(x)\n",
    "    x = layers.Conv2D(filters=128, kernel_size=3, strides=2, activation=activations.relu, padding='same')(x)\n",
    "    x = layers.Conv2D(filters=128, kernel_size=3, activation=activations.relu, padding='same')(x)\n",
    "    x = layers.Conv2D(filters=256, kernel_size=3, strides=2, activation=activations.relu, padding='same')(x)\n",
    "    x = layers.Conv2D(filters=256, kernel_size=3, activation=activations.relu, padding='same')(x)\n",
    "\n",
    "    x = layers.Conv2DTranspose(filters=256, kernel_size=3, activation=activations.relu, padding='same')(x)\n",
    "    x = layers.Conv2DTranspose(filters=256, kernel_size=3, strides=2, activation=activations.relu, padding='same')(x)\n",
    "    x = layers.Conv2DTranspose(filters=128, kernel_size=3, activation=activations.relu, padding='same')(x)\n",
    "    x = layers.Conv2DTranspose(filters=128, kernel_size=3, strides=2, activation=activations.relu, padding='same')(x)\n",
    "    x = layers.Conv2DTranspose(filters=64, kernel_size=3, activation=activations.relu, padding='same')(x)\n",
    "    x = layers.Conv2DTranspose(filters=64, kernel_size=3, strides=2, activation=activations.relu, padding='same')(x)\n",
    "\n",
    "    outputs = layers.Conv2D(filters=num_classes, kernel_size=3, activation=activations.softmax, padding='same')(x)\n",
    "    model = keras.Model(inputs=inputs, outputs=outputs)\n",
    "    return model\n",
    "\n",
    "model = get_model(img_size=img_size, num_classes=3)\n",
    "model.summary()\n",
    "    "
   ]
  },
  {
   "cell_type": "code",
   "execution_count": 61,
   "metadata": {},
   "outputs": [
    {
     "name": "stdout",
     "output_type": "stream",
     "text": [
      "Epoch 1/50\n",
      "100/100 [==============================] - ETA: 0s - loss: 0.9391 - sparse_categorical_accuracy: 0.5790INFO:tensorflow:Assets written to: oxford_seg/assets\n"
     ]
    },
    {
     "name": "stderr",
     "output_type": "stream",
     "text": [
      "INFO:tensorflow:Assets written to: oxford_seg/assets\n"
     ]
    },
    {
     "name": "stdout",
     "output_type": "stream",
     "text": [
      "100/100 [==============================] - 423s 4s/step - loss: 0.9391 - sparse_categorical_accuracy: 0.5790 - val_loss: 0.8888 - val_sparse_categorical_accuracy: 0.5800\n",
      "Epoch 2/50\n",
      "100/100 [==============================] - ETA: 0s - loss: 0.8805 - sparse_categorical_accuracy: 0.5765INFO:tensorflow:Assets written to: oxford_seg/assets\n"
     ]
    },
    {
     "name": "stderr",
     "output_type": "stream",
     "text": [
      "INFO:tensorflow:Assets written to: oxford_seg/assets\n"
     ]
    },
    {
     "name": "stdout",
     "output_type": "stream",
     "text": [
      "100/100 [==============================] - 425s 4s/step - loss: 0.8805 - sparse_categorical_accuracy: 0.5765 - val_loss: 0.8610 - val_sparse_categorical_accuracy: 0.6030\n",
      "Epoch 3/50\n",
      "100/100 [==============================] - ETA: 0s - loss: 0.8392 - sparse_categorical_accuracy: 0.6071INFO:tensorflow:Assets written to: oxford_seg/assets\n"
     ]
    },
    {
     "name": "stderr",
     "output_type": "stream",
     "text": [
      "INFO:tensorflow:Assets written to: oxford_seg/assets\n"
     ]
    },
    {
     "name": "stdout",
     "output_type": "stream",
     "text": [
      "100/100 [==============================] - 431s 4s/step - loss: 0.8392 - sparse_categorical_accuracy: 0.6071 - val_loss: 0.7804 - val_sparse_categorical_accuracy: 0.6646\n",
      "Epoch 4/50\n",
      "100/100 [==============================] - ETA: 0s - loss: 0.8170 - sparse_categorical_accuracy: 0.6472INFO:tensorflow:Assets written to: oxford_seg/assets\n"
     ]
    },
    {
     "name": "stderr",
     "output_type": "stream",
     "text": [
      "INFO:tensorflow:Assets written to: oxford_seg/assets\n"
     ]
    },
    {
     "name": "stdout",
     "output_type": "stream",
     "text": [
      "100/100 [==============================] - 428s 4s/step - loss: 0.8170 - sparse_categorical_accuracy: 0.6472 - val_loss: 0.7682 - val_sparse_categorical_accuracy: 0.6882\n",
      "Epoch 5/50\n",
      "100/100 [==============================] - 426s 4s/step - loss: 0.7833 - sparse_categorical_accuracy: 0.6762 - val_loss: 0.7722 - val_sparse_categorical_accuracy: 0.6848\n",
      "Epoch 6/50\n",
      "100/100 [==============================] - ETA: 0s - loss: 0.7576 - sparse_categorical_accuracy: 0.6925INFO:tensorflow:Assets written to: oxford_seg/assets\n"
     ]
    },
    {
     "name": "stderr",
     "output_type": "stream",
     "text": [
      "INFO:tensorflow:Assets written to: oxford_seg/assets\n"
     ]
    },
    {
     "name": "stdout",
     "output_type": "stream",
     "text": [
      "100/100 [==============================] - 428s 4s/step - loss: 0.7576 - sparse_categorical_accuracy: 0.6925 - val_loss: 0.7220 - val_sparse_categorical_accuracy: 0.7063\n",
      "Epoch 7/50\n",
      "100/100 [==============================] - 423s 4s/step - loss: 0.7541 - sparse_categorical_accuracy: 0.6915 - val_loss: 0.7329 - val_sparse_categorical_accuracy: 0.6999\n",
      "Epoch 8/50\n",
      "100/100 [==============================] - 428s 4s/step - loss: 0.7376 - sparse_categorical_accuracy: 0.6988 - val_loss: 0.7480 - val_sparse_categorical_accuracy: 0.6999\n",
      "Epoch 9/50\n",
      "100/100 [==============================] - ETA: 0s - loss: 0.7140 - sparse_categorical_accuracy: 0.7075INFO:tensorflow:Assets written to: oxford_seg/assets\n"
     ]
    },
    {
     "name": "stderr",
     "output_type": "stream",
     "text": [
      "INFO:tensorflow:Assets written to: oxford_seg/assets\n"
     ]
    },
    {
     "name": "stdout",
     "output_type": "stream",
     "text": [
      "100/100 [==============================] - 423s 4s/step - loss: 0.7140 - sparse_categorical_accuracy: 0.7075 - val_loss: 0.6456 - val_sparse_categorical_accuracy: 0.7366\n",
      "Epoch 10/50\n",
      "100/100 [==============================] - ETA: 0s - loss: 0.6916 - sparse_categorical_accuracy: 0.7170INFO:tensorflow:Assets written to: oxford_seg/assets\n"
     ]
    },
    {
     "name": "stderr",
     "output_type": "stream",
     "text": [
      "INFO:tensorflow:Assets written to: oxford_seg/assets\n"
     ]
    },
    {
     "name": "stdout",
     "output_type": "stream",
     "text": [
      "100/100 [==============================] - 427s 4s/step - loss: 0.6916 - sparse_categorical_accuracy: 0.7170 - val_loss: 0.6171 - val_sparse_categorical_accuracy: 0.7481\n",
      "Epoch 11/50\n",
      "100/100 [==============================] - 418s 4s/step - loss: 0.6687 - sparse_categorical_accuracy: 0.7277 - val_loss: 0.6552 - val_sparse_categorical_accuracy: 0.7343\n",
      "Epoch 12/50\n",
      "100/100 [==============================] - 420s 4s/step - loss: 0.6562 - sparse_categorical_accuracy: 0.7339 - val_loss: 0.6272 - val_sparse_categorical_accuracy: 0.7448\n",
      "Epoch 13/50\n",
      "100/100 [==============================] - ETA: 0s - loss: 0.6256 - sparse_categorical_accuracy: 0.7465INFO:tensorflow:Assets written to: oxford_seg/assets\n"
     ]
    },
    {
     "name": "stderr",
     "output_type": "stream",
     "text": [
      "INFO:tensorflow:Assets written to: oxford_seg/assets\n"
     ]
    },
    {
     "name": "stdout",
     "output_type": "stream",
     "text": [
      "100/100 [==============================] - 413s 4s/step - loss: 0.6256 - sparse_categorical_accuracy: 0.7465 - val_loss: 0.5648 - val_sparse_categorical_accuracy: 0.7712\n",
      "Epoch 14/50\n",
      "100/100 [==============================] - ETA: 0s - loss: 0.6179 - sparse_categorical_accuracy: 0.7511INFO:tensorflow:Assets written to: oxford_seg/assets\n"
     ]
    },
    {
     "name": "stderr",
     "output_type": "stream",
     "text": [
      "INFO:tensorflow:Assets written to: oxford_seg/assets\n"
     ]
    },
    {
     "name": "stdout",
     "output_type": "stream",
     "text": [
      "100/100 [==============================] - 415s 4s/step - loss: 0.6179 - sparse_categorical_accuracy: 0.7511 - val_loss: 0.5472 - val_sparse_categorical_accuracy: 0.7814\n",
      "Epoch 15/50\n",
      "100/100 [==============================] - 413s 4s/step - loss: 0.5900 - sparse_categorical_accuracy: 0.7620 - val_loss: 0.5523 - val_sparse_categorical_accuracy: 0.7776\n",
      "Epoch 16/50\n",
      "100/100 [==============================] - 414s 4s/step - loss: 0.5784 - sparse_categorical_accuracy: 0.7659 - val_loss: 0.5494 - val_sparse_categorical_accuracy: 0.7760\n",
      "Epoch 17/50\n",
      "100/100 [==============================] - ETA: 0s - loss: 0.5592 - sparse_categorical_accuracy: 0.7752INFO:tensorflow:Assets written to: oxford_seg/assets\n"
     ]
    },
    {
     "name": "stderr",
     "output_type": "stream",
     "text": [
      "INFO:tensorflow:Assets written to: oxford_seg/assets\n"
     ]
    },
    {
     "name": "stdout",
     "output_type": "stream",
     "text": [
      "100/100 [==============================] - 411s 4s/step - loss: 0.5592 - sparse_categorical_accuracy: 0.7752 - val_loss: 0.5170 - val_sparse_categorical_accuracy: 0.7922\n",
      "Epoch 18/50\n",
      "100/100 [==============================] - 414s 4s/step - loss: 0.5533 - sparse_categorical_accuracy: 0.7777 - val_loss: 0.5238 - val_sparse_categorical_accuracy: 0.7965\n",
      "Epoch 19/50\n",
      "100/100 [==============================] - 414s 4s/step - loss: 0.5508 - sparse_categorical_accuracy: 0.7792 - val_loss: 0.5201 - val_sparse_categorical_accuracy: 0.7940\n",
      "Epoch 20/50\n",
      "100/100 [==============================] - 415s 4s/step - loss: 0.5323 - sparse_categorical_accuracy: 0.7867 - val_loss: 0.5191 - val_sparse_categorical_accuracy: 0.7941\n",
      "Epoch 21/50\n",
      "100/100 [==============================] - 409s 4s/step - loss: 0.5180 - sparse_categorical_accuracy: 0.7932 - val_loss: 0.5192 - val_sparse_categorical_accuracy: 0.7898\n",
      "Epoch 22/50\n",
      "100/100 [==============================] - 410s 4s/step - loss: 0.5161 - sparse_categorical_accuracy: 0.7951 - val_loss: 0.5676 - val_sparse_categorical_accuracy: 0.7705\n",
      "Epoch 23/50\n",
      "100/100 [==============================] - 410s 4s/step - loss: 0.5022 - sparse_categorical_accuracy: 0.7997 - val_loss: 0.6403 - val_sparse_categorical_accuracy: 0.7336\n",
      "Epoch 24/50\n",
      "100/100 [==============================] - 410s 4s/step - loss: 0.4895 - sparse_categorical_accuracy: 0.8059 - val_loss: 0.5633 - val_sparse_categorical_accuracy: 0.7650\n",
      "Epoch 25/50\n",
      "100/100 [==============================] - 417s 4s/step - loss: 0.4823 - sparse_categorical_accuracy: 0.8089 - val_loss: 0.6671 - val_sparse_categorical_accuracy: 0.7178\n",
      "Epoch 26/50\n",
      "100/100 [==============================] - ETA: 0s - loss: 0.4823 - sparse_categorical_accuracy: 0.8096INFO:tensorflow:Assets written to: oxford_seg/assets\n"
     ]
    },
    {
     "name": "stderr",
     "output_type": "stream",
     "text": [
      "INFO:tensorflow:Assets written to: oxford_seg/assets\n"
     ]
    },
    {
     "name": "stdout",
     "output_type": "stream",
     "text": [
      "100/100 [==============================] - 413s 4s/step - loss: 0.4823 - sparse_categorical_accuracy: 0.8096 - val_loss: 0.5033 - val_sparse_categorical_accuracy: 0.7995\n",
      "Epoch 27/50\n",
      "100/100 [==============================] - ETA: 0s - loss: 0.4716 - sparse_categorical_accuracy: 0.8127INFO:tensorflow:Assets written to: oxford_seg/assets\n"
     ]
    },
    {
     "name": "stderr",
     "output_type": "stream",
     "text": [
      "INFO:tensorflow:Assets written to: oxford_seg/assets\n"
     ]
    },
    {
     "name": "stdout",
     "output_type": "stream",
     "text": [
      "100/100 [==============================] - 416s 4s/step - loss: 0.4716 - sparse_categorical_accuracy: 0.8127 - val_loss: 0.4198 - val_sparse_categorical_accuracy: 0.8345\n",
      "Epoch 28/50\n",
      "100/100 [==============================] - 414s 4s/step - loss: 0.4633 - sparse_categorical_accuracy: 0.8171 - val_loss: 0.4514 - val_sparse_categorical_accuracy: 0.8197\n",
      "Epoch 29/50\n",
      "100/100 [==============================] - 412s 4s/step - loss: 0.4559 - sparse_categorical_accuracy: 0.8195 - val_loss: 0.4291 - val_sparse_categorical_accuracy: 0.8293\n",
      "Epoch 30/50\n",
      "100/100 [==============================] - 409s 4s/step - loss: 0.4416 - sparse_categorical_accuracy: 0.8260 - val_loss: 0.5537 - val_sparse_categorical_accuracy: 0.7776\n",
      "Epoch 31/50\n",
      "100/100 [==============================] - 412s 4s/step - loss: 0.4441 - sparse_categorical_accuracy: 0.8249 - val_loss: 0.4508 - val_sparse_categorical_accuracy: 0.8221\n",
      "Epoch 32/50\n",
      "100/100 [==============================] - 413s 4s/step - loss: 0.4303 - sparse_categorical_accuracy: 0.8308 - val_loss: 0.4367 - val_sparse_categorical_accuracy: 0.8260\n",
      "Epoch 33/50\n",
      "100/100 [==============================] - 413s 4s/step - loss: 0.4249 - sparse_categorical_accuracy: 0.8332 - val_loss: 0.4376 - val_sparse_categorical_accuracy: 0.8277\n",
      "Epoch 34/50\n",
      "100/100 [==============================] - ETA: 0s - loss: 0.4209 - sparse_categorical_accuracy: 0.8349INFO:tensorflow:Assets written to: oxford_seg/assets\n"
     ]
    },
    {
     "name": "stderr",
     "output_type": "stream",
     "text": [
      "INFO:tensorflow:Assets written to: oxford_seg/assets\n"
     ]
    },
    {
     "name": "stdout",
     "output_type": "stream",
     "text": [
      "100/100 [==============================] - 413s 4s/step - loss: 0.4209 - sparse_categorical_accuracy: 0.8349 - val_loss: 0.4181 - val_sparse_categorical_accuracy: 0.8375\n",
      "Epoch 35/50\n",
      "100/100 [==============================] - 415s 4s/step - loss: 0.4132 - sparse_categorical_accuracy: 0.8377 - val_loss: 0.4214 - val_sparse_categorical_accuracy: 0.8342\n",
      "Epoch 36/50\n",
      "100/100 [==============================] - ETA: 0s - loss: 0.4014 - sparse_categorical_accuracy: 0.8428INFO:tensorflow:Assets written to: oxford_seg/assets\n"
     ]
    },
    {
     "name": "stderr",
     "output_type": "stream",
     "text": [
      "INFO:tensorflow:Assets written to: oxford_seg/assets\n"
     ]
    },
    {
     "name": "stdout",
     "output_type": "stream",
     "text": [
      "100/100 [==============================] - 414s 4s/step - loss: 0.4014 - sparse_categorical_accuracy: 0.8428 - val_loss: 0.3986 - val_sparse_categorical_accuracy: 0.8449\n",
      "Epoch 37/50\n",
      "100/100 [==============================] - ETA: 0s - loss: 0.4030 - sparse_categorical_accuracy: 0.8420INFO:tensorflow:Assets written to: oxford_seg/assets\n"
     ]
    },
    {
     "name": "stderr",
     "output_type": "stream",
     "text": [
      "INFO:tensorflow:Assets written to: oxford_seg/assets\n"
     ]
    },
    {
     "name": "stdout",
     "output_type": "stream",
     "text": [
      "100/100 [==============================] - 415s 4s/step - loss: 0.4030 - sparse_categorical_accuracy: 0.8420 - val_loss: 0.3915 - val_sparse_categorical_accuracy: 0.8484\n",
      "Epoch 38/50\n",
      "100/100 [==============================] - ETA: 0s - loss: 0.3987 - sparse_categorical_accuracy: 0.8441INFO:tensorflow:Assets written to: oxford_seg/assets\n"
     ]
    },
    {
     "name": "stderr",
     "output_type": "stream",
     "text": [
      "INFO:tensorflow:Assets written to: oxford_seg/assets\n"
     ]
    },
    {
     "name": "stdout",
     "output_type": "stream",
     "text": [
      "100/100 [==============================] - 416s 4s/step - loss: 0.3987 - sparse_categorical_accuracy: 0.8441 - val_loss: 0.3756 - val_sparse_categorical_accuracy: 0.8533\n",
      "Epoch 39/50\n",
      "100/100 [==============================] - 413s 4s/step - loss: 0.3897 - sparse_categorical_accuracy: 0.8474 - val_loss: 0.3789 - val_sparse_categorical_accuracy: 0.8541\n",
      "Epoch 40/50\n",
      "100/100 [==============================] - ETA: 0s - loss: 0.3826 - sparse_categorical_accuracy: 0.8504INFO:tensorflow:Assets written to: oxford_seg/assets\n"
     ]
    },
    {
     "name": "stderr",
     "output_type": "stream",
     "text": [
      "INFO:tensorflow:Assets written to: oxford_seg/assets\n"
     ]
    },
    {
     "name": "stdout",
     "output_type": "stream",
     "text": [
      "100/100 [==============================] - 412s 4s/step - loss: 0.3826 - sparse_categorical_accuracy: 0.8504 - val_loss: 0.3755 - val_sparse_categorical_accuracy: 0.8523\n",
      "Epoch 41/50\n",
      "100/100 [==============================] - 415s 4s/step - loss: 0.3797 - sparse_categorical_accuracy: 0.8521 - val_loss: 0.4035 - val_sparse_categorical_accuracy: 0.8456\n",
      "Epoch 42/50\n",
      "100/100 [==============================] - 413s 4s/step - loss: 0.3774 - sparse_categorical_accuracy: 0.8527 - val_loss: 0.3833 - val_sparse_categorical_accuracy: 0.8520\n",
      "Epoch 43/50\n",
      "100/100 [==============================] - 413s 4s/step - loss: 0.3679 - sparse_categorical_accuracy: 0.8559 - val_loss: 0.4063 - val_sparse_categorical_accuracy: 0.8408\n",
      "Epoch 44/50\n",
      "100/100 [==============================] - 416s 4s/step - loss: 0.3674 - sparse_categorical_accuracy: 0.8564 - val_loss: 0.4016 - val_sparse_categorical_accuracy: 0.8454\n",
      "Epoch 45/50\n",
      "100/100 [==============================] - ETA: 0s - loss: 0.3557 - sparse_categorical_accuracy: 0.8612INFO:tensorflow:Assets written to: oxford_seg/assets\n"
     ]
    },
    {
     "name": "stderr",
     "output_type": "stream",
     "text": [
      "INFO:tensorflow:Assets written to: oxford_seg/assets\n"
     ]
    },
    {
     "name": "stdout",
     "output_type": "stream",
     "text": [
      "100/100 [==============================] - 413s 4s/step - loss: 0.3557 - sparse_categorical_accuracy: 0.8612 - val_loss: 0.3614 - val_sparse_categorical_accuracy: 0.8600\n",
      "Epoch 46/50\n",
      "100/100 [==============================] - ETA: 0s - loss: 0.3521 - sparse_categorical_accuracy: 0.8624INFO:tensorflow:Assets written to: oxford_seg/assets\n"
     ]
    },
    {
     "name": "stderr",
     "output_type": "stream",
     "text": [
      "INFO:tensorflow:Assets written to: oxford_seg/assets\n"
     ]
    },
    {
     "name": "stdout",
     "output_type": "stream",
     "text": [
      "100/100 [==============================] - 415s 4s/step - loss: 0.3521 - sparse_categorical_accuracy: 0.8624 - val_loss: 0.3492 - val_sparse_categorical_accuracy: 0.8641\n",
      "Epoch 47/50\n",
      "100/100 [==============================] - 416s 4s/step - loss: 0.3472 - sparse_categorical_accuracy: 0.8645 - val_loss: 0.3703 - val_sparse_categorical_accuracy: 0.8573\n",
      "Epoch 48/50\n",
      "100/100 [==============================] - 416s 4s/step - loss: 0.3431 - sparse_categorical_accuracy: 0.8660 - val_loss: 0.3513 - val_sparse_categorical_accuracy: 0.8644\n",
      "Epoch 49/50\n",
      "100/100 [==============================] - 410s 4s/step - loss: 0.3330 - sparse_categorical_accuracy: 0.8699 - val_loss: 0.4937 - val_sparse_categorical_accuracy: 0.7950\n",
      "Epoch 50/50\n",
      "100/100 [==============================] - 409s 4s/step - loss: 0.3315 - sparse_categorical_accuracy: 0.8707 - val_loss: 0.3526 - val_sparse_categorical_accuracy: 0.8637\n"
     ]
    }
   ],
   "source": [
    "model.compile(optimizer=optimizers.RMSprop(),\n",
    "              loss=losses.SparseCategoricalCrossentropy(),\n",
    "              metrics=[metrics.SparseCategoricalAccuracy()])\n",
    "\n",
    "callback_list = [\n",
    "    callbacks.ModelCheckpoint('oxford_seg', save_best_only='True')\n",
    "]\n",
    "\n",
    "history = model.fit(train_input_imgs, train_targets, epochs=50, callbacks=callback_list, batch_size=64, validation_data=(val_input_imgs, val_targets))"
   ]
  },
  {
   "cell_type": "code",
   "execution_count": 72,
   "metadata": {},
   "outputs": [
    {
     "data": {
      "text/plain": [
       "array([[0.9390741 , 0.88876629],\n",
       "       [0.8805415 , 0.86096197],\n",
       "       [0.83924168, 0.78044951],\n",
       "       [0.81700706, 0.76815701],\n",
       "       [0.7833432 , 0.77215093],\n",
       "       [0.75761366, 0.72204608],\n",
       "       [0.75408262, 0.73291498],\n",
       "       [0.73761982, 0.74798   ],\n",
       "       [0.71402687, 0.64558405],\n",
       "       [0.69156879, 0.61709154],\n",
       "       [0.6686908 , 0.65516239],\n",
       "       [0.65617114, 0.62721312],\n",
       "       [0.62556529, 0.56477416],\n",
       "       [0.61786807, 0.54716927],\n",
       "       [0.59003311, 0.55229896],\n",
       "       [0.57838124, 0.54942894],\n",
       "       [0.55924791, 0.51698875],\n",
       "       [0.55331272, 0.52382016],\n",
       "       [0.55078149, 0.52009296],\n",
       "       [0.53231651, 0.51912439],\n",
       "       [0.51802838, 0.51921856],\n",
       "       [0.51611251, 0.56756359],\n",
       "       [0.50216943, 0.64025891],\n",
       "       [0.48948139, 0.56325829],\n",
       "       [0.48229966, 0.66710514],\n",
       "       [0.48234436, 0.50333267],\n",
       "       [0.47164971, 0.41976792],\n",
       "       [0.46327701, 0.45139131],\n",
       "       [0.45587468, 0.42911917],\n",
       "       [0.44160897, 0.55368578],\n",
       "       [0.4441469 , 0.45077431],\n",
       "       [0.4302648 , 0.43668202],\n",
       "       [0.42491895, 0.43762639],\n",
       "       [0.42085955, 0.41812173],\n",
       "       [0.41317138, 0.42139405],\n",
       "       [0.40139875, 0.39856267],\n",
       "       [0.40302649, 0.39151943],\n",
       "       [0.39866692, 0.37560162],\n",
       "       [0.38971034, 0.37887684],\n",
       "       [0.38263178, 0.37546685],\n",
       "       [0.37967256, 0.40354961],\n",
       "       [0.37737817, 0.38325039],\n",
       "       [0.36792299, 0.40626776],\n",
       "       [0.36736915, 0.40163693],\n",
       "       [0.35570353, 0.36135572],\n",
       "       [0.35210431, 0.34918281],\n",
       "       [0.34724385, 0.37026581],\n",
       "       [0.34306139, 0.35132575],\n",
       "       [0.3329666 , 0.4936786 ],\n",
       "       [0.33152097, 0.35262334]])"
      ]
     },
     "execution_count": 72,
     "metadata": {},
     "output_type": "execute_result"
    },
    {
     "data": {
      "image/png": "[encoded data removed]",
      "text/plain": [
       "<Figure size 640x480 with 1 Axes>"
      ]
     },
     "metadata": {},
     "output_type": "display_data"
    }
   ],
   "source": [
    "epochs = range(1, len(history.history['loss']) + 1)\n",
    "loss = history.history['loss']\n",
    "val_loss = history.history['val_loss']\n",
    "plt.figure()\n",
    "plt.plot(epochs, loss, 'bo', label='Training loss')\n",
    "plt.plot(epochs, val_loss, 'b', label='Validation loss')\n",
    "plt.title('Training and validation loss')\n",
    "plt.legend()\n",
    "np.array([history.history['loss'], history.history['val_loss']]).T"
   ]
  },
  {
   "cell_type": "code",
   "execution_count": null,
   "metadata": {},
   "outputs": [],
   "source": []
  }
 ],
 "metadata": {
  "kernelspec": {
   "display_name": "Python 3",
   "language": "python",
   "name": "python3"
  },
  "language_info": {
   "codemirror_mode": {
    "name": "ipython",
    "version": 3
   },
   "file_extension": ".py",
   "mimetype": "text/x-python",
   "name": "python",
   "nbconvert_exporter": "python",
   "pygments_lexer": "ipython3",
   "version": "3.6.9"
  }
 },
 "nbformat": 4,
 "nbformat_minor": 2
}
