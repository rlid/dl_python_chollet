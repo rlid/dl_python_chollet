{
 "cells": [
  {
   "cell_type": "code",
   "execution_count": 1,
   "metadata": {},
   "outputs": [
    {
     "name": "stderr",
     "output_type": "stream",
     "text": [
      "2023-09-13 18:19:43.243674: I tensorflow/core/platform/cpu_feature_guard.cc:182] This TensorFlow binary is optimized to use available CPU instructions in performance-critical operations.\n",
      "To enable the following instructions: AVX2 FMA, in other operations, rebuild TensorFlow with the appropriate compiler flags.\n"
     ]
    }
   ],
   "source": [
    "import os\n",
    "import random\n",
    "import numpy as np\n",
    "import matplotlib.pyplot as plt\n",
    "from keras.utils import load_img, img_to_array\n",
    "from tensorflow import keras\n",
    "from keras import layers, activations, losses, optimizers, metrics, callbacks, utils"
   ]
  },
  {
   "cell_type": "code",
   "execution_count": 2,
   "metadata": {},
   "outputs": [],
   "source": [
    "input_dir = 'ch9/images/'\n",
    "target_dir = 'ch9/annotations/trimaps/'\n",
    "\n",
    "def get_paths(dir, ext):\n",
    "    return sorted([os.path.join(dir, filename) for filename in os.listdir(dir) if filename.endswith(ext) and not filename.startswith('.')])\n",
    "\n",
    "input_img_paths = get_paths(input_dir, '.jpg')\n",
    "target_paths = get_paths(target_dir, '.png')"
   ]
  },
  {
   "cell_type": "code",
   "execution_count": 3,
   "metadata": {},
   "outputs": [
    {
     "data": {
      "image/png": "[encoded data removed]",
      "text/plain": [
       "<Figure size 640x480 with 1 Axes>"
      ]
     },
     "metadata": {},
     "output_type": "display_data"
    }
   ],
   "source": [
    "plt.axis('off')\n",
    "plt.imshow(load_img(input_img_paths[9]))\n",
    "\n",
    "def display_target(target_array):\n",
    "    normalized_array = target_array.astype(np.int8) * 85\n",
    "    plt.axis('off')\n",
    "    plt.imshow(normalized_array)\n",
    "\n",
    "a = load_img(target_paths[9], color_mode='grayscale')\n",
    "b = img_to_array(a)\n",
    "display_target(b)"
   ]
  },
  {
   "cell_type": "code",
   "execution_count": 4,
   "metadata": {},
   "outputs": [],
   "source": [
    "img_size = (200, 200)\n",
    "num_imgs = len(input_img_paths)\n",
    "\n",
    "random.Random(1337).shuffle(input_img_paths)\n",
    "random.Random(1337).shuffle(target_paths)\n",
    "\n",
    "def path_to_input_img(path):\n",
    "    return img_to_array(load_img(path, target_size=img_size))\n",
    "\n",
    "def path_to_target(path):\n",
    "    img = img_to_array(load_img(path, target_size=img_size, color_mode='grayscale'))\n",
    "    img = img.astype(np.uint8) - 1\n",
    "    return img\n",
    "\n",
    "input_imgs = np.zeros((num_imgs,) + img_size + (3,), dtype=np.float32)\n",
    "targets = np.zeros((num_imgs,) + img_size + (1,), dtype=np.uint8)\n",
    "for i in range(num_imgs):\n",
    "    input_imgs[i] = path_to_input_img(input_img_paths[i])\n",
    "    targets[i] = path_to_target(target_paths[i])"
   ]
  },
  {
   "cell_type": "code",
   "execution_count": 5,
   "metadata": {},
   "outputs": [],
   "source": [
    "num_val_samples = 1000\n",
    "\n",
    "train_input_imgs = input_imgs[:-num_val_samples]\n",
    "train_targets = targets[:-num_val_samples]\n",
    "val_input_imgs = input_imgs[-num_val_samples:]\n",
    "val_targets = targets[-num_val_samples:]"
   ]
  },
  {
   "cell_type": "code",
   "execution_count": 6,
   "metadata": {},
   "outputs": [
    {
     "name": "stdout",
     "output_type": "stream",
     "text": [
      "Model: \"model\"\n",
      "_________________________________________________________________\n",
      " Layer (type)                Output Shape              Param #   \n",
      "=================================================================\n",
      " input_1 (InputLayer)        [(None, 200, 200, 3)]     0         \n",
      "                                                                 \n",
      " rescaling (Rescaling)       (None, 200, 200, 3)       0         \n",
      "                                                                 \n",
      " conv2d (Conv2D)             (None, 100, 100, 64)      1792      \n",
      "                                                                 \n",
      " conv2d_1 (Conv2D)           (None, 100, 100, 64)      36928     \n",
      "                                                                 \n",
      " conv2d_2 (Conv2D)           (None, 50, 50, 128)       73856     \n",
      "                                                                 \n",
      " conv2d_3 (Conv2D)           (None, 50, 50, 128)       147584    \n",
      "                                                                 \n",
      " conv2d_4 (Conv2D)           (None, 25, 25, 256)       295168    \n",
      "                                                                 \n",
      " conv2d_5 (Conv2D)           (None, 25, 25, 256)       590080    \n",
      "                                                                 \n",
      " conv2d_transpose (Conv2DTr  (None, 25, 25, 256)       590080    \n",
      " anspose)                                                        \n",
      "                                                                 \n",
      " conv2d_transpose_1 (Conv2D  (None, 50, 50, 256)       590080    \n",
      " Transpose)                                                      \n",
      "                                                                 \n",
      " conv2d_transpose_2 (Conv2D  (None, 50, 50, 128)       295040    \n",
      " Transpose)                                                      \n",
      "                                                                 \n",
      " conv2d_transpose_3 (Conv2D  (None, 100, 100, 128)     147584    \n",
      " Transpose)                                                      \n",
      "                                                                 \n",
      " conv2d_transpose_4 (Conv2D  (None, 100, 100, 64)      73792     \n",
      " Transpose)                                                      \n",
      "                                                                 \n",
      " conv2d_transpose_5 (Conv2D  (None, 200, 200, 64)      36928     \n",
      " Transpose)                                                      \n",
      "                                                                 \n",
      " conv2d_6 (Conv2D)           (None, 200, 200, 3)       1731      \n",
      "                                                                 \n",
      "=================================================================\n",
      "Total params: 2880643 (10.99 MB)\n",
      "Trainable params: 2880643 (10.99 MB)\n",
      "Non-trainable params: 0 (0.00 Byte)\n",
      "_________________________________________________________________\n"
     ]
    },
    {
     "name": "stderr",
     "output_type": "stream",
     "text": [
      "2023-09-13 18:19:56.169804: I tensorflow/compiler/xla/stream_executor/cuda/cuda_gpu_executor.cc:995] successful NUMA node read from SysFS had negative value (-1), but there must be at least one NUMA node, so returning NUMA node zero. See more at https://github.com/torvalds/linux/blob/v6.0/Documentation/ABI/testing/sysfs-bus-pci#L344-L355\n",
      "2023-09-13 18:19:56.172282: I tensorflow/compiler/xla/stream_executor/cuda/cuda_gpu_executor.cc:995] successful NUMA node read from SysFS had negative value (-1), but there must be at least one NUMA node, so returning NUMA node zero. See more at https://github.com/torvalds/linux/blob/v6.0/Documentation/ABI/testing/sysfs-bus-pci#L344-L355\n",
      "2023-09-13 18:19:56.172381: I tensorflow/compiler/xla/stream_executor/cuda/cuda_gpu_executor.cc:995] successful NUMA node read from SysFS had negative value (-1), but there must be at least one NUMA node, so returning NUMA node zero. See more at https://github.com/torvalds/linux/blob/v6.0/Documentation/ABI/testing/sysfs-bus-pci#L344-L355\n",
      "2023-09-13 18:19:56.173669: I tensorflow/compiler/xla/stream_executor/cuda/cuda_gpu_executor.cc:995] successful NUMA node read from SysFS had negative value (-1), but there must be at least one NUMA node, so returning NUMA node zero. See more at https://github.com/torvalds/linux/blob/v6.0/Documentation/ABI/testing/sysfs-bus-pci#L344-L355\n",
      "2023-09-13 18:19:56.173774: I tensorflow/compiler/xla/stream_executor/cuda/cuda_gpu_executor.cc:995] successful NUMA node read from SysFS had negative value (-1), but there must be at least one NUMA node, so returning NUMA node zero. See more at https://github.com/torvalds/linux/blob/v6.0/Documentation/ABI/testing/sysfs-bus-pci#L344-L355\n",
      "2023-09-13 18:19:56.173856: I tensorflow/compiler/xla/stream_executor/cuda/cuda_gpu_executor.cc:995] successful NUMA node read from SysFS had negative value (-1), but there must be at least one NUMA node, so returning NUMA node zero. See more at https://github.com/torvalds/linux/blob/v6.0/Documentation/ABI/testing/sysfs-bus-pci#L344-L355\n",
      "2023-09-13 18:19:56.270792: I tensorflow/compiler/xla/stream_executor/cuda/cuda_gpu_executor.cc:995] successful NUMA node read from SysFS had negative value (-1), but there must be at least one NUMA node, so returning NUMA node zero. See more at https://github.com/torvalds/linux/blob/v6.0/Documentation/ABI/testing/sysfs-bus-pci#L344-L355\n",
      "2023-09-13 18:19:56.270901: I tensorflow/compiler/xla/stream_executor/cuda/cuda_gpu_executor.cc:995] successful NUMA node read from SysFS had negative value (-1), but there must be at least one NUMA node, so returning NUMA node zero. See more at https://github.com/torvalds/linux/blob/v6.0/Documentation/ABI/testing/sysfs-bus-pci#L344-L355\n",
      "2023-09-13 18:19:56.270983: I tensorflow/compiler/xla/stream_executor/cuda/cuda_gpu_executor.cc:995] successful NUMA node read from SysFS had negative value (-1), but there must be at least one NUMA node, so returning NUMA node zero. See more at https://github.com/torvalds/linux/blob/v6.0/Documentation/ABI/testing/sysfs-bus-pci#L344-L355\n",
      "2023-09-13 18:19:56.271057: I tensorflow/core/common_runtime/gpu/gpu_device.cc:1639] Created device /job:localhost/replica:0/task:0/device:GPU:0 with 21008 MB memory:  -> device: 0, name: NVIDIA GeForce RTX 4090, pci bus id: 0000:2d:00.0, compute capability: 8.9\n"
     ]
    }
   ],
   "source": [
    "def get_model(img_size, num_classes):\n",
    "    inputs = layers.Input(img_size + (3,))\n",
    "    x = layers.Rescaling(1/255)(inputs)\n",
    "\n",
    "    x = layers.Conv2D(filters=64, kernel_size=3, strides=2, activation=activations.relu, padding='same')(x)\n",
    "    x = layers.Conv2D(filters=64, kernel_size=3, activation=activations.relu, padding='same')(x)\n",
    "    x = layers.Conv2D(filters=128, kernel_size=3, strides=2, activation=activations.relu, padding='same')(x)\n",
    "    x = layers.Conv2D(filters=128, kernel_size=3, activation=activations.relu, padding='same')(x)\n",
    "    x = layers.Conv2D(filters=256, kernel_size=3, strides=2, activation=activations.relu, padding='same')(x)\n",
    "    x = layers.Conv2D(filters=256, kernel_size=3, activation=activations.relu, padding='same')(x)\n",
    "\n",
    "    x = layers.Conv2DTranspose(filters=256, kernel_size=3, activation=activations.relu, padding='same')(x)\n",
    "    x = layers.Conv2DTranspose(filters=256, kernel_size=3, strides=2, activation=activations.relu, padding='same')(x)\n",
    "    x = layers.Conv2DTranspose(filters=128, kernel_size=3, activation=activations.relu, padding='same')(x)\n",
    "    x = layers.Conv2DTranspose(filters=128, kernel_size=3, strides=2, activation=activations.relu, padding='same')(x)\n",
    "    x = layers.Conv2DTranspose(filters=64, kernel_size=3, activation=activations.relu, padding='same')(x)\n",
    "    x = layers.Conv2DTranspose(filters=64, kernel_size=3, strides=2, activation=activations.relu, padding='same')(x)\n",
    "\n",
    "    outputs = layers.Conv2D(filters=num_classes, kernel_size=3, activation=activations.softmax, padding='same')(x)\n",
    "    model = keras.Model(inputs=inputs, outputs=outputs)\n",
    "    return model\n",
    "\n",
    "model = get_model(img_size=img_size, num_classes=3)\n",
    "model.summary()\n",
    "    "
   ]
  },
  {
   "cell_type": "code",
   "execution_count": 7,
   "metadata": {},
   "outputs": [
    {
     "name": "stdout",
     "output_type": "stream",
     "text": [
      "Epoch 1/75\n"
     ]
    },
    {
     "name": "stderr",
     "output_type": "stream",
     "text": [
      "2023-09-13 18:19:59.794350: I tensorflow/compiler/xla/stream_executor/cuda/cuda_dnn.cc:432] Loaded cuDNN version 8600\n",
      "2023-09-13 18:20:02.303289: I tensorflow/compiler/xla/service/service.cc:168] XLA service 0x7f83f96780a0 initialized for platform CUDA (this does not guarantee that XLA will be used). Devices:\n",
      "2023-09-13 18:20:02.303312: I tensorflow/compiler/xla/service/service.cc:176]   StreamExecutor device (0): NVIDIA GeForce RTX 4090, Compute Capability 8.9\n",
      "2023-09-13 18:20:02.305756: I tensorflow/compiler/mlir/tensorflow/utils/dump_mlir_util.cc:255] disabling MLIR crash reproducer, set env var `MLIR_CRASH_REPRODUCER_DIRECTORY` to enable.\n",
      "2023-09-13 18:20:02.359195: I ./tensorflow/compiler/jit/device_compiler.h:186] Compiled cluster using XLA!  This line is logged at most once for the lifetime of the process.\n"
     ]
    },
    {
     "name": "stdout",
     "output_type": "stream",
     "text": [
      "100/100 [==============================] - ETA: 0s - loss: 0.9494 - sparse_categorical_accuracy: 0.5785INFO:tensorflow:Assets written to: oxford_seg/assets\n"
     ]
    },
    {
     "name": "stderr",
     "output_type": "stream",
     "text": [
      "INFO:tensorflow:Assets written to: oxford_seg/assets\n"
     ]
    },
    {
     "name": "stdout",
     "output_type": "stream",
     "text": [
      "100/100 [==============================] - 21s 144ms/step - loss: 0.9494 - sparse_categorical_accuracy: 0.5785 - val_loss: 0.9004 - val_sparse_categorical_accuracy: 0.5839\n",
      "Epoch 2/75\n",
      "100/100 [==============================] - ETA: 0s - loss: 0.8881 - sparse_categorical_accuracy: 0.5787INFO:tensorflow:Assets written to: oxford_seg/assets\n"
     ]
    },
    {
     "name": "stderr",
     "output_type": "stream",
     "text": [
      "INFO:tensorflow:Assets written to: oxford_seg/assets\n"
     ]
    },
    {
     "name": "stdout",
     "output_type": "stream",
     "text": [
      "100/100 [==============================] - 9s 95ms/step - loss: 0.8881 - sparse_categorical_accuracy: 0.5787 - val_loss: 0.8506 - val_sparse_categorical_accuracy: 0.5839\n",
      "Epoch 3/75\n",
      "100/100 [==============================] - ETA: 0s - loss: 0.8382 - sparse_categorical_accuracy: 0.5953INFO:tensorflow:Assets written to: oxford_seg/assets\n"
     ]
    },
    {
     "name": "stderr",
     "output_type": "stream",
     "text": [
      "INFO:tensorflow:Assets written to: oxford_seg/assets\n"
     ]
    },
    {
     "name": "stdout",
     "output_type": "stream",
     "text": [
      "100/100 [==============================] - 9s 95ms/step - loss: 0.8382 - sparse_categorical_accuracy: 0.5953 - val_loss: 0.8207 - val_sparse_categorical_accuracy: 0.6499\n",
      "Epoch 4/75\n",
      "100/100 [==============================] - ETA: 0s - loss: 0.8164 - sparse_categorical_accuracy: 0.6409INFO:tensorflow:Assets written to: oxford_seg/assets\n"
     ]
    },
    {
     "name": "stderr",
     "output_type": "stream",
     "text": [
      "INFO:tensorflow:Assets written to: oxford_seg/assets\n"
     ]
    },
    {
     "name": "stdout",
     "output_type": "stream",
     "text": [
      "100/100 [==============================] - 10s 96ms/step - loss: 0.8164 - sparse_categorical_accuracy: 0.6409 - val_loss: 0.7512 - val_sparse_categorical_accuracy: 0.6935\n",
      "Epoch 5/75\n",
      "100/100 [==============================] - 9s 88ms/step - loss: 0.7797 - sparse_categorical_accuracy: 0.6774 - val_loss: 0.8055 - val_sparse_categorical_accuracy: 0.6550\n",
      "Epoch 6/75\n",
      "100/100 [==============================] - ETA: 0s - loss: 0.7569 - sparse_categorical_accuracy: 0.6945INFO:tensorflow:Assets written to: oxford_seg/assets\n"
     ]
    },
    {
     "name": "stderr",
     "output_type": "stream",
     "text": [
      "INFO:tensorflow:Assets written to: oxford_seg/assets\n"
     ]
    },
    {
     "name": "stdout",
     "output_type": "stream",
     "text": [
      "100/100 [==============================] - 9s 95ms/step - loss: 0.7569 - sparse_categorical_accuracy: 0.6945 - val_loss: 0.7270 - val_sparse_categorical_accuracy: 0.7067\n",
      "Epoch 7/75\n",
      "100/100 [==============================] - 9s 88ms/step - loss: 0.7490 - sparse_categorical_accuracy: 0.6969 - val_loss: 0.7629 - val_sparse_categorical_accuracy: 0.6833\n",
      "Epoch 8/75\n",
      "100/100 [==============================] - ETA: 0s - loss: 0.7378 - sparse_categorical_accuracy: 0.6971INFO:tensorflow:Assets written to: oxford_seg/assets\n"
     ]
    },
    {
     "name": "stderr",
     "output_type": "stream",
     "text": [
      "INFO:tensorflow:Assets written to: oxford_seg/assets\n"
     ]
    },
    {
     "name": "stdout",
     "output_type": "stream",
     "text": [
      "100/100 [==============================] - 10s 96ms/step - loss: 0.7378 - sparse_categorical_accuracy: 0.6971 - val_loss: 0.7155 - val_sparse_categorical_accuracy: 0.7051\n",
      "Epoch 9/75\n",
      "100/100 [==============================] - ETA: 0s - loss: 0.7012 - sparse_categorical_accuracy: 0.7111INFO:tensorflow:Assets written to: oxford_seg/assets\n"
     ]
    },
    {
     "name": "stderr",
     "output_type": "stream",
     "text": [
      "INFO:tensorflow:Assets written to: oxford_seg/assets\n"
     ]
    },
    {
     "name": "stdout",
     "output_type": "stream",
     "text": [
      "100/100 [==============================] - 9s 95ms/step - loss: 0.7012 - sparse_categorical_accuracy: 0.7111 - val_loss: 0.6606 - val_sparse_categorical_accuracy: 0.7314\n",
      "Epoch 10/75\n",
      "100/100 [==============================] - ETA: 0s - loss: 0.6749 - sparse_categorical_accuracy: 0.7257INFO:tensorflow:Assets written to: oxford_seg/assets\n"
     ]
    },
    {
     "name": "stderr",
     "output_type": "stream",
     "text": [
      "INFO:tensorflow:Assets written to: oxford_seg/assets\n"
     ]
    },
    {
     "name": "stdout",
     "output_type": "stream",
     "text": [
      "100/100 [==============================] - 9s 95ms/step - loss: 0.6749 - sparse_categorical_accuracy: 0.7257 - val_loss: 0.6262 - val_sparse_categorical_accuracy: 0.7460\n",
      "Epoch 11/75\n",
      "100/100 [==============================] - 9s 87ms/step - loss: 0.6522 - sparse_categorical_accuracy: 0.7357 - val_loss: 0.6870 - val_sparse_categorical_accuracy: 0.7196\n",
      "Epoch 12/75\n",
      "100/100 [==============================] - 9s 88ms/step - loss: 0.6266 - sparse_categorical_accuracy: 0.7482 - val_loss: 0.6762 - val_sparse_categorical_accuracy: 0.7257\n",
      "Epoch 13/75\n",
      "100/100 [==============================] - ETA: 0s - loss: 0.6087 - sparse_categorical_accuracy: 0.7551INFO:tensorflow:Assets written to: oxford_seg/assets\n"
     ]
    },
    {
     "name": "stderr",
     "output_type": "stream",
     "text": [
      "INFO:tensorflow:Assets written to: oxford_seg/assets\n"
     ]
    },
    {
     "name": "stdout",
     "output_type": "stream",
     "text": [
      "100/100 [==============================] - 10s 96ms/step - loss: 0.6087 - sparse_categorical_accuracy: 0.7551 - val_loss: 0.5819 - val_sparse_categorical_accuracy: 0.7671\n",
      "Epoch 14/75\n",
      "100/100 [==============================] - ETA: 0s - loss: 0.5893 - sparse_categorical_accuracy: 0.7623INFO:tensorflow:Assets written to: oxford_seg/assets\n"
     ]
    },
    {
     "name": "stderr",
     "output_type": "stream",
     "text": [
      "INFO:tensorflow:Assets written to: oxford_seg/assets\n"
     ]
    },
    {
     "name": "stdout",
     "output_type": "stream",
     "text": [
      "100/100 [==============================] - 9s 95ms/step - loss: 0.5893 - sparse_categorical_accuracy: 0.7623 - val_loss: 0.5731 - val_sparse_categorical_accuracy: 0.7684\n",
      "Epoch 15/75\n",
      "100/100 [==============================] - ETA: 0s - loss: 0.5806 - sparse_categorical_accuracy: 0.7665INFO:tensorflow:Assets written to: oxford_seg/assets\n"
     ]
    },
    {
     "name": "stderr",
     "output_type": "stream",
     "text": [
      "INFO:tensorflow:Assets written to: oxford_seg/assets\n"
     ]
    },
    {
     "name": "stdout",
     "output_type": "stream",
     "text": [
      "100/100 [==============================] - 9s 95ms/step - loss: 0.5806 - sparse_categorical_accuracy: 0.7665 - val_loss: 0.5403 - val_sparse_categorical_accuracy: 0.7820\n",
      "Epoch 16/75\n",
      "100/100 [==============================] - 9s 88ms/step - loss: 0.5633 - sparse_categorical_accuracy: 0.7745 - val_loss: 0.5714 - val_sparse_categorical_accuracy: 0.7709\n",
      "Epoch 17/75\n",
      "100/100 [==============================] - 9s 91ms/step - loss: 0.5481 - sparse_categorical_accuracy: 0.7800 - val_loss: 0.5452 - val_sparse_categorical_accuracy: 0.7809\n",
      "Epoch 18/75\n",
      "100/100 [==============================] - ETA: 0s - loss: 0.5358 - sparse_categorical_accuracy: 0.7852INFO:tensorflow:Assets written to: oxford_seg/assets\n"
     ]
    },
    {
     "name": "stderr",
     "output_type": "stream",
     "text": [
      "INFO:tensorflow:Assets written to: oxford_seg/assets\n"
     ]
    },
    {
     "name": "stdout",
     "output_type": "stream",
     "text": [
      "100/100 [==============================] - 10s 98ms/step - loss: 0.5358 - sparse_categorical_accuracy: 0.7852 - val_loss: 0.4988 - val_sparse_categorical_accuracy: 0.8021\n",
      "Epoch 19/75\n",
      "100/100 [==============================] - 9s 91ms/step - loss: 0.5210 - sparse_categorical_accuracy: 0.7917 - val_loss: 0.5501 - val_sparse_categorical_accuracy: 0.7821\n",
      "Epoch 20/75\n",
      "100/100 [==============================] - 9s 88ms/step - loss: 0.5106 - sparse_categorical_accuracy: 0.7962 - val_loss: 0.5097 - val_sparse_categorical_accuracy: 0.7965\n",
      "Epoch 21/75\n",
      "100/100 [==============================] - 9s 89ms/step - loss: 0.5056 - sparse_categorical_accuracy: 0.7992 - val_loss: 0.5140 - val_sparse_categorical_accuracy: 0.7986\n",
      "Epoch 22/75\n",
      "100/100 [==============================] - ETA: 0s - loss: 0.4907 - sparse_categorical_accuracy: 0.8051INFO:tensorflow:Assets written to: oxford_seg/assets\n"
     ]
    },
    {
     "name": "stderr",
     "output_type": "stream",
     "text": [
      "INFO:tensorflow:Assets written to: oxford_seg/assets\n"
     ]
    },
    {
     "name": "stdout",
     "output_type": "stream",
     "text": [
      "100/100 [==============================] - 10s 96ms/step - loss: 0.4907 - sparse_categorical_accuracy: 0.8051 - val_loss: 0.4449 - val_sparse_categorical_accuracy: 0.8255\n",
      "Epoch 23/75\n",
      "100/100 [==============================] - 9s 91ms/step - loss: 0.4859 - sparse_categorical_accuracy: 0.8071 - val_loss: 0.5378 - val_sparse_categorical_accuracy: 0.7856\n",
      "Epoch 24/75\n",
      "100/100 [==============================] - 9s 90ms/step - loss: 0.4686 - sparse_categorical_accuracy: 0.8148 - val_loss: 0.4512 - val_sparse_categorical_accuracy: 0.8238\n",
      "Epoch 25/75\n",
      "100/100 [==============================] - ETA: 0s - loss: 0.4631 - sparse_categorical_accuracy: 0.8166INFO:tensorflow:Assets written to: oxford_seg/assets\n"
     ]
    },
    {
     "name": "stderr",
     "output_type": "stream",
     "text": [
      "INFO:tensorflow:Assets written to: oxford_seg/assets\n"
     ]
    },
    {
     "name": "stdout",
     "output_type": "stream",
     "text": [
      "100/100 [==============================] - 10s 96ms/step - loss: 0.4631 - sparse_categorical_accuracy: 0.8166 - val_loss: 0.4326 - val_sparse_categorical_accuracy: 0.8308\n",
      "Epoch 26/75\n",
      "100/100 [==============================] - ETA: 0s - loss: 0.4510 - sparse_categorical_accuracy: 0.8216INFO:tensorflow:Assets written to: oxford_seg/assets\n"
     ]
    },
    {
     "name": "stderr",
     "output_type": "stream",
     "text": [
      "INFO:tensorflow:Assets written to: oxford_seg/assets\n"
     ]
    },
    {
     "name": "stdout",
     "output_type": "stream",
     "text": [
      "100/100 [==============================] - 9s 95ms/step - loss: 0.4510 - sparse_categorical_accuracy: 0.8216 - val_loss: 0.4182 - val_sparse_categorical_accuracy: 0.8356\n",
      "Epoch 27/75\n",
      "100/100 [==============================] - ETA: 0s - loss: 0.4484 - sparse_categorical_accuracy: 0.8234INFO:tensorflow:Assets written to: oxford_seg/assets\n"
     ]
    },
    {
     "name": "stderr",
     "output_type": "stream",
     "text": [
      "INFO:tensorflow:Assets written to: oxford_seg/assets\n"
     ]
    },
    {
     "name": "stdout",
     "output_type": "stream",
     "text": [
      "100/100 [==============================] - 9s 95ms/step - loss: 0.4484 - sparse_categorical_accuracy: 0.8234 - val_loss: 0.4155 - val_sparse_categorical_accuracy: 0.8371\n",
      "Epoch 28/75\n",
      "100/100 [==============================] - 9s 89ms/step - loss: 0.4389 - sparse_categorical_accuracy: 0.8270 - val_loss: 0.5070 - val_sparse_categorical_accuracy: 0.7991\n",
      "Epoch 29/75\n",
      "100/100 [==============================] - 9s 89ms/step - loss: 0.4325 - sparse_categorical_accuracy: 0.8297 - val_loss: 0.4280 - val_sparse_categorical_accuracy: 0.8320\n",
      "Epoch 30/75\n",
      "100/100 [==============================] - ETA: 0s - loss: 0.4285 - sparse_categorical_accuracy: 0.8308INFO:tensorflow:Assets written to: oxford_seg/assets\n"
     ]
    },
    {
     "name": "stderr",
     "output_type": "stream",
     "text": [
      "INFO:tensorflow:Assets written to: oxford_seg/assets\n"
     ]
    },
    {
     "name": "stdout",
     "output_type": "stream",
     "text": [
      "100/100 [==============================] - 10s 99ms/step - loss: 0.4285 - sparse_categorical_accuracy: 0.8308 - val_loss: 0.4023 - val_sparse_categorical_accuracy: 0.8430\n",
      "Epoch 31/75\n",
      "100/100 [==============================] - 9s 94ms/step - loss: 0.4207 - sparse_categorical_accuracy: 0.8347 - val_loss: 0.4151 - val_sparse_categorical_accuracy: 0.8377\n",
      "Epoch 32/75\n",
      "100/100 [==============================] - 9s 90ms/step - loss: 0.4103 - sparse_categorical_accuracy: 0.8389 - val_loss: 0.4526 - val_sparse_categorical_accuracy: 0.8214\n",
      "Epoch 33/75\n",
      "100/100 [==============================] - 9s 92ms/step - loss: 0.4022 - sparse_categorical_accuracy: 0.8422 - val_loss: 0.4663 - val_sparse_categorical_accuracy: 0.8138\n",
      "Epoch 34/75\n",
      "100/100 [==============================] - ETA: 0s - loss: 0.3949 - sparse_categorical_accuracy: 0.8455INFO:tensorflow:Assets written to: oxford_seg/assets\n"
     ]
    },
    {
     "name": "stderr",
     "output_type": "stream",
     "text": [
      "INFO:tensorflow:Assets written to: oxford_seg/assets\n"
     ]
    },
    {
     "name": "stdout",
     "output_type": "stream",
     "text": [
      "100/100 [==============================] - 10s 99ms/step - loss: 0.3949 - sparse_categorical_accuracy: 0.8455 - val_loss: 0.3854 - val_sparse_categorical_accuracy: 0.8510\n",
      "Epoch 35/75\n",
      "100/100 [==============================] - ETA: 0s - loss: 0.3951 - sparse_categorical_accuracy: 0.8448INFO:tensorflow:Assets written to: oxford_seg/assets\n"
     ]
    },
    {
     "name": "stderr",
     "output_type": "stream",
     "text": [
      "INFO:tensorflow:Assets written to: oxford_seg/assets\n"
     ]
    },
    {
     "name": "stdout",
     "output_type": "stream",
     "text": [
      "100/100 [==============================] - 10s 99ms/step - loss: 0.3951 - sparse_categorical_accuracy: 0.8448 - val_loss: 0.3799 - val_sparse_categorical_accuracy: 0.8525\n",
      "Epoch 36/75\n",
      "100/100 [==============================] - 9s 90ms/step - loss: 0.3830 - sparse_categorical_accuracy: 0.8504 - val_loss: 0.3805 - val_sparse_categorical_accuracy: 0.8525\n",
      "Epoch 37/75\n",
      "100/100 [==============================] - ETA: 0s - loss: 0.3796 - sparse_categorical_accuracy: 0.8516INFO:tensorflow:Assets written to: oxford_seg/assets\n"
     ]
    },
    {
     "name": "stderr",
     "output_type": "stream",
     "text": [
      "INFO:tensorflow:Assets written to: oxford_seg/assets\n"
     ]
    },
    {
     "name": "stdout",
     "output_type": "stream",
     "text": [
      "100/100 [==============================] - 10s 99ms/step - loss: 0.3796 - sparse_categorical_accuracy: 0.8516 - val_loss: 0.3702 - val_sparse_categorical_accuracy: 0.8562\n",
      "Epoch 38/75\n",
      "100/100 [==============================] - 9s 91ms/step - loss: 0.3697 - sparse_categorical_accuracy: 0.8552 - val_loss: 0.4522 - val_sparse_categorical_accuracy: 0.8245\n",
      "Epoch 39/75\n",
      "100/100 [==============================] - 9s 93ms/step - loss: 0.3713 - sparse_categorical_accuracy: 0.8548 - val_loss: 0.4596 - val_sparse_categorical_accuracy: 0.8146\n",
      "Epoch 40/75\n",
      "100/100 [==============================] - 9s 89ms/step - loss: 0.3622 - sparse_categorical_accuracy: 0.8583 - val_loss: 0.3780 - val_sparse_categorical_accuracy: 0.8545\n",
      "Epoch 41/75\n",
      "100/100 [==============================] - 9s 89ms/step - loss: 0.3604 - sparse_categorical_accuracy: 0.8593 - val_loss: 0.4048 - val_sparse_categorical_accuracy: 0.8441\n",
      "Epoch 42/75\n",
      "100/100 [==============================] - 9s 91ms/step - loss: 0.3535 - sparse_categorical_accuracy: 0.8619 - val_loss: 0.3986 - val_sparse_categorical_accuracy: 0.8438\n",
      "Epoch 43/75\n",
      "100/100 [==============================] - 9s 90ms/step - loss: 0.3463 - sparse_categorical_accuracy: 0.8649 - val_loss: 0.3772 - val_sparse_categorical_accuracy: 0.8521\n",
      "Epoch 44/75\n",
      "100/100 [==============================] - ETA: 0s - loss: 0.3404 - sparse_categorical_accuracy: 0.8674INFO:tensorflow:Assets written to: oxford_seg/assets\n"
     ]
    },
    {
     "name": "stderr",
     "output_type": "stream",
     "text": [
      "INFO:tensorflow:Assets written to: oxford_seg/assets\n"
     ]
    },
    {
     "name": "stdout",
     "output_type": "stream",
     "text": [
      "100/100 [==============================] - 10s 98ms/step - loss: 0.3404 - sparse_categorical_accuracy: 0.8674 - val_loss: 0.3633 - val_sparse_categorical_accuracy: 0.8603\n",
      "Epoch 45/75\n",
      "100/100 [==============================] - 9s 91ms/step - loss: 0.3370 - sparse_categorical_accuracy: 0.8687 - val_loss: 0.3687 - val_sparse_categorical_accuracy: 0.8592\n",
      "Epoch 46/75\n",
      "100/100 [==============================] - 9s 93ms/step - loss: 0.3267 - sparse_categorical_accuracy: 0.8725 - val_loss: 0.3677 - val_sparse_categorical_accuracy: 0.8590\n",
      "Epoch 47/75\n",
      "100/100 [==============================] - 9s 92ms/step - loss: 0.3202 - sparse_categorical_accuracy: 0.8749 - val_loss: 0.4862 - val_sparse_categorical_accuracy: 0.8151\n",
      "Epoch 48/75\n",
      "100/100 [==============================] - 9s 92ms/step - loss: 0.3183 - sparse_categorical_accuracy: 0.8757 - val_loss: 0.3714 - val_sparse_categorical_accuracy: 0.8599\n",
      "Epoch 49/75\n",
      "100/100 [==============================] - ETA: 0s - loss: 0.3166 - sparse_categorical_accuracy: 0.8764INFO:tensorflow:Assets written to: oxford_seg/assets\n"
     ]
    },
    {
     "name": "stderr",
     "output_type": "stream",
     "text": [
      "INFO:tensorflow:Assets written to: oxford_seg/assets\n"
     ]
    },
    {
     "name": "stdout",
     "output_type": "stream",
     "text": [
      "100/100 [==============================] - 10s 100ms/step - loss: 0.3166 - sparse_categorical_accuracy: 0.8764 - val_loss: 0.3524 - val_sparse_categorical_accuracy: 0.8638\n",
      "Epoch 50/75\n",
      "100/100 [==============================] - 9s 93ms/step - loss: 0.3027 - sparse_categorical_accuracy: 0.8817 - val_loss: 0.3616 - val_sparse_categorical_accuracy: 0.8637\n",
      "Epoch 51/75\n",
      "100/100 [==============================] - 9s 92ms/step - loss: 0.3020 - sparse_categorical_accuracy: 0.8823 - val_loss: 0.4413 - val_sparse_categorical_accuracy: 0.8265\n",
      "Epoch 52/75\n",
      "100/100 [==============================] - 9s 91ms/step - loss: 0.2978 - sparse_categorical_accuracy: 0.8841 - val_loss: 0.3606 - val_sparse_categorical_accuracy: 0.8633\n",
      "Epoch 53/75\n",
      "100/100 [==============================] - 9s 88ms/step - loss: 0.2900 - sparse_categorical_accuracy: 0.8868 - val_loss: 0.4528 - val_sparse_categorical_accuracy: 0.8312\n",
      "Epoch 54/75\n",
      "100/100 [==============================] - 9s 88ms/step - loss: 0.2851 - sparse_categorical_accuracy: 0.8887 - val_loss: 0.3636 - val_sparse_categorical_accuracy: 0.8591\n",
      "Epoch 55/75\n",
      "100/100 [==============================] - 9s 88ms/step - loss: 0.2850 - sparse_categorical_accuracy: 0.8887 - val_loss: 0.3827 - val_sparse_categorical_accuracy: 0.8570\n",
      "Epoch 56/75\n",
      "100/100 [==============================] - 9s 89ms/step - loss: 0.2736 - sparse_categorical_accuracy: 0.8932 - val_loss: 0.3893 - val_sparse_categorical_accuracy: 0.8553\n",
      "Epoch 57/75\n",
      "100/100 [==============================] - 9s 89ms/step - loss: 0.2702 - sparse_categorical_accuracy: 0.8946 - val_loss: 0.5286 - val_sparse_categorical_accuracy: 0.8185\n",
      "Epoch 58/75\n",
      "100/100 [==============================] - 9s 88ms/step - loss: 0.2694 - sparse_categorical_accuracy: 0.8952 - val_loss: 0.3642 - val_sparse_categorical_accuracy: 0.8632\n",
      "Epoch 59/75\n",
      "100/100 [==============================] - 9s 89ms/step - loss: 0.2711 - sparse_categorical_accuracy: 0.8949 - val_loss: 0.3596 - val_sparse_categorical_accuracy: 0.8665\n",
      "Epoch 60/75\n",
      "100/100 [==============================] - 9s 89ms/step - loss: 0.2512 - sparse_categorical_accuracy: 0.9016 - val_loss: 0.3686 - val_sparse_categorical_accuracy: 0.8679\n",
      "Epoch 61/75\n",
      "100/100 [==============================] - 9s 89ms/step - loss: 0.2486 - sparse_categorical_accuracy: 0.9032 - val_loss: 0.4090 - val_sparse_categorical_accuracy: 0.8620\n",
      "Epoch 62/75\n",
      "100/100 [==============================] - 9s 89ms/step - loss: 0.2469 - sparse_categorical_accuracy: 0.9034 - val_loss: 0.3771 - val_sparse_categorical_accuracy: 0.8637\n",
      "Epoch 63/75\n",
      "100/100 [==============================] - 9s 89ms/step - loss: 0.2371 - sparse_categorical_accuracy: 0.9072 - val_loss: 0.3958 - val_sparse_categorical_accuracy: 0.8606\n",
      "Epoch 64/75\n",
      "100/100 [==============================] - 9s 89ms/step - loss: 0.2415 - sparse_categorical_accuracy: 0.9054 - val_loss: 0.3832 - val_sparse_categorical_accuracy: 0.8670\n",
      "Epoch 65/75\n",
      "100/100 [==============================] - 9s 90ms/step - loss: 0.2279 - sparse_categorical_accuracy: 0.9106 - val_loss: 0.4018 - val_sparse_categorical_accuracy: 0.8565\n",
      "Epoch 66/75\n",
      "100/100 [==============================] - 9s 91ms/step - loss: 0.2241 - sparse_categorical_accuracy: 0.9121 - val_loss: 0.4301 - val_sparse_categorical_accuracy: 0.8609\n",
      "Epoch 67/75\n",
      "100/100 [==============================] - 9s 90ms/step - loss: 0.2199 - sparse_categorical_accuracy: 0.9135 - val_loss: 0.4005 - val_sparse_categorical_accuracy: 0.8641\n",
      "Epoch 68/75\n",
      "100/100 [==============================] - 10s 102ms/step - loss: 0.2169 - sparse_categorical_accuracy: 0.9149 - val_loss: 0.5056 - val_sparse_categorical_accuracy: 0.8419\n",
      "Epoch 69/75\n",
      "100/100 [==============================] - 9s 92ms/step - loss: 0.2151 - sparse_categorical_accuracy: 0.9156 - val_loss: 0.4228 - val_sparse_categorical_accuracy: 0.8638\n",
      "Epoch 70/75\n",
      "100/100 [==============================] - 9s 90ms/step - loss: 0.2037 - sparse_categorical_accuracy: 0.9197 - val_loss: 0.4211 - val_sparse_categorical_accuracy: 0.8661\n",
      "Epoch 71/75\n",
      "100/100 [==============================] - 10s 96ms/step - loss: 0.2064 - sparse_categorical_accuracy: 0.9187 - val_loss: 0.4187 - val_sparse_categorical_accuracy: 0.8638\n",
      "Epoch 72/75\n",
      "100/100 [==============================] - 9s 93ms/step - loss: 0.1960 - sparse_categorical_accuracy: 0.9229 - val_loss: 0.4609 - val_sparse_categorical_accuracy: 0.8373\n",
      "Epoch 73/75\n",
      "100/100 [==============================] - 9s 91ms/step - loss: 0.1979 - sparse_categorical_accuracy: 0.9222 - val_loss: 0.3979 - val_sparse_categorical_accuracy: 0.8652\n",
      "Epoch 74/75\n",
      "100/100 [==============================] - 9s 88ms/step - loss: 0.2012 - sparse_categorical_accuracy: 0.9213 - val_loss: 0.4269 - val_sparse_categorical_accuracy: 0.8423\n",
      "Epoch 75/75\n",
      "100/100 [==============================] - 9s 88ms/step - loss: 0.1838 - sparse_categorical_accuracy: 0.9275 - val_loss: 0.6384 - val_sparse_categorical_accuracy: 0.8142\n"
     ]
    }
   ],
   "source": [
    "model.compile(optimizer=optimizers.RMSprop(),\n",
    "              loss=losses.SparseCategoricalCrossentropy(),\n",
    "              metrics=[metrics.SparseCategoricalAccuracy()])\n",
    "\n",
    "callback_list = [\n",
    "    callbacks.ModelCheckpoint('oxford_seg', save_best_only='True')\n",
    "]\n",
    "\n",
    "history = model.fit(train_input_imgs, train_targets, epochs=75, callbacks=callback_list, batch_size=64, validation_data=(val_input_imgs, val_targets))"
   ]
  },
  {
   "cell_type": "code",
   "execution_count": 8,
   "metadata": {},
   "outputs": [
    {
     "data": {
      "text/plain": [
       "array([[0.94941217, 0.9004178 ],\n",
       "       [0.88810891, 0.85058576],\n",
       "       [0.83822805, 0.8207345 ],\n",
       "       [0.8164494 , 0.75118929],\n",
       "       [0.77966183, 0.80545259],\n",
       "       [0.75686526, 0.7270115 ],\n",
       "       [0.74901134, 0.76294994],\n",
       "       [0.73784196, 0.71550262],\n",
       "       [0.70118213, 0.66059393],\n",
       "       [0.67487323, 0.62622344],\n",
       "       [0.65223879, 0.68698376],\n",
       "       [0.6266169 , 0.67619514],\n",
       "       [0.6087119 , 0.58191288],\n",
       "       [0.58925921, 0.57313138],\n",
       "       [0.58059108, 0.54026204],\n",
       "       [0.56327313, 0.57143748],\n",
       "       [0.5481444 , 0.54517311],\n",
       "       [0.53583288, 0.49879268],\n",
       "       [0.52101809, 0.55010796],\n",
       "       [0.51055378, 0.50971937],\n",
       "       [0.50559086, 0.51395476],\n",
       "       [0.49070859, 0.44492483],\n",
       "       [0.4858672 , 0.53782308],\n",
       "       [0.46859095, 0.4511627 ],\n",
       "       [0.46311232, 0.43264401],\n",
       "       [0.45104712, 0.41821459],\n",
       "       [0.44843879, 0.41552025],\n",
       "       [0.43893486, 0.50702894],\n",
       "       [0.43246162, 0.42800742],\n",
       "       [0.42854062, 0.40231466],\n",
       "       [0.42069796, 0.41510347],\n",
       "       [0.41028619, 0.45255753],\n",
       "       [0.40221411, 0.46628559],\n",
       "       [0.3949334 , 0.38537934],\n",
       "       [0.395109  , 0.37990409],\n",
       "       [0.38304013, 0.38054606],\n",
       "       [0.37963775, 0.37019253],\n",
       "       [0.36973718, 0.45219523],\n",
       "       [0.37128338, 0.45955029],\n",
       "       [0.36221558, 0.37799099],\n",
       "       [0.36036077, 0.40479767],\n",
       "       [0.35348547, 0.39863187],\n",
       "       [0.34631962, 0.37722117],\n",
       "       [0.3403534 , 0.36326337],\n",
       "       [0.33697909, 0.36872345],\n",
       "       [0.32673526, 0.36768177],\n",
       "       [0.32021594, 0.48620427],\n",
       "       [0.31833306, 0.37139833],\n",
       "       [0.31660867, 0.35244638],\n",
       "       [0.30268529, 0.36164272],\n",
       "       [0.30199611, 0.44132808],\n",
       "       [0.29782221, 0.36057758],\n",
       "       [0.29001975, 0.45284954],\n",
       "       [0.28512287, 0.36363479],\n",
       "       [0.28497565, 0.38273349],\n",
       "       [0.27360171, 0.38934743],\n",
       "       [0.27015463, 0.52861482],\n",
       "       [0.26940677, 0.36420175],\n",
       "       [0.27106583, 0.35962465],\n",
       "       [0.25116894, 0.36857867],\n",
       "       [0.24855818, 0.40898725],\n",
       "       [0.24685785, 0.37714621],\n",
       "       [0.23711628, 0.39576715],\n",
       "       [0.24150601, 0.38320369],\n",
       "       [0.22787035, 0.40177763],\n",
       "       [0.22405814, 0.43009007],\n",
       "       [0.21994258, 0.40054947],\n",
       "       [0.21694532, 0.5055694 ],\n",
       "       [0.215141  , 0.42278865],\n",
       "       [0.20368625, 0.42106983],\n",
       "       [0.2063587 , 0.4187341 ],\n",
       "       [0.19601525, 0.46092167],\n",
       "       [0.19789189, 0.39786577],\n",
       "       [0.20124485, 0.42690676],\n",
       "       [0.18379088, 0.63837236]])"
      ]
     },
     "execution_count": 8,
     "metadata": {},
     "output_type": "execute_result"
    },
    {
     "data": {
      "image/png": "[encoded data removed]",
      "text/plain": [
       "<Figure size 640x480 with 1 Axes>"
      ]
     },
     "metadata": {},
     "output_type": "display_data"
    }
   ],
   "source": [
    "epochs = range(1, len(history.history['loss']) + 1)\n",
    "loss = history.history['loss']\n",
    "val_loss = history.history['val_loss']\n",
    "plt.figure()\n",
    "plt.plot(epochs, loss, 'bo', label='Training loss')\n",
    "plt.plot(epochs, val_loss, 'b', label='Validation loss')\n",
    "plt.title('Training and validation loss')\n",
    "plt.legend()\n",
    "np.array([history.history['loss'], history.history['val_loss']]).T"
   ]
  },
  {
   "cell_type": "code",
   "execution_count": 9,
   "metadata": {},
   "outputs": [
    {
     "data": {
      "text/plain": [
       "array([[0.57847154, 0.58390915],\n",
       "       [0.57874984, 0.58390915],\n",
       "       [0.59533536, 0.6499458 ],\n",
       "       [0.64090598, 0.69350427],\n",
       "       [0.67740715, 0.65495181],\n",
       "       [0.69454038, 0.70670891],\n",
       "       [0.6969018 , 0.68329722],\n",
       "       [0.69711387, 0.70509511],\n",
       "       [0.71111894, 0.73137182],\n",
       "       [0.72574311, 0.74603802],\n",
       "       [0.73572958, 0.71959382],\n",
       "       [0.74821335, 0.72569221],\n",
       "       [0.75507092, 0.76710141],\n",
       "       [0.76233512, 0.76843518],\n",
       "       [0.7664969 , 0.78200555],\n",
       "       [0.7744925 , 0.77090722],\n",
       "       [0.77995396, 0.78094006],\n",
       "       [0.78516167, 0.80207771],\n",
       "       [0.79174519, 0.78205669],\n",
       "       [0.79620314, 0.79648489],\n",
       "       [0.79919237, 0.79864752],\n",
       "       [0.80506098, 0.82548523],\n",
       "       [0.80708277, 0.78560406],\n",
       "       [0.8148067 , 0.823834  ],\n",
       "       [0.81662488, 0.83076799],\n",
       "       [0.82160693, 0.83562267],\n",
       "       [0.82341135, 0.83705902],\n",
       "       [0.82699662, 0.79906261],\n",
       "       [0.82973713, 0.8320362 ],\n",
       "       [0.83082712, 0.84297478],\n",
       "       [0.83470684, 0.8376646 ],\n",
       "       [0.8389138 , 0.8213526 ],\n",
       "       [0.84221882, 0.81375319],\n",
       "       [0.8455056 , 0.85104418],\n",
       "       [0.84476769, 0.85252291],\n",
       "       [0.85044825, 0.85249311],\n",
       "       [0.85159403, 0.85615939],\n",
       "       [0.85519528, 0.82450175],\n",
       "       [0.85477346, 0.81459665],\n",
       "       [0.85825264, 0.85447901],\n",
       "       [0.85932052, 0.84410262],\n",
       "       [0.86189663, 0.8437826 ],\n",
       "       [0.86494154, 0.85210311],\n",
       "       [0.86742401, 0.86028421],\n",
       "       [0.86871219, 0.85917199],\n",
       "       [0.87251616, 0.85903502],\n",
       "       [0.87492442, 0.815135  ],\n",
       "       [0.87573999, 0.859873  ],\n",
       "       [0.87640417, 0.86382979],\n",
       "       [0.88170844, 0.8637439 ],\n",
       "       [0.88232177, 0.82648432],\n",
       "       [0.8840996 , 0.86328661],\n",
       "       [0.8868404 , 0.83121848],\n",
       "       [0.88873518, 0.85910732],\n",
       "       [0.88869923, 0.85696203],\n",
       "       [0.893197  , 0.85527098],\n",
       "       [0.8945694 , 0.81851572],\n",
       "       [0.89517242, 0.86323428],\n",
       "       [0.89490271, 0.86654222],\n",
       "       [0.9016161 , 0.8678751 ],\n",
       "       [0.90320265, 0.8619625 ],\n",
       "       [0.90337163, 0.86371922],\n",
       "       [0.90717041, 0.86056483],\n",
       "       [0.90542924, 0.86702353],\n",
       "       [0.91064173, 0.8565163 ],\n",
       "       [0.91210467, 0.8608582 ],\n",
       "       [0.91353232, 0.86410141],\n",
       "       [0.91487563, 0.8419078 ],\n",
       "       [0.91560924, 0.86379588],\n",
       "       [0.91969907, 0.86606002],\n",
       "       [0.91874027, 0.86380923],\n",
       "       [0.92287087, 0.83731818],\n",
       "       [0.92217398, 0.86524087],\n",
       "       [0.92125815, 0.84227711],\n",
       "       [0.92754328, 0.81416178]])"
      ]
     },
     "execution_count": 9,
     "metadata": {},
     "output_type": "execute_result"
    },
    {
     "data": {
      "image/png": "[encoded data removed]",
      "text/plain": [
       "<Figure size 640x480 with 1 Axes>"
      ]
     },
     "metadata": {},
     "output_type": "display_data"
    }
   ],
   "source": [
    "epochs = range(1, len(history.history['sparse_categorical_accuracy']) + 1)\n",
    "accuracy = history.history['sparse_categorical_accuracy']\n",
    "val_accuracy = history.history['val_sparse_categorical_accuracy']\n",
    "plt.figure()\n",
    "plt.plot(epochs, accuracy, 'bo', label='Training accuracy')\n",
    "plt.plot(epochs, val_accuracy, 'b', label='Validation accuracy')\n",
    "plt.title('Training and validation accuracy')\n",
    "plt.legend()\n",
    "np.array([history.history['sparse_categorical_accuracy'], history.history['val_sparse_categorical_accuracy']]).T"
   ]
  }
 ],
 "metadata": {
  "kernelspec": {
   "display_name": "Python 3 (ipykernel)",
   "language": "python",
   "name": "python3"
  },
  "language_info": {
   "codemirror_mode": {
    "name": "ipython",
    "version": 3
   },
   "file_extension": ".py",
   "mimetype": "text/x-python",
   "name": "python",
   "nbconvert_exporter": "python",
   "pygments_lexer": "ipython3",
   "version": "3.8.10"
  }
 },
 "nbformat": 4,
 "nbformat_minor": 2
}
