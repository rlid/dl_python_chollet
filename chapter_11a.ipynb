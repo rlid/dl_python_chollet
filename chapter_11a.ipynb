{
 "cells": [
  {
   "cell_type": "code",
   "execution_count": 1,
   "metadata": {},
   "outputs": [
    {
     "name": "stdout",
     "output_type": "stream",
     "text": [
      "I first saw this back in the early 90s on UK TV, i did like it then but i missed the chance to tape it, many years passed but the film always stuck with me and i lost hope of seeing it TV again, the main thing that stuck with me was the end, the hole castle part really touched me, its easy to watch, has a great story, great music, the list goes on and on, its OK me saying how good it is but everyone will take there own best bits away with them once they have seen it, yes the animation is top notch and beautiful to watch, it does show its age in a very few parts but that has now become part of it beauty, i am so glad it has came out on DVD as it is one of my top 10 films of all time. Buy it or rent it just see it, best viewing is at night alone with drink and food in reach so you don't have to stop the film.<br /><br />Enjoy"
     ]
    }
   ],
   "source": [
    "#!curl -O https://ai.stanford.edu/~amaas/data/sentiment/aclImdb_v1.tar.gz\n",
    "#!tar -xf aclImdb_v1.tar.gz\n",
    "#!rm -r aclImdb/train/unsup\n",
    "!cat aclImdb/train/pos/4077_10.txt"
   ]
  },
  {
   "cell_type": "code",
   "execution_count": 2,
   "metadata": {},
   "outputs": [
    {
     "ename": "FileExistsError",
     "evalue": "[Errno 17] File exists: 'aclImdb/val/neg'",
     "output_type": "error",
     "traceback": [
      "\u001b[0;31m---------------------------------------------------------------------------\u001b[0m",
      "\u001b[0;31mFileExistsError\u001b[0m                           Traceback (most recent call last)",
      "\u001b[1;32m/home/rli/src/dl_python_chollet/chapter_11a.ipynb Cell 2\u001b[0m line \u001b[0;36m7\n\u001b[1;32m      <a href='vscode-notebook-cell:/home/rli/src/dl_python_chollet/chapter_11a.ipynb#W1sZmlsZQ%3D%3D?line=4'>5</a>\u001b[0m train_dir \u001b[39m=\u001b[39m base_dir \u001b[39m/\u001b[39m \u001b[39m'\u001b[39m\u001b[39mtrain\u001b[39m\u001b[39m'\u001b[39m\n\u001b[1;32m      <a href='vscode-notebook-cell:/home/rli/src/dl_python_chollet/chapter_11a.ipynb#W1sZmlsZQ%3D%3D?line=5'>6</a>\u001b[0m \u001b[39mfor\u001b[39;00m category \u001b[39min\u001b[39;00m (\u001b[39m'\u001b[39m\u001b[39mneg\u001b[39m\u001b[39m'\u001b[39m, \u001b[39m'\u001b[39m\u001b[39mpos\u001b[39m\u001b[39m'\u001b[39m):\n\u001b[0;32m----> <a href='vscode-notebook-cell:/home/rli/src/dl_python_chollet/chapter_11a.ipynb#W1sZmlsZQ%3D%3D?line=6'>7</a>\u001b[0m     os\u001b[39m.\u001b[39;49mmakedirs(val_dir \u001b[39m/\u001b[39;49m category)\n\u001b[1;32m      <a href='vscode-notebook-cell:/home/rli/src/dl_python_chollet/chapter_11a.ipynb#W1sZmlsZQ%3D%3D?line=7'>8</a>\u001b[0m     files \u001b[39m=\u001b[39m os\u001b[39m.\u001b[39mlistdir(train_dir \u001b[39m/\u001b[39m category)\n\u001b[1;32m      <a href='vscode-notebook-cell:/home/rli/src/dl_python_chollet/chapter_11a.ipynb#W1sZmlsZQ%3D%3D?line=8'>9</a>\u001b[0m     random\u001b[39m.\u001b[39mRandom(\u001b[39m1337\u001b[39m)\u001b[39m.\u001b[39mshuffle(files)\n",
      "File \u001b[0;32m<frozen os>:225\u001b[0m, in \u001b[0;36mmakedirs\u001b[0;34m(name, mode, exist_ok)\u001b[0m\n",
      "\u001b[0;31mFileExistsError\u001b[0m: [Errno 17] File exists: 'aclImdb/val/neg'"
     ]
    }
   ],
   "source": [
    "import os, pathlib, shutil, random\n",
    "\n",
    "base_dir = pathlib.Path('aclImdb')\n",
    "val_dir = base_dir / 'val'\n",
    "train_dir = base_dir / 'train'\n",
    "for category in ('neg', 'pos'):\n",
    "    os.makedirs(val_dir / category)\n",
    "    files = os.listdir(train_dir / category)\n",
    "    random.Random(1337).shuffle(files)\n",
    "    n_val_samples = int(0.2 * len(files))\n",
    "    val_files = files[-n_val_samples:]\n",
    "    for filename in val_files:\n",
    "        shutil.move(train_dir / category / filename, val_dir / category / filename)"
   ]
  },
  {
   "cell_type": "code",
   "execution_count": 3,
   "metadata": {},
   "outputs": [
    {
     "name": "stderr",
     "output_type": "stream",
     "text": [
      "2023-09-20 16:51:55.822951: I tensorflow/tsl/cuda/cudart_stub.cc:28] Could not find cuda drivers on your machine, GPU will not be used.\n",
      "2023-09-20 16:51:55.844916: I tensorflow/tsl/cuda/cudart_stub.cc:28] Could not find cuda drivers on your machine, GPU will not be used.\n",
      "2023-09-20 16:51:55.845362: I tensorflow/core/platform/cpu_feature_guard.cc:182] This TensorFlow binary is optimized to use available CPU instructions in performance-critical operations.\n",
      "To enable the following instructions: AVX2 FMA, in other operations, rebuild TensorFlow with the appropriate compiler flags.\n",
      "2023-09-20 16:51:56.325097: W tensorflow/compiler/tf2tensorrt/utils/py_utils.cc:38] TF-TRT Warning: Could not find TensorRT\n"
     ]
    },
    {
     "name": "stdout",
     "output_type": "stream",
     "text": [
      "Found 20000 files belonging to 2 classes.\n",
      "Found 5000 files belonging to 2 classes.\n"
     ]
    },
    {
     "name": "stderr",
     "output_type": "stream",
     "text": [
      "2023-09-20 16:51:57.074229: I tensorflow/compiler/xla/stream_executor/cuda/cuda_gpu_executor.cc:995] successful NUMA node read from SysFS had negative value (-1), but there must be at least one NUMA node, so returning NUMA node zero. See more at https://github.com/torvalds/linux/blob/v6.0/Documentation/ABI/testing/sysfs-bus-pci#L344-L355\n",
      "2023-09-20 16:51:57.074480: W tensorflow/core/common_runtime/gpu/gpu_device.cc:1960] Cannot dlopen some GPU libraries. Please make sure the missing libraries mentioned above are installed properly if you would like to use GPU. Follow the guide at https://www.tensorflow.org/install/gpu for how to download and setup the required libraries for your platform.\n",
      "Skipping registering GPU devices...\n"
     ]
    },
    {
     "name": "stdout",
     "output_type": "stream",
     "text": [
      "Found 25000 files belonging to 2 classes.\n"
     ]
    }
   ],
   "source": [
    "from tensorflow import keras\n",
    "batch_size = 32\n",
    "\n",
    "train_ds = keras.utils.text_dataset_from_directory(\n",
    "    'aclImdb/train', batch_size=batch_size\n",
    ")\n",
    "\n",
    "val_ds = keras.utils.text_dataset_from_directory(\n",
    "    'aclImdb/val', batch_size=batch_size\n",
    ")\n",
    "\n",
    "test_ds = keras.utils.text_dataset_from_directory(\n",
    "    'aclImdb/test', batch_size=batch_size\n",
    ")"
   ]
  },
  {
   "cell_type": "code",
   "execution_count": 4,
   "metadata": {},
   "outputs": [
    {
     "name": "stdout",
     "output_type": "stream",
     "text": [
      "(32,) <dtype: 'string'> tf.Tensor(b'I first saw this movie when I was a little kid and fell in love with it at once. The sets are breath taking and some of the script is damn right hilarious: \"You sons of a thousand fleas\".<br /><br />It is always shown on TV late at night or really early in the morning i woke up at about 3:00 am once and it had just started. TV companys need to show a little more respect and put it on prime time Sunday so everyone can get a chance to view this fine work.<br /><br />10/10', shape=(), dtype=string)\n",
      "(32,) <dtype: 'int32'> tf.Tensor(1, shape=(), dtype=int32)\n"
     ]
    }
   ],
   "source": [
    "for inputs, targets in train_ds:\n",
    "    print(inputs.shape, inputs.dtype, inputs[0])\n",
    "    print(targets.shape, targets.dtype, targets[0])\n",
    "    break"
   ]
  },
  {
   "cell_type": "code",
   "execution_count": 5,
   "metadata": {},
   "outputs": [],
   "source": [
    "from keras import layers\n",
    "\n",
    "text_vectorization = layers.TextVectorization(max_tokens=20000, output_mode='multi_hot')\n",
    "text_only_train_ds = train_ds.map(lambda x, y: x)\n",
    "text_vectorization.adapt(text_only_train_ds)\n",
    "\n",
    "binary_1gram_train_ds = train_ds.map(lambda x, y: (text_vectorization(x), y), num_parallel_calls=16)\n",
    "binary_1gram_val_ds = val_ds.map(lambda x, y: (text_vectorization(x), y), num_parallel_calls=16)\n",
    "binary_1gram_test_ds = test_ds.map(lambda x, y: (text_vectorization(x), y), num_parallel_calls=16)"
   ]
  },
  {
   "cell_type": "code",
   "execution_count": 6,
   "metadata": {},
   "outputs": [
    {
     "name": "stdout",
     "output_type": "stream",
     "text": [
      "(32, 20000) <dtype: 'float32'> tf.Tensor([1. 1. 1. ... 0. 0. 0.], shape=(20000,), dtype=float32)\n",
      "(32,) <dtype: 'int32'> tf.Tensor(1, shape=(), dtype=int32)\n"
     ]
    }
   ],
   "source": [
    "for inputs, targets in binary_1gram_train_ds:\n",
    "    print(inputs.shape, inputs.dtype, inputs[0])\n",
    "    print(targets.shape, targets.dtype, targets[0])\n",
    "    break"
   ]
  },
  {
   "cell_type": "code",
   "execution_count": 7,
   "metadata": {},
   "outputs": [],
   "source": [
    "import keras\n",
    "from keras import layers, activations, optimizers, losses, metrics, callbacks\n",
    "\n",
    "def get_model(max_tokens=20000, hidden_dim=16):\n",
    "    inputs = layers.Input(shape=(max_tokens,))\n",
    "    x = layers.Dense(hidden_dim, activation=activations.relu)(inputs)\n",
    "    x = layers.Dropout(0.5)(x)\n",
    "    outputs = layers.Dense(1, activation=activations.sigmoid)(x)\n",
    "    model = keras.Model(inputs, outputs)\n",
    "    model.compile(optimizer=optimizers.RMSprop(), loss=losses.BinaryCrossentropy(), metrics=[metrics.BinaryAccuracy()])\n",
    "    return model"
   ]
  },
  {
   "cell_type": "code",
   "execution_count": 9,
   "metadata": {},
   "outputs": [
    {
     "name": "stdout",
     "output_type": "stream",
     "text": [
      "Model: \"model_1\"\n",
      "_________________________________________________________________\n",
      " Layer (type)                Output Shape              Param #   \n",
      "=================================================================\n",
      " input_2 (InputLayer)        [(None, 20000)]           0         \n",
      "                                                                 \n",
      " dense_2 (Dense)             (None, 16)                320016    \n",
      "                                                                 \n",
      " dropout_1 (Dropout)         (None, 16)                0         \n",
      "                                                                 \n",
      " dense_3 (Dense)             (None, 1)                 17        \n",
      "                                                                 \n",
      "=================================================================\n",
      "Total params: 320033 (1.22 MB)\n",
      "Trainable params: 320033 (1.22 MB)\n",
      "Non-trainable params: 0 (0.00 Byte)\n",
      "_________________________________________________________________\n"
     ]
    },
    {
     "name": "stdout",
     "output_type": "stream",
     "text": [
      "Epoch 1/10\n",
      "600/625 [===========================>..] - ETA: 0s - loss: 0.4088 - binary_accuracy: 0.8265INFO:tensorflow:Assets written to: binary_1gram/assets\n"
     ]
    },
    {
     "name": "stderr",
     "output_type": "stream",
     "text": [
      "INFO:tensorflow:Assets written to: binary_1gram/assets\n"
     ]
    },
    {
     "name": "stdout",
     "output_type": "stream",
     "text": [
      "625/625 [==============================] - 1s 2ms/step - loss: 0.4073 - binary_accuracy: 0.8274 - val_loss: 0.2833 - val_binary_accuracy: 0.8918\n",
      "Epoch 2/10\n",
      "603/625 [===========================>..] - ETA: 0s - loss: 0.2706 - binary_accuracy: 0.8981INFO:tensorflow:Assets written to: binary_1gram/assets\n"
     ]
    },
    {
     "name": "stderr",
     "output_type": "stream",
     "text": [
      "INFO:tensorflow:Assets written to: binary_1gram/assets\n"
     ]
    },
    {
     "name": "stdout",
     "output_type": "stream",
     "text": [
      "625/625 [==============================] - 1s 2ms/step - loss: 0.2710 - binary_accuracy: 0.8979 - val_loss: 0.2769 - val_binary_accuracy: 0.8908\n",
      "Epoch 3/10\n",
      "625/625 [==============================] - 1s 1ms/step - loss: 0.2427 - binary_accuracy: 0.9153 - val_loss: 0.2853 - val_binary_accuracy: 0.8954\n",
      "Epoch 4/10\n",
      "625/625 [==============================] - 1s 1ms/step - loss: 0.2295 - binary_accuracy: 0.9216 - val_loss: 0.3016 - val_binary_accuracy: 0.8928\n",
      "Epoch 5/10\n",
      "625/625 [==============================] - 1s 2ms/step - loss: 0.2167 - binary_accuracy: 0.9275 - val_loss: 0.3172 - val_binary_accuracy: 0.8926\n",
      "Epoch 6/10\n",
      "625/625 [==============================] - 1s 2ms/step - loss: 0.2096 - binary_accuracy: 0.9318 - val_loss: 0.3268 - val_binary_accuracy: 0.8910\n",
      "Epoch 7/10\n",
      "625/625 [==============================] - 1s 1ms/step - loss: 0.2018 - binary_accuracy: 0.9351 - val_loss: 0.3394 - val_binary_accuracy: 0.8904\n",
      "Epoch 8/10\n",
      "625/625 [==============================] - 1s 1ms/step - loss: 0.1971 - binary_accuracy: 0.9388 - val_loss: 0.3475 - val_binary_accuracy: 0.8904\n",
      "Epoch 9/10\n",
      "625/625 [==============================] - 1s 2ms/step - loss: 0.1977 - binary_accuracy: 0.9377 - val_loss: 0.3576 - val_binary_accuracy: 0.8882\n",
      "Epoch 10/10\n",
      "625/625 [==============================] - 1s 1ms/step - loss: 0.1948 - binary_accuracy: 0.9401 - val_loss: 0.3699 - val_binary_accuracy: 0.8886\n",
      "782/782 [==============================] - 1s 579us/step - loss: 0.2876 - binary_accuracy: 0.8861\n",
      "[0.2875996232032776, 0.8861200213432312]\n"
     ]
    }
   ],
   "source": [
    "model = get_model()\n",
    "model.summary()\n",
    "callback_list = [\n",
    "    callbacks.ModelCheckpoint('binary_1gram', save_best_only=True)\n",
    "]\n",
    "\n",
    "model.fit(binary_1gram_train_ds, epochs=10, validation_data=binary_1gram_val_ds, callbacks=callback_list)\n",
    "\n",
    "model = keras.models.load_model('binary_1gram')\n",
    "print(model.evaluate(binary_1gram_test_ds))"
   ]
  },
  {
   "cell_type": "code",
   "execution_count": 13,
   "metadata": {},
   "outputs": [],
   "source": [
    "text_vectorization = layers.TextVectorization(ngrams=2, max_tokens=20000, output_mode='multi_hot')\n",
    "text_vectorization.adapt(text_only_train_ds)"
   ]
  },
  {
   "cell_type": "code",
   "execution_count": 16,
   "metadata": {},
   "outputs": [
    {
     "name": "stdout",
     "output_type": "stream",
     "text": [
      "Epoch 1/10\n",
      "599/625 [===========================>..] - ETA: 0s - loss: 0.3719 - binary_accuracy: 0.8458INFO:tensorflow:Assets written to: binary_2gram/assets\n"
     ]
    },
    {
     "name": "stderr",
     "output_type": "stream",
     "text": [
      "INFO:tensorflow:Assets written to: binary_2gram/assets\n"
     ]
    },
    {
     "name": "stdout",
     "output_type": "stream",
     "text": [
      "625/625 [==============================] - 1s 2ms/step - loss: 0.3708 - binary_accuracy: 0.8467 - val_loss: 0.2743 - val_binary_accuracy: 0.8948\n",
      "Epoch 2/10\n",
      "602/625 [===========================>..] - ETA: 0s - loss: 0.2452 - binary_accuracy: 0.9112INFO:tensorflow:Assets written to: binary_2gram/assets\n"
     ]
    },
    {
     "name": "stderr",
     "output_type": "stream",
     "text": [
      "INFO:tensorflow:Assets written to: binary_2gram/assets\n"
     ]
    },
    {
     "name": "stdout",
     "output_type": "stream",
     "text": [
      "625/625 [==============================] - 1s 2ms/step - loss: 0.2451 - binary_accuracy: 0.9111 - val_loss: 0.2733 - val_binary_accuracy: 0.9002\n",
      "Epoch 3/10\n",
      "625/625 [==============================] - 1s 1ms/step - loss: 0.2017 - binary_accuracy: 0.9330 - val_loss: 0.2878 - val_binary_accuracy: 0.9010\n",
      "Epoch 4/10\n",
      "625/625 [==============================] - 1s 1ms/step - loss: 0.1856 - binary_accuracy: 0.9390 - val_loss: 0.3101 - val_binary_accuracy: 0.8984\n",
      "Epoch 5/10\n",
      "625/625 [==============================] - 1s 1ms/step - loss: 0.1793 - binary_accuracy: 0.9463 - val_loss: 0.3292 - val_binary_accuracy: 0.8962\n",
      "Epoch 6/10\n",
      "625/625 [==============================] - 1s 1ms/step - loss: 0.1746 - binary_accuracy: 0.9489 - val_loss: 0.3388 - val_binary_accuracy: 0.8976\n",
      "Epoch 7/10\n",
      "625/625 [==============================] - 1s 1ms/step - loss: 0.1667 - binary_accuracy: 0.9526 - val_loss: 0.3618 - val_binary_accuracy: 0.8938\n",
      "Epoch 8/10\n",
      "625/625 [==============================] - 1s 2ms/step - loss: 0.1659 - binary_accuracy: 0.9561 - val_loss: 0.3701 - val_binary_accuracy: 0.8896\n",
      "Epoch 9/10\n",
      "625/625 [==============================] - 1s 1ms/step - loss: 0.1557 - binary_accuracy: 0.9567 - val_loss: 0.3915 - val_binary_accuracy: 0.8880\n",
      "Epoch 10/10\n",
      "625/625 [==============================] - 1s 1ms/step - loss: 0.1592 - binary_accuracy: 0.9575 - val_loss: 0.3863 - val_binary_accuracy: 0.8932\n",
      "782/782 [==============================] - 1s 601us/step - loss: 0.2748 - binary_accuracy: 0.8977\n",
      "[0.27483800053596497, 0.8976799845695496]\n"
     ]
    }
   ],
   "source": [
    "binary_2gram_train_ds = train_ds.map(lambda x, y: (text_vectorization(x), y), num_parallel_calls=16)\n",
    "binary_2gram_val_ds = val_ds.map(lambda x, y: (text_vectorization(x), y), num_parallel_calls=16)\n",
    "binary_2gram_test_ds = test_ds.map(lambda x, y: (text_vectorization(x), y), num_parallel_calls=16)\n",
    "\n",
    "model = get_model()\n",
    "callback_list = [\n",
    "    callbacks.ModelCheckpoint('binary_2gram', save_best_only=True)\n",
    "]\n",
    "\n",
    "model.fit(binary_2gram_train_ds, validation_data=binary_2gram_val_ds, epochs=10, callbacks=callback_list)\n",
    "\n",
    "model = keras.models.load_model('binary_2gram')\n",
    "print(model.evaluate(binary_2gram_test_ds))"
   ]
  },
  {
   "cell_type": "code",
   "execution_count": 17,
   "metadata": {},
   "outputs": [],
   "source": [
    "text_vectorization = layers.TextVectorization(ngrams=2, max_tokens=20000, output_mode='tf_idf')\n",
    "text_vectorization.adapt(text_only_train_ds)"
   ]
  },
  {
   "cell_type": "code",
   "execution_count": 19,
   "metadata": {},
   "outputs": [
    {
     "name": "stdout",
     "output_type": "stream",
     "text": [
      "Epoch 1/10\n",
      "615/625 [============================>.] - ETA: 0s - loss: 0.4980 - binary_accuracy: 0.7779INFO:tensorflow:Assets written to: tfidf_2gram/assets\n"
     ]
    },
    {
     "name": "stderr",
     "output_type": "stream",
     "text": [
      "INFO:tensorflow:Assets written to: tfidf_2gram/assets\n"
     ]
    },
    {
     "name": "stdout",
     "output_type": "stream",
     "text": [
      "625/625 [==============================] - 1s 2ms/step - loss: 0.4956 - binary_accuracy: 0.7785 - val_loss: 0.2976 - val_binary_accuracy: 0.8944\n",
      "Epoch 2/10\n",
      "625/625 [==============================] - 1s 1ms/step - loss: 0.3299 - binary_accuracy: 0.8676 - val_loss: 0.3101 - val_binary_accuracy: 0.8844\n",
      "Epoch 3/10\n",
      "625/625 [==============================] - 1s 1ms/step - loss: 0.2841 - binary_accuracy: 0.8899 - val_loss: 0.3039 - val_binary_accuracy: 0.8970\n",
      "Epoch 4/10\n",
      "625/625 [==============================] - 1s 1ms/step - loss: 0.2622 - binary_accuracy: 0.8992 - val_loss: 0.3261 - val_binary_accuracy: 0.8810\n",
      "Epoch 5/10\n",
      "625/625 [==============================] - 1s 1ms/step - loss: 0.2476 - binary_accuracy: 0.9043 - val_loss: 0.3430 - val_binary_accuracy: 0.8780\n",
      "Epoch 6/10\n",
      "625/625 [==============================] - 1s 1ms/step - loss: 0.2363 - binary_accuracy: 0.9053 - val_loss: 0.4036 - val_binary_accuracy: 0.8610\n",
      "Epoch 7/10\n",
      "625/625 [==============================] - 1s 1ms/step - loss: 0.2311 - binary_accuracy: 0.9093 - val_loss: 0.3623 - val_binary_accuracy: 0.8736\n",
      "Epoch 8/10\n",
      "625/625 [==============================] - 1s 1ms/step - loss: 0.2140 - binary_accuracy: 0.9133 - val_loss: 0.4012 - val_binary_accuracy: 0.8528\n",
      "Epoch 9/10\n",
      "625/625 [==============================] - 1s 1ms/step - loss: 0.2178 - binary_accuracy: 0.9118 - val_loss: 0.4034 - val_binary_accuracy: 0.8732\n",
      "Epoch 10/10\n",
      "625/625 [==============================] - 1s 1ms/step - loss: 0.2148 - binary_accuracy: 0.9126 - val_loss: 0.4183 - val_binary_accuracy: 0.8602\n",
      "782/782 [==============================] - 1s 601us/step - loss: 0.3054 - binary_accuracy: 0.8832\n",
      "[0.3053772747516632, 0.8831999897956848]\n"
     ]
    }
   ],
   "source": [
    "tfidf_2gram_train_ds = train_ds.map(lambda x, y: (text_vectorization(x), y), num_parallel_calls=16)\n",
    "tfidf_2gram_val_ds = val_ds.map(lambda x, y: (text_vectorization(x), y), num_parallel_calls=16)\n",
    "tfidf_2gram_test_ds = test_ds.map(lambda x, y: (text_vectorization(x), y), num_parallel_calls=16)\n",
    "\n",
    "callback_list = [\n",
    "    callbacks.ModelCheckpoint('tfidf_2gram', save_best_only=True)\n",
    "]\n",
    "\n",
    "model = get_model()\n",
    "model.fit(tfidf_2gram_train_ds.cache(), validation_data=tfidf_2gram_val_ds, epochs=10, callbacks=callback_list)\n",
    "\n",
    "model = keras.models.load_model('tfidf_2gram')\n",
    "print(model.evaluate(tfidf_2gram_test_ds))"
   ]
  },
  {
   "cell_type": "code",
   "execution_count": null,
   "metadata": {},
   "outputs": [],
   "source": []
  }
 ],
 "metadata": {
  "kernelspec": {
   "display_name": ".venv",
   "language": "python",
   "name": "python3"
  },
  "language_info": {
   "codemirror_mode": {
    "name": "ipython",
    "version": 3
   },
   "file_extension": ".py",
   "mimetype": "text/x-python",
   "name": "python",
   "nbconvert_exporter": "python",
   "pygments_lexer": "ipython3",
   "version": "3.11.5"
  },
  "orig_nbformat": 4
 },
 "nbformat": 4,
 "nbformat_minor": 2
}
